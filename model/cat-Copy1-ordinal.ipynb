{
 "cells": [
  {
   "cell_type": "code",
   "execution_count": 350,
   "id": "6fe3402e",
   "metadata": {},
   "outputs": [],
   "source": [
    "import pandas as pd\n",
    "import numpy as np\n",
    "import matplotlib.pyplot as plt\n",
    "import seaborn as sns\n",
    "import re\n",
    "import os\n",
    "import warnings\n",
    "warnings.filterwarnings(action='ignore')\n",
    "from catboost import *\n",
    "import sklearn\n",
    "import math\n",
    "from sklearn.preprocessing import LabelEncoder\n",
    "import math\n",
    "\n",
    "def log(train,test):\n",
    "    col_list = train.columns\n",
    "    for col in col_list :\n",
    "        if '제곱' in col:\n",
    "            train[col+'log'] = np.log1p(train[col])\n",
    "            test[col+'log'] = np.log1p(test[col])\n",
    "    return train,test\n",
    "\n",
    "def del_columns(train, test):\n",
    "    col_list = train.columns\n",
    "    nan_list = []\n",
    "    nan_cnt = []\n",
    "    nan_col = []\n",
    "    full_list = []\n",
    "    for col in col_list:\n",
    "        if train[col].isnull().sum() == 0 :\n",
    "            full_list.append(col)\n",
    "            continue\n",
    "        nan_list.append([col, train[col].isnull().sum()])\n",
    "        nan_cnt.append(train[col].isnull().sum())\n",
    "        nan_col.append(col)\n",
    "\n",
    "    '''모든값이 결측값이면 제거'''\n",
    "    del_col = []\n",
    "    for col in nan_list :\n",
    "        if col[1] == len(train) :\n",
    "            del_col.append(col[0])\n",
    "    train = train.drop(columns=del_col)\n",
    "    test = test.drop(columns=del_col)\n",
    "    \n",
    "    return train,test\n",
    "   \n",
    "def make_train_test_dataset(train,test):\n",
    "    train_x = train.drop(columns=['PRODUCT_ID','TIMESTAMP','PRODUCT_CODE','Y_Class','Y_Quality'])\n",
    "    test_x = test.drop(columns=['PRODUCT_ID','TIMESTAMP','PRODUCT_CODE'])\n",
    "    train_y = train['Y_Quality']\n",
    "    train_w = train[['Y_Class']]\n",
    "    return train_x, test_x, train_y, train_w\n",
    "\n",
    "def fillna(train,test,value):\n",
    "    train = train.fillna(value)\n",
    "    test = test.fillna(value)\n",
    "    return train,test\n",
    "\n",
    "def labelencoder(train,test,col_list):\n",
    "    qual_col = col_list\n",
    "    for i in qual_col:\n",
    "        le = LabelEncoder()\n",
    "        le = le.fit(train[i])\n",
    "        train[i] = le.transform(train[i])\n",
    "\n",
    "        for label in np.unique(test[i]): \n",
    "            if label not in le.classes_: \n",
    "                le.classes_ = np.append(le.classes_, label)\n",
    "        test[i] = le.transform(test[i]) \n",
    "    return train,test\n",
    "\n",
    "def multi_col(train,test) : \n",
    "    col_list = train.columns\n",
    "    for col in col_list :\n",
    "        if col == 'LINE':\n",
    "            continue\n",
    "        train[col+'제곱'] = (train[col]**2)//100\n",
    "        test[col+'제곱'] = (test[col]**2)//100\n",
    "    return train,test"
   ]
  },
  {
   "cell_type": "markdown",
   "id": "1c1690b0",
   "metadata": {},
   "source": [
    "# predict 0"
   ]
  },
  {
   "cell_type": "code",
   "execution_count": 351,
   "id": "40b3dbd6",
   "metadata": {},
   "outputs": [
    {
     "name": "stdout",
     "output_type": "stream",
     "text": [
      "(249, 4233) (67, 4233) (343, 1355) (239, 1355)\n"
     ]
    }
   ],
   "source": [
    "train = pd.read_csv('train.csv')\n",
    "test = pd.read_csv('test.csv')\n",
    "\n",
    "# y quality scaling\n",
    "train['Y_Quality'] = train['Y_Quality'].map(lambda x : np.log(x))\n",
    "\n",
    "train, test = del_columns(train,test)\n",
    "\n",
    "trainA_31 = train[train['PRODUCT_CODE']=='A_31']\n",
    "train_T_31 = train[train['PRODUCT_CODE']=='T_31']\n",
    "train_O_31 = train[train['PRODUCT_CODE']=='O_31']\n",
    "\n",
    "testA_31 = test[test['PRODUCT_CODE']=='A_31']\n",
    "test_T_31 = test[test['PRODUCT_CODE']=='T_31']\n",
    "test_O_31 = test[test['PRODUCT_CODE']=='O_31']\n",
    "\n",
    "trainA_31, testA_31 = del_columns(trainA_31,testA_31)\n",
    "train_T_31, test_T_31 = del_columns(train_T_31,test_T_31)\n",
    "train_O_31, test_O_31 = del_columns(train_O_31,test_O_31)\n",
    "\n",
    "trainA_31_x,testA_31_x, trainA_31_y, trainA_31_w = make_train_test_dataset(trainA_31,testA_31)\n",
    "train_T_31_x,test_T_31_x, train_T_31_y, train_T_31_w = make_train_test_dataset(train_T_31,test_T_31)\n",
    "train_O_31_x,test_O_31_x, train_O_31_y, train_O_31_w = make_train_test_dataset(train_O_31,test_O_31)\n",
    "\n",
    "trainA_31_x,testA_31_x = labelencoder(trainA_31_x,testA_31_x,['LINE'])\n",
    "train_T_31_x,test_T_31_x = labelencoder(train_T_31_x,test_T_31_x,['LINE'])\n",
    "train_O_31_x,test_O_31_x = labelencoder(train_O_31_x,test_O_31_x,['LINE'])\n",
    "\n",
    "trainA_31_x,testA_31_x = fillna(trainA_31_x,testA_31_x,-1)\n",
    "train_T_31_x,test_T_31_x = fillna(train_T_31_x,test_T_31_x,-1)\n",
    "train_O_31_x,test_O_31_x = fillna(train_O_31_x,test_O_31_x,-1)\n",
    "\n",
    "\n",
    "# 강한 추세성보이는 칼럼 중 일부 제거\n",
    "'''\n",
    "drop_a = ['X_1167','X_1168','X_1169','X_1170','X_1171','X_1274','X_1275','X_1276','X_1277','X_1278']\n",
    "drop_t = ['X_529','X_530','X_531','X_532','X_533','X_600','X_601','X_602','X_603','X_604']\n",
    "\n",
    "trainA_31_x = trainA_31_x.drop(columns=drop_a)\n",
    "testA_31_x = testA_31_x.drop(columns=drop_a)\n",
    "train_T_31_x = train_T_31_x.drop(columns=drop_t)\n",
    "test_T_31_x = test_T_31_x.drop(columns=drop_t)\n",
    "'''\n",
    "\n",
    "# {'onehot', 'onehot-dense', 'ordinal'}\n",
    "from sklearn.preprocessing import KBinsDiscretizer\n",
    "enc = KBinsDiscretizer(n_bins=3, encode='ordinal', strategy=\"kmeans\", random_state=1414)\n",
    "\n",
    "featurest = train_T_31_x.columns[1:]\n",
    "enc.fit(train_T_31_x[featurest])\n",
    "binned_df_train = enc.transform(train_T_31_x[featurest])\n",
    "binned_df_test = enc.transform(test_T_31_x[featurest])\n",
    "for i, featurest in enumerate(featurest):\n",
    "    train_T_31_x[f\"{featurest}_binned\"] = binned_df_train[:,i]\n",
    "    test_T_31_x[f\"{featurest}_binned\"] = binned_df_test[:,i]\n",
    "\n",
    "enc = KBinsDiscretizer(n_bins=3, encode='ordinal', strategy=\"kmeans\", random_state=1414)\n",
    "features = trainA_31_x.columns[1:]\n",
    "enc.fit(trainA_31_x[features])\n",
    "binned_df_train = enc.transform(trainA_31_x[features])\n",
    "binned_df_test = enc.transform(testA_31_x[features])\n",
    "for i, feature in enumerate(features):\n",
    "    trainA_31_x[f\"{feature}_binned\"] = binned_df_train[:,i]\n",
    "    testA_31_x[f\"{feature}_binned\"] = binned_df_test[:,i]\n",
    "\n",
    "print(trainA_31_x.shape,testA_31_x.shape,train_T_31_x.shape,test_T_31_x.shape)"
   ]
  },
  {
   "cell_type": "code",
   "execution_count": 352,
   "id": "043058a1",
   "metadata": {},
   "outputs": [],
   "source": [
    "# binary\n",
    "trainA_31_w.loc[(trainA_31_w['Y_Class']==2),'Y_Class']=1\n",
    "train_T_31_w.loc[(train_T_31_w['Y_Class']==2),'Y_Class']=1\n",
    "traint = pd.concat([train_T_31_x,train_T_31_w],axis = 1)\n",
    "traina = pd.concat([trainA_31_x,trainA_31_w],axis = 1)"
   ]
  },
  {
   "cell_type": "code",
   "execution_count": 353,
   "id": "50c52d66",
   "metadata": {},
   "outputs": [
    {
     "name": "stdout",
     "output_type": "stream",
     "text": [
      "134 360\n"
     ]
    }
   ],
   "source": [
    "corr_df = traint.corr()\n",
    "corr_df = corr_df.apply(lambda x: round(x ,5))\n",
    "s = corr_df.unstack()\n",
    "성장 = pd.DataFrame(s['Y_Class']).sort_values(by=0).fillna(0)\n",
    "성장[0] = abs(성장[0])\n",
    "under_05per_t = 성장[성장[0]<0.002].index\n",
    "성장 = 성장.sort_values(by=[0],ascending=False).reset_index()\n",
    "droppc_t = []\n",
    "for col in traint.columns[1:678] :\n",
    "    col_corr = traint[[col,col+'_binned']].corr()[col+'_binned'][0]\n",
    "    if col_corr > 0.70 :        \n",
    "        origin = 성장[성장['index']==col][0].values[0]\n",
    "        binned = 성장[성장['index']==col+'_binned'][0].values[0]\n",
    "        if origin >= binned :\n",
    "            droppc_t.append(col+'_binned')\n",
    "        else :\n",
    "            droppc_t.append(col)\n",
    "dropt = set(list(under_05per_t)+droppc_t+['LINE'])\n",
    "print(len(under_05per_t), len(droppc_t))"
   ]
  },
  {
   "cell_type": "code",
   "execution_count": 354,
   "id": "166fde53",
   "metadata": {},
   "outputs": [
    {
     "name": "stdout",
     "output_type": "stream",
     "text": [
      "95 1955\n"
     ]
    }
   ],
   "source": [
    "corr_df = traina.corr()\n",
    "corr_df = corr_df.apply(lambda x: round(x ,5))\n",
    "s = corr_df.unstack()\n",
    "성장 = pd.DataFrame(s['Y_Class']).sort_values(by=0).fillna(0)\n",
    "성장[0] = abs(성장[0])\n",
    "under_05per_a = 성장[성장[0]<0.007].index\n",
    "성장 = 성장.sort_values(by=[0],ascending=False).reset_index()\n",
    "droppc_a = []\n",
    "for col in traina.columns[1:2117] :\n",
    "    col_corr = traina[[col,col+'_binned']].corr()[col+'_binned'][0]\n",
    "    if col_corr > 0.70 :    \n",
    "        origin = 성장[성장['index']==col][0].values[0]\n",
    "        binned = 성장[성장['index']==col+'_binned'][0].values[0]\n",
    "        if origin >= binned :\n",
    "            droppc_a.append(col+'_binned')\n",
    "        else :\n",
    "            droppc_a.append(col)\n",
    "dropa = set(list(under_05per_a)+droppc_a+['LINE'])\n",
    "print(len(under_05per_a), len(droppc_a))"
   ]
  },
  {
   "cell_type": "code",
   "execution_count": 355,
   "id": "ffdd9662",
   "metadata": {},
   "outputs": [],
   "source": [
    "trainA_31_x = trainA_31_x.drop(columns=dropa)\n",
    "testA_31_x = testA_31_x.drop(columns=dropa)\n",
    "train_T_31_x = train_T_31_x.drop(columns=dropt)\n",
    "test_T_31_x = test_T_31_x.drop(columns=dropt)"
   ]
  },
  {
   "cell_type": "code",
   "execution_count": 356,
   "id": "cfdbce9a",
   "metadata": {},
   "outputs": [
    {
     "name": "stdout",
     "output_type": "stream",
     "text": [
      "(249, 2220) (67, 2220) (343, 866) (239, 866)\n"
     ]
    }
   ],
   "source": [
    "print(trainA_31_x.shape,testA_31_x.shape,train_T_31_x.shape,test_T_31_x.shape)"
   ]
  },
  {
   "cell_type": "code",
   "execution_count": 357,
   "id": "b3d31236",
   "metadata": {},
   "outputs": [],
   "source": [
    "catreg1 = CatBoostRegressor(random_state=1234,\n",
    "                           depth=6,\n",
    "                           verbose=500,\n",
    "                           iterations=9000,\n",
    "                           learning_rate=0.006)\n",
    "\n",
    "catreg2 = CatBoostRegressor(random_state=1234,\n",
    "                           depth=5,\n",
    "                           verbose=500,\n",
    "                           iterations=5500,\n",
    "                           learning_rate=0.018)"
   ]
  },
  {
   "cell_type": "code",
   "execution_count": 358,
   "id": "89102b7b",
   "metadata": {},
   "outputs": [
    {
     "name": "stdout",
     "output_type": "stream",
     "text": [
      "0:\tlearn: 0.0185150\ttotal: 18.6ms\tremaining: 2m 47s\n",
      "500:\tlearn: 0.0106405\ttotal: 6.39s\tremaining: 1m 48s\n",
      "1000:\tlearn: 0.0071329\ttotal: 13s\tremaining: 1m 43s\n",
      "1500:\tlearn: 0.0044514\ttotal: 19.5s\tremaining: 1m 37s\n",
      "2000:\tlearn: 0.0026863\ttotal: 26s\tremaining: 1m 30s\n",
      "2500:\tlearn: 0.0016287\ttotal: 32.4s\tremaining: 1m 24s\n",
      "3000:\tlearn: 0.0010380\ttotal: 39s\tremaining: 1m 17s\n",
      "3500:\tlearn: 0.0006803\ttotal: 45.7s\tremaining: 1m 11s\n",
      "4000:\tlearn: 0.0004500\ttotal: 52.5s\tremaining: 1m 5s\n",
      "4500:\tlearn: 0.0002957\ttotal: 59.4s\tremaining: 59.4s\n",
      "5000:\tlearn: 0.0001979\ttotal: 1m 6s\tremaining: 53.1s\n",
      "5500:\tlearn: 0.0001312\ttotal: 1m 13s\tremaining: 46.8s\n",
      "6000:\tlearn: 0.0000874\ttotal: 1m 20s\tremaining: 40.3s\n",
      "6500:\tlearn: 0.0000580\ttotal: 1m 27s\tremaining: 33.8s\n",
      "7000:\tlearn: 0.0000387\ttotal: 1m 35s\tremaining: 27.2s\n",
      "7500:\tlearn: 0.0000255\ttotal: 1m 42s\tremaining: 20.5s\n",
      "8000:\tlearn: 0.0000170\ttotal: 1m 49s\tremaining: 13.7s\n",
      "8500:\tlearn: 0.0000113\ttotal: 1m 57s\tremaining: 6.88s\n",
      "8999:\tlearn: 0.0000075\ttotal: 2m 4s\tremaining: 0us\n"
     ]
    }
   ],
   "source": [
    "catreg1.fit(trainA_31_x, trainA_31_y)\n",
    "pred_a = catreg1.predict(testA_31_x)"
   ]
  },
  {
   "cell_type": "code",
   "execution_count": 359,
   "id": "3d91cfda",
   "metadata": {},
   "outputs": [
    {
     "name": "stdout",
     "output_type": "stream",
     "text": [
      "0:\tlearn: 0.0089492\ttotal: 5.12ms\tremaining: 28.2s\n",
      "500:\tlearn: 0.0034069\ttotal: 2.27s\tremaining: 22.7s\n",
      "1000:\tlearn: 0.0012405\ttotal: 4.58s\tremaining: 20.6s\n",
      "1500:\tlearn: 0.0004998\ttotal: 6.86s\tremaining: 18.3s\n",
      "2000:\tlearn: 0.0002111\ttotal: 9.15s\tremaining: 16s\n",
      "2500:\tlearn: 0.0000834\ttotal: 11.4s\tremaining: 13.7s\n",
      "3000:\tlearn: 0.0000354\ttotal: 13.8s\tremaining: 11.5s\n",
      "3500:\tlearn: 0.0000146\ttotal: 16.1s\tremaining: 9.18s\n",
      "4000:\tlearn: 0.0000062\ttotal: 18.4s\tremaining: 6.88s\n",
      "4500:\tlearn: 0.0000027\ttotal: 20.7s\tremaining: 4.59s\n",
      "5000:\tlearn: 0.0000012\ttotal: 23s\tremaining: 2.29s\n",
      "5499:\tlearn: 0.0000005\ttotal: 25.3s\tremaining: 0us\n"
     ]
    }
   ],
   "source": [
    "catreg2.fit(train_T_31_x, train_T_31_y)\n",
    "pred_t = catreg2.predict(test_T_31_x)"
   ]
  },
  {
   "cell_type": "code",
   "execution_count": 360,
   "id": "113cd473",
   "metadata": {},
   "outputs": [],
   "source": [
    "for i in range(0,len(pred_a)):\n",
    "    if pred_a[i] <= 0.525066667  :\n",
    "        pred_a[i] = 0\n",
    "    else : pred_a[i] = 1"
   ]
  },
  {
   "cell_type": "code",
   "execution_count": 361,
   "id": "d5ac1351",
   "metadata": {},
   "outputs": [],
   "source": [
    "for i in range(0,len(pred_t)):\n",
    "    if pred_t[i] <= 0.525066667  :\n",
    "        pred_t[i] = 0\n",
    "    else : pred_t[i] = 1"
   ]
  },
  {
   "cell_type": "code",
   "execution_count": 362,
   "id": "0ac48705",
   "metadata": {},
   "outputs": [
    {
     "name": "stdout",
     "output_type": "stream",
     "text": [
      "67.0 1.0\n"
     ]
    }
   ],
   "source": [
    "print(len(pred_a) - sum(pred_a),(len(pred_a) - sum(pred_a))/len(pred_a))"
   ]
  },
  {
   "cell_type": "code",
   "execution_count": 363,
   "id": "67ba82f0",
   "metadata": {
    "scrolled": true
   },
   "outputs": [
    {
     "name": "stdout",
     "output_type": "stream",
     "text": [
      "239.0 1.0\n"
     ]
    }
   ],
   "source": [
    "print(len(pred_t) - sum(pred_t),(len(pred_t) - sum(pred_t))/len(pred_t))"
   ]
  },
  {
   "cell_type": "markdown",
   "id": "ff63780d",
   "metadata": {},
   "source": [
    "# predict 2"
   ]
  },
  {
   "cell_type": "code",
   "execution_count": 382,
   "id": "962e36f2",
   "metadata": {},
   "outputs": [
    {
     "name": "stdout",
     "output_type": "stream",
     "text": [
      "(249, 4233) (67, 4233) (343, 1355) (239, 1355)\n"
     ]
    }
   ],
   "source": [
    "train = pd.read_csv('train.csv')\n",
    "test = pd.read_csv('test.csv')\n",
    "\n",
    "# y quality scaling\n",
    "train['Y_Quality'] = train['Y_Quality'].map(lambda x : np.log(x))\n",
    "\n",
    "train, test = del_columns(train,test)\n",
    "\n",
    "trainA_31 = train[train['PRODUCT_CODE']=='A_31']\n",
    "train_T_31 = train[train['PRODUCT_CODE']=='T_31']\n",
    "train_O_31 = train[train['PRODUCT_CODE']=='O_31']\n",
    "\n",
    "testA_31 = test[test['PRODUCT_CODE']=='A_31']\n",
    "test_T_31 = test[test['PRODUCT_CODE']=='T_31']\n",
    "test_O_31 = test[test['PRODUCT_CODE']=='O_31']\n",
    "\n",
    "trainA_31, testA_31 = del_columns(trainA_31,testA_31)\n",
    "train_T_31, test_T_31 = del_columns(train_T_31,test_T_31)\n",
    "train_O_31, test_O_31 = del_columns(train_O_31,test_O_31)\n",
    "\n",
    "trainA_31_x,testA_31_x, trainA_31_y, trainA_31_w = make_train_test_dataset(trainA_31,testA_31)\n",
    "train_T_31_x,test_T_31_x, train_T_31_y, train_T_31_w = make_train_test_dataset(train_T_31,test_T_31)\n",
    "train_O_31_x,test_O_31_x, train_O_31_y, train_O_31_w = make_train_test_dataset(train_O_31,test_O_31)\n",
    "\n",
    "trainA_31_x,testA_31_x = labelencoder(trainA_31_x,testA_31_x,['LINE'])\n",
    "train_T_31_x,test_T_31_x = labelencoder(train_T_31_x,test_T_31_x,['LINE'])\n",
    "train_O_31_x,test_O_31_x = labelencoder(train_O_31_x,test_O_31_x,['LINE'])\n",
    "\n",
    "trainA_31_x,testA_31_x = fillna(trainA_31_x,testA_31_x,-1)\n",
    "train_T_31_x,test_T_31_x = fillna(train_T_31_x,test_T_31_x,-1)\n",
    "train_O_31_x,test_O_31_x = fillna(train_O_31_x,test_O_31_x,-1)\n",
    "\n",
    "# {'onehot', 'onehot-dense', 'ordinal'}\n",
    "from sklearn.preprocessing import KBinsDiscretizer\n",
    "enc = KBinsDiscretizer(n_bins=3, encode='ordinal', strategy=\"kmeans\", random_state=1414)\n",
    "\n",
    "featurest = train_T_31_x.columns[1:]\n",
    "enc.fit(train_T_31_x[featurest])\n",
    "binned_df_train = enc.transform(train_T_31_x[featurest])\n",
    "binned_df_test = enc.transform(test_T_31_x[featurest])\n",
    "for i, featurest in enumerate(featurest):\n",
    "    train_T_31_x[f\"{featurest}_binned\"] = binned_df_train[:,i]\n",
    "    test_T_31_x[f\"{featurest}_binned\"] = binned_df_test[:,i]\n",
    "\n",
    "enc = KBinsDiscretizer(n_bins=3, encode='ordinal', strategy=\"kmeans\", random_state=1414)\n",
    "features = trainA_31_x.columns[1:]\n",
    "enc.fit(trainA_31_x[features])\n",
    "binned_df_train = enc.transform(trainA_31_x[features])\n",
    "binned_df_test = enc.transform(testA_31_x[features])\n",
    "for i, feature in enumerate(features):\n",
    "    trainA_31_x[f\"{feature}_binned\"] = binned_df_train[:,i]\n",
    "    testA_31_x[f\"{feature}_binned\"] = binned_df_test[:,i]\n",
    "\n",
    "print(trainA_31_x.shape,testA_31_x.shape,train_T_31_x.shape,test_T_31_x.shape)"
   ]
  },
  {
   "cell_type": "code",
   "execution_count": 383,
   "id": "e5c38fcd",
   "metadata": {},
   "outputs": [],
   "source": [
    "# binary\n",
    "trainA_31_w.loc[(trainA_31_w['Y_Class']==0),'Y_Class']=1\n",
    "train_T_31_w.loc[(train_T_31_w['Y_Class']==0),'Y_Class']=1\n",
    "train_O_31_w.loc[(train_O_31_w['Y_Class']==0),'Y_Class']=1\n",
    "traint = pd.concat([train_T_31_x,train_T_31_w],axis = 1)\n",
    "traina = pd.concat([trainA_31_x,trainA_31_w],axis = 1)"
   ]
  },
  {
   "cell_type": "code",
   "execution_count": 384,
   "id": "582de48e",
   "metadata": {},
   "outputs": [
    {
     "name": "stdout",
     "output_type": "stream",
     "text": [
      "140 360\n"
     ]
    }
   ],
   "source": [
    "corr_df = traint.corr()\n",
    "corr_df = corr_df.apply(lambda x: round(x ,5))\n",
    "s = corr_df.unstack()\n",
    "성장 = pd.DataFrame(s['Y_Class']).sort_values(by=0).fillna(0)\n",
    "성장[0] = abs(성장[0])\n",
    "under_05per_t = 성장[성장[0]<0.001].index\n",
    "성장 = 성장.sort_values(by=[0],ascending=False).reset_index()\n",
    "droppc_t = []\n",
    "for col in traint.columns[1:678] :\n",
    "    col_corr = traint[[col,col+'_binned']].corr()[col+'_binned'][0]\n",
    "    if col_corr > 0.70 :        \n",
    "        origin = 성장[성장['index']==col][0].values[0]\n",
    "        binned = 성장[성장['index']==col+'_binned'][0].values[0]\n",
    "        if origin >= binned :\n",
    "            droppc_t.append(col+'_binned')\n",
    "        else :\n",
    "            droppc_t.append(col)\n",
    "dropt = set(list(under_05per_t)+droppc_t+['LINE'])\n",
    "print(len(under_05per_t), len(droppc_t))"
   ]
  },
  {
   "cell_type": "code",
   "execution_count": 385,
   "id": "8ff28d4d",
   "metadata": {},
   "outputs": [
    {
     "name": "stdout",
     "output_type": "stream",
     "text": [
      "59 1955\n"
     ]
    }
   ],
   "source": [
    "corr_df = traina.corr()\n",
    "corr_df = corr_df.apply(lambda x: round(x ,5))\n",
    "s = corr_df.unstack()\n",
    "성장 = pd.DataFrame(s['Y_Class']).sort_values(by=0).fillna(0)\n",
    "성장[0] = abs(성장[0])\n",
    "under_05per_a = 성장[성장[0]<0.001].index\n",
    "성장 = 성장.sort_values(by=[0],ascending=False).reset_index()\n",
    "droppc_a = []\n",
    "for col in traina.columns[1:2117] :\n",
    "    col_corr = traina[[col,col+'_binned']].corr()[col+'_binned'][0]\n",
    "    if col_corr > 0.70 :    \n",
    "        origin = 성장[성장['index']==col][0].values[0]\n",
    "        binned = 성장[성장['index']==col+'_binned'][0].values[0]\n",
    "        if origin >= binned :\n",
    "            droppc_a.append(col+'_binned')\n",
    "        else :\n",
    "            droppc_a.append(col)\n",
    "dropa = set(list(under_05per_a)+droppc_a+['LINE'])\n",
    "print(len(under_05per_a), len(droppc_a))"
   ]
  },
  {
   "cell_type": "code",
   "execution_count": 386,
   "id": "9667b7b8",
   "metadata": {},
   "outputs": [],
   "source": [
    "trainA_31_x = trainA_31_x.drop(columns=dropa)\n",
    "testA_31_x = testA_31_x.drop(columns=dropa)\n",
    "train_T_31_x = train_T_31_x.drop(columns=dropt)\n",
    "test_T_31_x = test_T_31_x.drop(columns=dropt)"
   ]
  },
  {
   "cell_type": "code",
   "execution_count": 387,
   "id": "75dcc1f1",
   "metadata": {},
   "outputs": [
    {
     "name": "stdout",
     "output_type": "stream",
     "text": [
      "(249, 2223) (67, 2223) (343, 868) (239, 868)\n"
     ]
    }
   ],
   "source": [
    "print(trainA_31_x.shape,testA_31_x.shape,train_T_31_x.shape,test_T_31_x.shape)"
   ]
  },
  {
   "cell_type": "code",
   "execution_count": 388,
   "id": "7b89c945",
   "metadata": {},
   "outputs": [],
   "source": [
    "catreg3 = CatBoostRegressor(random_state=1234,\n",
    "                           depth=5,\n",
    "                           #eval_metric='MAE',\n",
    "                           verbose=500,\n",
    "                           iterations=8000,\n",
    "                           learning_rate=0.008)\n",
    "\n",
    "catreg4 = CatBoostRegressor(random_state=1234,\n",
    "                           depth=5,\n",
    "                           #eval_metric='MAE',\n",
    "                           verbose=500,\n",
    "                           iterations=3000,\n",
    "                           learning_rate=0.017)"
   ]
  },
  {
   "cell_type": "code",
   "execution_count": 389,
   "id": "f2a65328",
   "metadata": {},
   "outputs": [
    {
     "name": "stdout",
     "output_type": "stream",
     "text": [
      "0:\tlearn: 0.0184945\ttotal: 10.8ms\tremaining: 1m 26s\n",
      "500:\tlearn: 0.0105652\ttotal: 3.74s\tremaining: 55.9s\n",
      "1000:\tlearn: 0.0067556\ttotal: 7.42s\tremaining: 51.9s\n",
      "1500:\tlearn: 0.0041407\ttotal: 11.1s\tremaining: 48.2s\n",
      "2000:\tlearn: 0.0025259\ttotal: 14.8s\tremaining: 44.5s\n",
      "2500:\tlearn: 0.0015637\ttotal: 18.6s\tremaining: 40.8s\n",
      "3000:\tlearn: 0.0009698\ttotal: 22.3s\tremaining: 37.1s\n",
      "3500:\tlearn: 0.0006195\ttotal: 26.1s\tremaining: 33.5s\n",
      "4000:\tlearn: 0.0003949\ttotal: 29.9s\tremaining: 29.9s\n",
      "4500:\tlearn: 0.0002538\ttotal: 33.7s\tremaining: 26.2s\n",
      "5000:\tlearn: 0.0001666\ttotal: 37.7s\tremaining: 22.6s\n",
      "5500:\tlearn: 0.0001076\ttotal: 41.6s\tremaining: 18.9s\n",
      "6000:\tlearn: 0.0000702\ttotal: 45.6s\tremaining: 15.2s\n",
      "6500:\tlearn: 0.0000454\ttotal: 49.7s\tremaining: 11.4s\n",
      "7000:\tlearn: 0.0000296\ttotal: 53.7s\tremaining: 7.66s\n",
      "7500:\tlearn: 0.0000196\ttotal: 57.8s\tremaining: 3.85s\n",
      "7999:\tlearn: 0.0000129\ttotal: 1m 1s\tremaining: 0us\n"
     ]
    }
   ],
   "source": [
    "catreg3.fit(trainA_31_x, trainA_31_y)\n",
    "pred_a2 = catreg3.predict(testA_31_x)"
   ]
  },
  {
   "cell_type": "code",
   "execution_count": 390,
   "id": "3c4187ae",
   "metadata": {},
   "outputs": [
    {
     "name": "stdout",
     "output_type": "stream",
     "text": [
      "0:\tlearn: 0.0089540\ttotal: 6.05ms\tremaining: 18.1s\n",
      "500:\tlearn: 0.0038989\ttotal: 2.09s\tremaining: 10.4s\n",
      "1000:\tlearn: 0.0015680\ttotal: 4.24s\tremaining: 8.47s\n",
      "1500:\tlearn: 0.0006483\ttotal: 6.39s\tremaining: 6.38s\n",
      "2000:\tlearn: 0.0003117\ttotal: 8.54s\tremaining: 4.26s\n",
      "2500:\tlearn: 0.0001478\ttotal: 10.7s\tremaining: 2.13s\n",
      "2999:\tlearn: 0.0000662\ttotal: 12.9s\tremaining: 0us\n"
     ]
    }
   ],
   "source": [
    "catreg4.fit(train_T_31_x, train_T_31_y)\n",
    "pred_t2 = catreg4.predict(test_T_31_x)"
   ]
  },
  {
   "cell_type": "code",
   "execution_count": 391,
   "id": "d504c4b3",
   "metadata": {},
   "outputs": [],
   "source": [
    "for i in range(0,len(pred_a2)):\n",
    "    if pred_a2[i] < 0.534950794   :     \n",
    "        pred_a2[i] = 1\n",
    "    else : pred_a2[i] = 2"
   ]
  },
  {
   "cell_type": "code",
   "execution_count": 392,
   "id": "26f8b0c6",
   "metadata": {},
   "outputs": [
    {
     "data": {
      "text/plain": [
       "0.0"
      ]
     },
     "execution_count": 392,
     "metadata": {},
     "output_type": "execute_result"
    }
   ],
   "source": [
    "-len(pred_a2) + sum(pred_a2)"
   ]
  },
  {
   "cell_type": "code",
   "execution_count": 393,
   "id": "d18bdbf4",
   "metadata": {},
   "outputs": [],
   "source": [
    "for i in range(0,len(pred_t2)):\n",
    "    if pred_t2[i] < 0.534950794   :     \n",
    "        pred_t2[i] = 1\n",
    "    else : pred_t2[i] = 2"
   ]
  },
  {
   "cell_type": "code",
   "execution_count": 394,
   "id": "5792df10",
   "metadata": {},
   "outputs": [
    {
     "data": {
      "text/plain": [
       "0.0"
      ]
     },
     "execution_count": 394,
     "metadata": {},
     "output_type": "execute_result"
    }
   ],
   "source": [
    "-len(pred_t2) + sum(pred_t2)"
   ]
  },
  {
   "cell_type": "code",
   "execution_count": 377,
   "id": "bdd09be9",
   "metadata": {},
   "outputs": [],
   "source": [
    "testA_31['Y_2'] = pred_a2\n",
    "test_T_31['Y_2'] = pred_t2\n",
    "\n",
    "testA_31['Y_0'] = pred_a\n",
    "test_T_31['Y_0'] = pred_t\n",
    "\n",
    "testA_31['Y_Class'] = 1\n",
    "test_T_31['Y_Class'] = 1\n",
    "test_O_31['Y_Class'] = 1\n",
    "\n",
    "testA_31.loc[(testA_31['Y_0']==0  ), 'Y_Class'] = 0\n",
    "testA_31.loc[(testA_31['Y_2']==2  ), 'Y_Class'] = 2\n",
    "test_T_31.loc[(test_T_31['Y_0']==0  ), 'Y_Class'] = 0\n",
    "test_T_31.loc[(test_T_31['Y_2']==2  ), 'Y_Class'] = 2\n",
    "\n",
    "submita = pd.read_csv('sample_submission.csv')\n",
    "submitt = pd.read_csv('sample_submission.csv')\n",
    "submito = pd.read_csv('sample_submission.csv')\n",
    "\n",
    "submita = pd.merge(submita[['PRODUCT_ID']],testA_31[['PRODUCT_ID','Y_Class']],on='PRODUCT_ID')\n",
    "submitt = pd.merge(submitt[['PRODUCT_ID']],test_T_31[['PRODUCT_ID','Y_Class']],on='PRODUCT_ID')\n",
    "submito = pd.merge(submito[['PRODUCT_ID']],test_O_31[['PRODUCT_ID','Y_Class']],on='PRODUCT_ID')\n",
    "\n",
    "pd.concat([submita,submitt,submito]).sort_values(by='PRODUCT_ID').to_csv('corrrlo.csv',index=False)"
   ]
  },
  {
   "cell_type": "code",
   "execution_count": 378,
   "id": "e109e53f",
   "metadata": {},
   "outputs": [],
   "source": [
    "ddd = pd.read_csv('corrrlo.csv')"
   ]
  },
  {
   "cell_type": "code",
   "execution_count": 235,
   "id": "69dfc915",
   "metadata": {},
   "outputs": [],
   "source": [
    "kd = pd.read_csv('따로.csv')"
   ]
  },
  {
   "cell_type": "code",
   "execution_count": 254,
   "id": "3b0d8520",
   "metadata": {},
   "outputs": [
    {
     "data": {
      "text/plain": [
       "1    0.829032\n",
       "0    0.132258\n",
       "2    0.038710\n",
       "Name: Y_Class, dtype: float64"
      ]
     },
     "execution_count": 254,
     "metadata": {},
     "output_type": "execute_result"
    }
   ],
   "source": [
    "ddd['Y_Class'].value_counts()/len(ddd)"
   ]
  },
  {
   "cell_type": "code",
   "execution_count": 379,
   "id": "7bbad771",
   "metadata": {},
   "outputs": [
    {
     "data": {
      "text/plain": [
       "0    306\n",
       "1      4\n",
       "Name: Y_Class, dtype: int64"
      ]
     },
     "execution_count": 379,
     "metadata": {},
     "output_type": "execute_result"
    }
   ],
   "source": [
    "ddd['Y_Class'].value_counts()"
   ]
  },
  {
   "cell_type": "code",
   "execution_count": 279,
   "id": "76fb35a0",
   "metadata": {
    "scrolled": true
   },
   "outputs": [
    {
     "data": {
      "text/html": [
       "<div>\n",
       "<style scoped>\n",
       "    .dataframe tbody tr th:only-of-type {\n",
       "        vertical-align: middle;\n",
       "    }\n",
       "\n",
       "    .dataframe tbody tr th {\n",
       "        vertical-align: top;\n",
       "    }\n",
       "\n",
       "    .dataframe thead th {\n",
       "        text-align: right;\n",
       "    }\n",
       "</style>\n",
       "<table border=\"1\" class=\"dataframe\">\n",
       "  <thead>\n",
       "    <tr style=\"text-align: right;\">\n",
       "      <th></th>\n",
       "      <th>PRODUCT_ID</th>\n",
       "      <th>Y_Class</th>\n",
       "    </tr>\n",
       "  </thead>\n",
       "  <tbody>\n",
       "    <tr>\n",
       "      <th>3</th>\n",
       "      <td>TEST_003</td>\n",
       "      <td>0</td>\n",
       "    </tr>\n",
       "    <tr>\n",
       "      <th>7</th>\n",
       "      <td>TEST_007</td>\n",
       "      <td>0</td>\n",
       "    </tr>\n",
       "    <tr>\n",
       "      <th>8</th>\n",
       "      <td>TEST_008</td>\n",
       "      <td>0</td>\n",
       "    </tr>\n",
       "    <tr>\n",
       "      <th>13</th>\n",
       "      <td>TEST_013</td>\n",
       "      <td>0</td>\n",
       "    </tr>\n",
       "    <tr>\n",
       "      <th>14</th>\n",
       "      <td>TEST_014</td>\n",
       "      <td>0</td>\n",
       "    </tr>\n",
       "    <tr>\n",
       "      <th>35</th>\n",
       "      <td>TEST_035</td>\n",
       "      <td>0</td>\n",
       "    </tr>\n",
       "    <tr>\n",
       "      <th>36</th>\n",
       "      <td>TEST_036</td>\n",
       "      <td>0</td>\n",
       "    </tr>\n",
       "    <tr>\n",
       "      <th>37</th>\n",
       "      <td>TEST_037</td>\n",
       "      <td>0</td>\n",
       "    </tr>\n",
       "    <tr>\n",
       "      <th>39</th>\n",
       "      <td>TEST_039</td>\n",
       "      <td>0</td>\n",
       "    </tr>\n",
       "    <tr>\n",
       "      <th>41</th>\n",
       "      <td>TEST_041</td>\n",
       "      <td>0</td>\n",
       "    </tr>\n",
       "    <tr>\n",
       "      <th>42</th>\n",
       "      <td>TEST_042</td>\n",
       "      <td>0</td>\n",
       "    </tr>\n",
       "    <tr>\n",
       "      <th>47</th>\n",
       "      <td>TEST_047</td>\n",
       "      <td>0</td>\n",
       "    </tr>\n",
       "    <tr>\n",
       "      <th>49</th>\n",
       "      <td>TEST_049</td>\n",
       "      <td>0</td>\n",
       "    </tr>\n",
       "    <tr>\n",
       "      <th>51</th>\n",
       "      <td>TEST_051</td>\n",
       "      <td>0</td>\n",
       "    </tr>\n",
       "    <tr>\n",
       "      <th>52</th>\n",
       "      <td>TEST_052</td>\n",
       "      <td>0</td>\n",
       "    </tr>\n",
       "    <tr>\n",
       "      <th>53</th>\n",
       "      <td>TEST_053</td>\n",
       "      <td>0</td>\n",
       "    </tr>\n",
       "    <tr>\n",
       "      <th>55</th>\n",
       "      <td>TEST_055</td>\n",
       "      <td>0</td>\n",
       "    </tr>\n",
       "    <tr>\n",
       "      <th>61</th>\n",
       "      <td>TEST_061</td>\n",
       "      <td>0</td>\n",
       "    </tr>\n",
       "    <tr>\n",
       "      <th>62</th>\n",
       "      <td>TEST_062</td>\n",
       "      <td>0</td>\n",
       "    </tr>\n",
       "    <tr>\n",
       "      <th>63</th>\n",
       "      <td>TEST_063</td>\n",
       "      <td>0</td>\n",
       "    </tr>\n",
       "    <tr>\n",
       "      <th>64</th>\n",
       "      <td>TEST_064</td>\n",
       "      <td>0</td>\n",
       "    </tr>\n",
       "    <tr>\n",
       "      <th>65</th>\n",
       "      <td>TEST_065</td>\n",
       "      <td>0</td>\n",
       "    </tr>\n",
       "    <tr>\n",
       "      <th>66</th>\n",
       "      <td>TEST_066</td>\n",
       "      <td>0</td>\n",
       "    </tr>\n",
       "    <tr>\n",
       "      <th>71</th>\n",
       "      <td>TEST_071</td>\n",
       "      <td>0</td>\n",
       "    </tr>\n",
       "    <tr>\n",
       "      <th>86</th>\n",
       "      <td>TEST_086</td>\n",
       "      <td>0</td>\n",
       "    </tr>\n",
       "    <tr>\n",
       "      <th>88</th>\n",
       "      <td>TEST_088</td>\n",
       "      <td>0</td>\n",
       "    </tr>\n",
       "    <tr>\n",
       "      <th>130</th>\n",
       "      <td>TEST_130</td>\n",
       "      <td>0</td>\n",
       "    </tr>\n",
       "    <tr>\n",
       "      <th>131</th>\n",
       "      <td>TEST_131</td>\n",
       "      <td>0</td>\n",
       "    </tr>\n",
       "    <tr>\n",
       "      <th>132</th>\n",
       "      <td>TEST_132</td>\n",
       "      <td>0</td>\n",
       "    </tr>\n",
       "    <tr>\n",
       "      <th>142</th>\n",
       "      <td>TEST_142</td>\n",
       "      <td>0</td>\n",
       "    </tr>\n",
       "    <tr>\n",
       "      <th>248</th>\n",
       "      <td>TEST_248</td>\n",
       "      <td>0</td>\n",
       "    </tr>\n",
       "    <tr>\n",
       "      <th>249</th>\n",
       "      <td>TEST_249</td>\n",
       "      <td>0</td>\n",
       "    </tr>\n",
       "    <tr>\n",
       "      <th>250</th>\n",
       "      <td>TEST_250</td>\n",
       "      <td>0</td>\n",
       "    </tr>\n",
       "    <tr>\n",
       "      <th>251</th>\n",
       "      <td>TEST_251</td>\n",
       "      <td>0</td>\n",
       "    </tr>\n",
       "    <tr>\n",
       "      <th>252</th>\n",
       "      <td>TEST_252</td>\n",
       "      <td>0</td>\n",
       "    </tr>\n",
       "    <tr>\n",
       "      <th>253</th>\n",
       "      <td>TEST_253</td>\n",
       "      <td>0</td>\n",
       "    </tr>\n",
       "    <tr>\n",
       "      <th>254</th>\n",
       "      <td>TEST_254</td>\n",
       "      <td>0</td>\n",
       "    </tr>\n",
       "    <tr>\n",
       "      <th>255</th>\n",
       "      <td>TEST_255</td>\n",
       "      <td>0</td>\n",
       "    </tr>\n",
       "    <tr>\n",
       "      <th>284</th>\n",
       "      <td>TEST_284</td>\n",
       "      <td>0</td>\n",
       "    </tr>\n",
       "    <tr>\n",
       "      <th>285</th>\n",
       "      <td>TEST_285</td>\n",
       "      <td>0</td>\n",
       "    </tr>\n",
       "    <tr>\n",
       "      <th>286</th>\n",
       "      <td>TEST_286</td>\n",
       "      <td>0</td>\n",
       "    </tr>\n",
       "    <tr>\n",
       "      <th>292</th>\n",
       "      <td>TEST_292</td>\n",
       "      <td>0</td>\n",
       "    </tr>\n",
       "    <tr>\n",
       "      <th>293</th>\n",
       "      <td>TEST_293</td>\n",
       "      <td>0</td>\n",
       "    </tr>\n",
       "  </tbody>\n",
       "</table>\n",
       "</div>"
      ],
      "text/plain": [
       "    PRODUCT_ID  Y_Class\n",
       "3     TEST_003        0\n",
       "7     TEST_007        0\n",
       "8     TEST_008        0\n",
       "13    TEST_013        0\n",
       "14    TEST_014        0\n",
       "35    TEST_035        0\n",
       "36    TEST_036        0\n",
       "37    TEST_037        0\n",
       "39    TEST_039        0\n",
       "41    TEST_041        0\n",
       "42    TEST_042        0\n",
       "47    TEST_047        0\n",
       "49    TEST_049        0\n",
       "51    TEST_051        0\n",
       "52    TEST_052        0\n",
       "53    TEST_053        0\n",
       "55    TEST_055        0\n",
       "61    TEST_061        0\n",
       "62    TEST_062        0\n",
       "63    TEST_063        0\n",
       "64    TEST_064        0\n",
       "65    TEST_065        0\n",
       "66    TEST_066        0\n",
       "71    TEST_071        0\n",
       "86    TEST_086        0\n",
       "88    TEST_088        0\n",
       "130   TEST_130        0\n",
       "131   TEST_131        0\n",
       "132   TEST_132        0\n",
       "142   TEST_142        0\n",
       "248   TEST_248        0\n",
       "249   TEST_249        0\n",
       "250   TEST_250        0\n",
       "251   TEST_251        0\n",
       "252   TEST_252        0\n",
       "253   TEST_253        0\n",
       "254   TEST_254        0\n",
       "255   TEST_255        0\n",
       "284   TEST_284        0\n",
       "285   TEST_285        0\n",
       "286   TEST_286        0\n",
       "292   TEST_292        0\n",
       "293   TEST_293        0"
      ]
     },
     "execution_count": 279,
     "metadata": {},
     "output_type": "execute_result"
    }
   ],
   "source": [
    "kd[kd['Y_Class']==0]"
   ]
  },
  {
   "cell_type": "code",
   "execution_count": 380,
   "id": "24ee1a69",
   "metadata": {
    "scrolled": true
   },
   "outputs": [
    {
     "data": {
      "text/html": [
       "<div>\n",
       "<style scoped>\n",
       "    .dataframe tbody tr th:only-of-type {\n",
       "        vertical-align: middle;\n",
       "    }\n",
       "\n",
       "    .dataframe tbody tr th {\n",
       "        vertical-align: top;\n",
       "    }\n",
       "\n",
       "    .dataframe thead th {\n",
       "        text-align: right;\n",
       "    }\n",
       "</style>\n",
       "<table border=\"1\" class=\"dataframe\">\n",
       "  <thead>\n",
       "    <tr style=\"text-align: right;\">\n",
       "      <th></th>\n",
       "      <th>PRODUCT_ID</th>\n",
       "      <th>Y_Class</th>\n",
       "    </tr>\n",
       "  </thead>\n",
       "  <tbody>\n",
       "    <tr>\n",
       "      <th>0</th>\n",
       "      <td>TEST_000</td>\n",
       "      <td>0</td>\n",
       "    </tr>\n",
       "    <tr>\n",
       "      <th>1</th>\n",
       "      <td>TEST_001</td>\n",
       "      <td>0</td>\n",
       "    </tr>\n",
       "    <tr>\n",
       "      <th>2</th>\n",
       "      <td>TEST_002</td>\n",
       "      <td>0</td>\n",
       "    </tr>\n",
       "    <tr>\n",
       "      <th>3</th>\n",
       "      <td>TEST_003</td>\n",
       "      <td>0</td>\n",
       "    </tr>\n",
       "    <tr>\n",
       "      <th>4</th>\n",
       "      <td>TEST_004</td>\n",
       "      <td>0</td>\n",
       "    </tr>\n",
       "    <tr>\n",
       "      <th>...</th>\n",
       "      <td>...</td>\n",
       "      <td>...</td>\n",
       "    </tr>\n",
       "    <tr>\n",
       "      <th>305</th>\n",
       "      <td>TEST_305</td>\n",
       "      <td>0</td>\n",
       "    </tr>\n",
       "    <tr>\n",
       "      <th>306</th>\n",
       "      <td>TEST_306</td>\n",
       "      <td>0</td>\n",
       "    </tr>\n",
       "    <tr>\n",
       "      <th>307</th>\n",
       "      <td>TEST_307</td>\n",
       "      <td>0</td>\n",
       "    </tr>\n",
       "    <tr>\n",
       "      <th>308</th>\n",
       "      <td>TEST_308</td>\n",
       "      <td>0</td>\n",
       "    </tr>\n",
       "    <tr>\n",
       "      <th>309</th>\n",
       "      <td>TEST_309</td>\n",
       "      <td>0</td>\n",
       "    </tr>\n",
       "  </tbody>\n",
       "</table>\n",
       "<p>306 rows × 2 columns</p>\n",
       "</div>"
      ],
      "text/plain": [
       "    PRODUCT_ID  Y_Class\n",
       "0     TEST_000        0\n",
       "1     TEST_001        0\n",
       "2     TEST_002        0\n",
       "3     TEST_003        0\n",
       "4     TEST_004        0\n",
       "..         ...      ...\n",
       "305   TEST_305        0\n",
       "306   TEST_306        0\n",
       "307   TEST_307        0\n",
       "308   TEST_308        0\n",
       "309   TEST_309        0\n",
       "\n",
       "[306 rows x 2 columns]"
      ]
     },
     "execution_count": 380,
     "metadata": {},
     "output_type": "execute_result"
    }
   ],
   "source": [
    "ddd[ddd['Y_Class']==0]"
   ]
  },
  {
   "cell_type": "code",
   "execution_count": 381,
   "id": "86627603",
   "metadata": {},
   "outputs": [
    {
     "data": {
      "text/html": [
       "<div>\n",
       "<style scoped>\n",
       "    .dataframe tbody tr th:only-of-type {\n",
       "        vertical-align: middle;\n",
       "    }\n",
       "\n",
       "    .dataframe tbody tr th {\n",
       "        vertical-align: top;\n",
       "    }\n",
       "\n",
       "    .dataframe thead th {\n",
       "        text-align: right;\n",
       "    }\n",
       "</style>\n",
       "<table border=\"1\" class=\"dataframe\">\n",
       "  <thead>\n",
       "    <tr style=\"text-align: right;\">\n",
       "      <th></th>\n",
       "      <th>PRODUCT_ID</th>\n",
       "      <th>Y_Class</th>\n",
       "    </tr>\n",
       "  </thead>\n",
       "  <tbody>\n",
       "  </tbody>\n",
       "</table>\n",
       "</div>"
      ],
      "text/plain": [
       "Empty DataFrame\n",
       "Columns: [PRODUCT_ID, Y_Class]\n",
       "Index: []"
      ]
     },
     "execution_count": 381,
     "metadata": {},
     "output_type": "execute_result"
    }
   ],
   "source": [
    "ddd[ddd['Y_Class']==2]"
   ]
  },
  {
   "cell_type": "code",
   "execution_count": 205,
   "id": "562219f2",
   "metadata": {},
   "outputs": [
    {
     "data": {
      "text/html": [
       "<div>\n",
       "<style scoped>\n",
       "    .dataframe tbody tr th:only-of-type {\n",
       "        vertical-align: middle;\n",
       "    }\n",
       "\n",
       "    .dataframe tbody tr th {\n",
       "        vertical-align: top;\n",
       "    }\n",
       "\n",
       "    .dataframe thead th {\n",
       "        text-align: right;\n",
       "    }\n",
       "</style>\n",
       "<table border=\"1\" class=\"dataframe\">\n",
       "  <thead>\n",
       "    <tr style=\"text-align: right;\">\n",
       "      <th></th>\n",
       "      <th>PRODUCT_ID</th>\n",
       "      <th>Y_Class</th>\n",
       "    </tr>\n",
       "  </thead>\n",
       "  <tbody>\n",
       "    <tr>\n",
       "      <th>38</th>\n",
       "      <td>TEST_038</td>\n",
       "      <td>2</td>\n",
       "    </tr>\n",
       "    <tr>\n",
       "      <th>78</th>\n",
       "      <td>TEST_078</td>\n",
       "      <td>2</td>\n",
       "    </tr>\n",
       "    <tr>\n",
       "      <th>109</th>\n",
       "      <td>TEST_109</td>\n",
       "      <td>2</td>\n",
       "    </tr>\n",
       "    <tr>\n",
       "      <th>115</th>\n",
       "      <td>TEST_115</td>\n",
       "      <td>2</td>\n",
       "    </tr>\n",
       "    <tr>\n",
       "      <th>160</th>\n",
       "      <td>TEST_160</td>\n",
       "      <td>2</td>\n",
       "    </tr>\n",
       "    <tr>\n",
       "      <th>161</th>\n",
       "      <td>TEST_161</td>\n",
       "      <td>2</td>\n",
       "    </tr>\n",
       "    <tr>\n",
       "      <th>163</th>\n",
       "      <td>TEST_163</td>\n",
       "      <td>2</td>\n",
       "    </tr>\n",
       "    <tr>\n",
       "      <th>169</th>\n",
       "      <td>TEST_169</td>\n",
       "      <td>2</td>\n",
       "    </tr>\n",
       "    <tr>\n",
       "      <th>177</th>\n",
       "      <td>TEST_177</td>\n",
       "      <td>2</td>\n",
       "    </tr>\n",
       "    <tr>\n",
       "      <th>183</th>\n",
       "      <td>TEST_183</td>\n",
       "      <td>2</td>\n",
       "    </tr>\n",
       "  </tbody>\n",
       "</table>\n",
       "</div>"
      ],
      "text/plain": [
       "    PRODUCT_ID  Y_Class\n",
       "38    TEST_038        2\n",
       "78    TEST_078        2\n",
       "109   TEST_109        2\n",
       "115   TEST_115        2\n",
       "160   TEST_160        2\n",
       "161   TEST_161        2\n",
       "163   TEST_163        2\n",
       "169   TEST_169        2\n",
       "177   TEST_177        2\n",
       "183   TEST_183        2"
      ]
     },
     "execution_count": 205,
     "metadata": {},
     "output_type": "execute_result"
    }
   ],
   "source": [
    "kd[kd['Y_Class']==2]"
   ]
  }
 ],
 "metadata": {
  "kernelspec": {
   "display_name": "Python 3 (ipykernel)",
   "language": "python",
   "name": "python3"
  },
  "language_info": {
   "codemirror_mode": {
    "name": "ipython",
    "version": 3
   },
   "file_extension": ".py",
   "mimetype": "text/x-python",
   "name": "python",
   "nbconvert_exporter": "python",
   "pygments_lexer": "ipython3",
   "version": "3.9.16"
  }
 },
 "nbformat": 4,
 "nbformat_minor": 5
}
