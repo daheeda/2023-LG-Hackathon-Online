{
 "cells": [
  {
   "cell_type": "code",
   "execution_count": 2,
   "id": "6fe3402e",
   "metadata": {},
   "outputs": [],
   "source": [
    "import pandas as pd\n",
    "import numpy as np\n",
    "import matplotlib.pyplot as plt\n",
    "import seaborn as sns\n",
    "import re\n",
    "import os\n",
    "import warnings\n",
    "warnings.filterwarnings(action='ignore')\n",
    "from catboost import *\n",
    "import sklearn\n",
    "import math\n",
    "from sklearn.preprocessing import LabelEncoder\n",
    "import math\n",
    "\n",
    "def log(train,test):\n",
    "    col_list = train.columns\n",
    "    for col in col_list :\n",
    "        if '제곱' in col:\n",
    "            train[col+'log'] = np.log1p(train[col])\n",
    "            test[col+'log'] = np.log1p(test[col])\n",
    "    return train,test\n",
    "\n",
    "def del_columns(train, test):\n",
    "    col_list = train.columns\n",
    "    nan_list = []\n",
    "    nan_cnt = []\n",
    "    nan_col = []\n",
    "    full_list = []\n",
    "    for col in col_list:\n",
    "        if train[col].isnull().sum() == 0 :\n",
    "            full_list.append(col)\n",
    "            continue\n",
    "        nan_list.append([col, train[col].isnull().sum()])\n",
    "        nan_cnt.append(train[col].isnull().sum())\n",
    "        nan_col.append(col)\n",
    "\n",
    "    '''모든값이 결측값이면 제거'''\n",
    "    del_col = []\n",
    "    for col in nan_list :\n",
    "        if col[1] == len(train) :\n",
    "            del_col.append(col[0])\n",
    "    train = train.drop(columns=del_col)\n",
    "    test = test.drop(columns=del_col)\n",
    "    \n",
    "    '''값이 1개 존재하면 제거'''\n",
    "    del_col = []\n",
    "    col_list = train.describe().columns\n",
    "    for col in col_list :\n",
    "        if col == 'Y_Class':\n",
    "            continue\n",
    "        if col == 'Y_Quality':\n",
    "            continue\n",
    "        if col == 'LINE':\n",
    "            continue\n",
    "        if col == 'PRODUCT_CODE':\n",
    "            continue\n",
    "        if train[col].nunique()==1 :\n",
    "            del_col.append(col)\n",
    "    train = train.drop(columns=del_col)\n",
    "    test = test.drop(columns=del_col)\n",
    "    \n",
    "    return train,test\n",
    "   \n",
    "def make_train_test_dataset(train,test):\n",
    "    train_x = train.drop(columns=['PRODUCT_ID','TIMESTAMP','PRODUCT_CODE','Y_Class','Y_Quality'])\n",
    "    test_x = test.drop(columns=['PRODUCT_ID','TIMESTAMP','PRODUCT_CODE'])\n",
    "    train_y = train['Y_Quality']\n",
    "    train_w = train[['Y_Class']]\n",
    "    return train_x, test_x, train_y, train_w\n",
    "\n",
    "def fillna(train,test,value):\n",
    "    train = train.fillna(value)\n",
    "    test = test.fillna(value)\n",
    "    return train,test\n",
    "\n",
    "def labelencoder(train,test,col_list):\n",
    "    qual_col = col_list\n",
    "    for i in qual_col:\n",
    "        le = LabelEncoder()\n",
    "        le = le.fit(train[i])\n",
    "        train[i] = le.transform(train[i])\n",
    "\n",
    "        for label in np.unique(test[i]): \n",
    "            if label not in le.classes_: \n",
    "                le.classes_ = np.append(le.classes_, label)\n",
    "        test[i] = le.transform(test[i]) \n",
    "    return train,test\n",
    "\n",
    "def multi_col(train,test) : \n",
    "    col_list = train.columns\n",
    "    for col in col_list :\n",
    "        if col == 'LINE':\n",
    "            continue\n",
    "        train[col+'제곱'] = (train[col]**2)//100\n",
    "        test[col+'제곱'] = (test[col]**2)//100\n",
    "    return train,test"
   ]
  },
  {
   "cell_type": "markdown",
   "id": "1c1690b0",
   "metadata": {},
   "source": [
    "# (1) model1 -> 0 "
   ]
  },
  {
   "cell_type": "code",
   "execution_count": 126,
   "id": "40b3dbd6",
   "metadata": {},
   "outputs": [
    {
     "name": "stdout",
     "output_type": "stream",
     "text": [
      "(249, 3711) (67, 3711) (343, 1079) (239, 1079)\n"
     ]
    }
   ],
   "source": [
    "train = pd.read_csv('train.csv')\n",
    "test = pd.read_csv('test.csv')\n",
    "\n",
    "# y quality scaling\n",
    "train['Y_Quality'] = train['Y_Quality'].map(lambda x : np.log(x))\n",
    "\n",
    "train, test = del_columns(train,test)\n",
    "\n",
    "trainA_31 = train[train['PRODUCT_CODE']=='A_31']\n",
    "train_T_31 = train[train['PRODUCT_CODE']=='T_31']\n",
    "train_O_31 = train[train['PRODUCT_CODE']=='O_31']\n",
    "\n",
    "testA_31 = test[test['PRODUCT_CODE']=='A_31']\n",
    "test_T_31 = test[test['PRODUCT_CODE']=='T_31']\n",
    "test_O_31 = test[test['PRODUCT_CODE']=='O_31']\n",
    "\n",
    "trainA_31, testA_31 = del_columns(trainA_31,testA_31)\n",
    "train_T_31, test_T_31 = del_columns(train_T_31,test_T_31)\n",
    "train_O_31, test_O_31 = del_columns(train_O_31,test_O_31)\n",
    "\n",
    "trainA_31_x,testA_31_x, trainA_31_y, trainA_31_w = make_train_test_dataset(trainA_31,testA_31)\n",
    "train_T_31_x,test_T_31_x, train_T_31_y, train_T_31_w = make_train_test_dataset(train_T_31,test_T_31)\n",
    "train_O_31_x,test_O_31_x, train_O_31_y, train_O_31_w = make_train_test_dataset(train_O_31,test_O_31)\n",
    "\n",
    "trainA_31_x,testA_31_x = labelencoder(trainA_31_x,testA_31_x,['LINE'])\n",
    "train_T_31_x,test_T_31_x = labelencoder(train_T_31_x,test_T_31_x,['LINE'])\n",
    "train_O_31_x,test_O_31_x = labelencoder(train_O_31_x,test_O_31_x,['LINE'])\n",
    "\n",
    "trainA_31_x,testA_31_x = fillna(trainA_31_x,testA_31_x,-1)\n",
    "train_T_31_x,test_T_31_x = fillna(train_T_31_x,test_T_31_x,-1)\n",
    "train_O_31_x,test_O_31_x = fillna(train_O_31_x,test_O_31_x,-1)\n",
    "\n",
    "\n",
    "# 강한 추세성보이는 칼럼 중 일부 제거\n",
    "drop_a = ['X_1167','X_1168','X_1169','X_1170','X_1171','X_1274','X_1275','X_1276','X_1277','X_1278']\n",
    "drop_t = ['X_529','X_530','X_531','X_532','X_533','X_600','X_601','X_602','X_603','X_604']\n",
    "\n",
    "trainA_31_x = trainA_31_x.drop(columns=drop_a)\n",
    "testA_31_x = testA_31_x.drop(columns=drop_a)\n",
    "train_T_31_x = train_T_31_x.drop(columns=drop_t)\n",
    "test_T_31_x = test_T_31_x.drop(columns=drop_t)\n",
    "\n",
    "'''\n",
    "trainA_31_x,testA_31_x = multi_col(trainA_31_x,testA_31_x)\n",
    "train_T_31_x,test_T_31_x = multi_col(train_T_31_x,test_T_31_x)\n",
    "train_O_31_x,test_O_31_x = multi_col(train_O_31_x,test_O_31_x)\n",
    "\n",
    "trainA_31_x,testA_31_x = log(trainA_31_x,testA_31_x)\n",
    "train_T_31_x,test_T_31_x = log(train_T_31_x,test_T_31_x)\n",
    "train_O_31_x,test_O_31_x = log(train_O_31_x,test_O_31_x)\n",
    "'''\n",
    "\n",
    "from sklearn.preprocessing import KBinsDiscretizer\n",
    "enc = KBinsDiscretizer(n_bins=6, encode='ordinal', strategy=\"quantile\", random_state=1414)\n",
    "\n",
    "features = train_T_31_x.columns[1:]\n",
    "enc.fit(train_T_31_x[features])\n",
    "binned_df_train = enc.transform(train_T_31_x[features])\n",
    "binned_df_test = enc.transform(test_T_31_x[features])\n",
    "for i, feature in enumerate(features):\n",
    "    train_T_31_x[f\"{feature}_binned\"] = binned_df_train[:,i]\n",
    "    test_T_31_x[f\"{feature}_binned\"] = binned_df_test[:,i]\n",
    "\n",
    "enc = KBinsDiscretizer(n_bins=22, encode='ordinal', strategy=\"quantile\", random_state=1414)\n",
    "features = trainA_31_x.columns[1:]\n",
    "enc.fit(trainA_31_x[features])\n",
    "binned_df_train = enc.transform(trainA_31_x[features])\n",
    "binned_df_test = enc.transform(testA_31_x[features])\n",
    "for i, feature in enumerate(features):\n",
    "    trainA_31_x[f\"{feature}_binned\"] = binned_df_train[:,i]\n",
    "    testA_31_x[f\"{feature}_binned\"] = binned_df_test[:,i]\n",
    "\n",
    "print(trainA_31_x.shape,testA_31_x.shape,train_T_31_x.shape,test_T_31_x.shape)"
   ]
  },
  {
   "cell_type": "code",
   "execution_count": null,
   "id": "db131c2f",
   "metadata": {},
   "outputs": [],
   "source": [
    "'''\n",
    "10% -> 26,7\n",
    "20% -> 28,5\n",
    "2 -> 33,4\n",
    "3 -> 26,5 (4,5)(21,0)\n",
    "5;10 -> 25,6\n",
    "2,48 - > 29, 4\n",
    "'''\n",
    "\n",
    "'''\n",
    "17-> 3\n",
    "9 -> 4\n",
    "'''"
   ]
  },
  {
   "cell_type": "code",
   "execution_count": 4,
   "id": "21d6a395",
   "metadata": {},
   "outputs": [
    {
     "name": "stdout",
     "output_type": "stream",
     "text": [
      "-0.6442300396904909 \n",
      " -0.6441937649548493 \n",
      " -0.6257823004654807 \n",
      " -0.6255805101477584 \n",
      "\n"
     ]
    }
   ],
   "source": [
    "print(train[train['Y_Class']==0]['Y_Quality'].max(),'\\n',\n",
    "      train[train['Y_Class']==1]['Y_Quality'].min(),'\\n',\n",
    "      train[train['Y_Class']==1]['Y_Quality'].max(),'\\n',\n",
    "      train[train['Y_Class']==2]['Y_Quality'].min(),'\\n')"
   ]
  },
  {
   "cell_type": "code",
   "execution_count": 16,
   "id": "6acd9f20",
   "metadata": {},
   "outputs": [],
   "source": [
    "model1 = CatBoostRegressor(random_state=8012,\n",
    "                           depth=10,\n",
    "                           verbose=500,\n",
    "                           iterations=1500,\n",
    "                           learning_rate=0.055)"
   ]
  },
  {
   "cell_type": "code",
   "execution_count": 127,
   "id": "5cac9769",
   "metadata": {},
   "outputs": [],
   "source": [
    "model2 = CatBoostRegressor(random_state=2000,\n",
    "                           depth=6,\n",
    "                           #eval_metric='MAE',\n",
    "                           verbose=500,\n",
    "                           iterations=1000,\n",
    "                           learning_rate=0.1)"
   ]
  },
  {
   "cell_type": "code",
   "execution_count": 89,
   "id": "7aa889e6",
   "metadata": {},
   "outputs": [],
   "source": [
    "model3 = CatBoostRegressor(random_state=4567,\n",
    "                           depth=5,\n",
    "                           verbose=500,\n",
    "                           iterations=8888,\n",
    "                           learning_rate=0.008)"
   ]
  },
  {
   "cell_type": "code",
   "execution_count": 128,
   "id": "dd77f378",
   "metadata": {},
   "outputs": [
    {
     "name": "stdout",
     "output_type": "stream",
     "text": [
      "0:\tlearn: 0.0180242\ttotal: 29.4ms\tremaining: 29.4s\n",
      "500:\tlearn: 0.0000111\ttotal: 10.9s\tremaining: 10.9s\n",
      "999:\tlearn: 0.0000000\ttotal: 21.8s\tremaining: 0us\n"
     ]
    }
   ],
   "source": [
    "model2.fit(trainA_31_x, trainA_31_y)\n",
    "pred_a = model2.predict(testA_31_x)"
   ]
  },
  {
   "cell_type": "code",
   "execution_count": null,
   "id": "3e81b623",
   "metadata": {},
   "outputs": [],
   "source": []
  },
  {
   "cell_type": "code",
   "execution_count": 90,
   "id": "66f05514",
   "metadata": {},
   "outputs": [
    {
     "name": "stdout",
     "output_type": "stream",
     "text": [
      "0:\tlearn: 0.0089566\ttotal: 8.72ms\tremaining: 1m 17s\n",
      "500:\tlearn: 0.0056675\ttotal: 2.4s\tremaining: 40.3s\n",
      "1000:\tlearn: 0.0037345\ttotal: 4.79s\tremaining: 37.7s\n",
      "1500:\tlearn: 0.0023693\ttotal: 7.16s\tremaining: 35.2s\n",
      "2000:\tlearn: 0.0014952\ttotal: 9.52s\tremaining: 32.8s\n",
      "2500:\tlearn: 0.0009839\ttotal: 11.9s\tremaining: 30.4s\n",
      "3000:\tlearn: 0.0006607\ttotal: 14.3s\tremaining: 28s\n",
      "3500:\tlearn: 0.0004427\ttotal: 16.7s\tremaining: 25.7s\n",
      "4000:\tlearn: 0.0002978\ttotal: 19.2s\tremaining: 23.4s\n",
      "4500:\tlearn: 0.0002021\ttotal: 21.6s\tremaining: 21.1s\n",
      "5000:\tlearn: 0.0001363\ttotal: 24.1s\tremaining: 18.7s\n",
      "5500:\tlearn: 0.0000917\ttotal: 26.6s\tremaining: 16.4s\n",
      "6000:\tlearn: 0.0000616\ttotal: 29.1s\tremaining: 14s\n",
      "6500:\tlearn: 0.0000417\ttotal: 31.7s\tremaining: 11.6s\n",
      "7000:\tlearn: 0.0000282\ttotal: 34.2s\tremaining: 9.22s\n",
      "7500:\tlearn: 0.0000187\ttotal: 36.8s\tremaining: 6.8s\n",
      "8000:\tlearn: 0.0000126\ttotal: 39.4s\tremaining: 4.36s\n",
      "8500:\tlearn: 0.0000087\ttotal: 42s\tremaining: 1.91s\n",
      "8887:\tlearn: 0.0000064\ttotal: 44s\tremaining: 0us\n"
     ]
    }
   ],
   "source": [
    "model3.fit(train_T_31_x, train_T_31_y)\n",
    "pred_t = model3.predict(test_T_31_x)"
   ]
  },
  {
   "cell_type": "code",
   "execution_count": 55,
   "id": "6bc036bb",
   "metadata": {},
   "outputs": [
    {
     "name": "stdout",
     "output_type": "stream",
     "text": [
      "0:\tlearn: 0.0060199\ttotal: 4.91ms\tremaining: 32.7s\n",
      "500:\tlearn: 0.0027121\ttotal: 698ms\tremaining: 8.59s\n",
      "1000:\tlearn: 0.0012708\ttotal: 1.38s\tremaining: 7.79s\n",
      "1500:\tlearn: 0.0005999\ttotal: 1.98s\tremaining: 6.81s\n",
      "2000:\tlearn: 0.0002832\ttotal: 2.57s\tremaining: 6s\n",
      "2500:\tlearn: 0.0001337\ttotal: 3.17s\tremaining: 5.28s\n",
      "3000:\tlearn: 0.0000631\ttotal: 3.76s\tremaining: 4.59s\n",
      "3500:\tlearn: 0.0000298\ttotal: 4.34s\tremaining: 3.92s\n",
      "4000:\tlearn: 0.0000141\ttotal: 4.93s\tremaining: 3.28s\n",
      "4500:\tlearn: 0.0000066\ttotal: 5.51s\tremaining: 2.65s\n",
      "5000:\tlearn: 0.0000031\ttotal: 6.1s\tremaining: 2.03s\n",
      "5500:\tlearn: 0.0000015\ttotal: 6.7s\tremaining: 1.42s\n",
      "6000:\tlearn: 0.0000007\ttotal: 7.31s\tremaining: 810ms\n",
      "6500:\tlearn: 0.0000003\ttotal: 7.91s\tremaining: 201ms\n",
      "6665:\tlearn: 0.0000003\ttotal: 8.11s\tremaining: 0us\n"
     ]
    }
   ],
   "source": [
    "model3.fit(train_O_31_x, train_O_31_y)\n",
    "pred_o = model3.predict(test_O_31_x)"
   ]
  },
  {
   "cell_type": "code",
   "execution_count": 129,
   "id": "11cc77ab",
   "metadata": {},
   "outputs": [],
   "source": [
    "testA_31['Y_quanlity'] = pred_a\n",
    "test_T_31['Y_quanlity'] = pred_t\n",
    "test_O_31['Y_quanlity'] = pred_o\n",
    "\n",
    "testA_31['Y_Class'] = 1\n",
    "test_T_31['Y_Class'] = 1\n",
    "test_O_31['Y_Class'] = 1\n",
    "\n",
    "testA_31.loc[(testA_31['Y_quanlity']<-0.64421190232267), 'Y_Class'] = 0\n",
    "testA_31.loc[(testA_31['Y_quanlity']>-0.6256814053066195), 'Y_Class'] = 2\n",
    "test_T_31.loc[(test_T_31['Y_quanlity']<-0.64421190232267), 'Y_Class'] = 0\n",
    "test_T_31.loc[(test_T_31['Y_quanlity']>-0.6256814053066195), 'Y_Class'] = 2\n",
    "test_O_31.loc[(test_O_31['Y_quanlity']<-0.64421190232267), 'Y_Class'] = 0\n",
    "test_O_31.loc[(test_O_31['Y_quanlity']>-0.6256814053066195), 'Y_Class'] = 2\n",
    "\n",
    "submita = pd.read_csv('sample_submission.csv')\n",
    "submitt = pd.read_csv('sample_submission.csv')\n",
    "submito = pd.read_csv('sample_submission.csv')\n",
    "\n",
    "submita = pd.merge(submita[['PRODUCT_ID']],testA_31[['PRODUCT_ID','Y_Class']],on='PRODUCT_ID')\n",
    "submitt = pd.merge(submitt[['PRODUCT_ID']],test_T_31[['PRODUCT_ID','Y_Class']],on='PRODUCT_ID')\n",
    "submito = pd.merge(submito[['PRODUCT_ID']],test_O_31[['PRODUCT_ID','Y_Class']],on='PRODUCT_ID')\n",
    "\n",
    "pd.concat([submita,submitt,submito]).sort_values(by='PRODUCT_ID').to_csv('kbd.csv',index=False)"
   ]
  },
  {
   "cell_type": "code",
   "execution_count": 139,
   "id": "f597fd44",
   "metadata": {},
   "outputs": [],
   "source": [
    "aa = pd.read_csv('kbd.csv')"
   ]
  },
  {
   "cell_type": "code",
   "execution_count": 140,
   "id": "dc024e30",
   "metadata": {},
   "outputs": [
    {
     "data": {
      "text/plain": [
       "1    265\n",
       "0     34\n",
       "2     11\n",
       "Name: Y_Class, dtype: int64"
      ]
     },
     "execution_count": 140,
     "metadata": {},
     "output_type": "execute_result"
    }
   ],
   "source": [
    "aa['Y_Class'].value_counts()"
   ]
  },
  {
   "cell_type": "code",
   "execution_count": 141,
   "id": "22c5c52a",
   "metadata": {},
   "outputs": [
    {
     "data": {
      "text/html": [
       "<div>\n",
       "<style scoped>\n",
       "    .dataframe tbody tr th:only-of-type {\n",
       "        vertical-align: middle;\n",
       "    }\n",
       "\n",
       "    .dataframe tbody tr th {\n",
       "        vertical-align: top;\n",
       "    }\n",
       "\n",
       "    .dataframe thead th {\n",
       "        text-align: right;\n",
       "    }\n",
       "</style>\n",
       "<table border=\"1\" class=\"dataframe\">\n",
       "  <thead>\n",
       "    <tr style=\"text-align: right;\">\n",
       "      <th></th>\n",
       "      <th>PRODUCT_ID</th>\n",
       "      <th>Y_Class</th>\n",
       "    </tr>\n",
       "  </thead>\n",
       "  <tbody>\n",
       "    <tr>\n",
       "      <th>9</th>\n",
       "      <td>TEST_009</td>\n",
       "      <td>2</td>\n",
       "    </tr>\n",
       "    <tr>\n",
       "      <th>11</th>\n",
       "      <td>TEST_011</td>\n",
       "      <td>2</td>\n",
       "    </tr>\n",
       "    <tr>\n",
       "      <th>38</th>\n",
       "      <td>TEST_038</td>\n",
       "      <td>2</td>\n",
       "    </tr>\n",
       "    <tr>\n",
       "      <th>78</th>\n",
       "      <td>TEST_078</td>\n",
       "      <td>2</td>\n",
       "    </tr>\n",
       "    <tr>\n",
       "      <th>114</th>\n",
       "      <td>TEST_114</td>\n",
       "      <td>2</td>\n",
       "    </tr>\n",
       "    <tr>\n",
       "      <th>160</th>\n",
       "      <td>TEST_160</td>\n",
       "      <td>2</td>\n",
       "    </tr>\n",
       "    <tr>\n",
       "      <th>161</th>\n",
       "      <td>TEST_161</td>\n",
       "      <td>2</td>\n",
       "    </tr>\n",
       "    <tr>\n",
       "      <th>163</th>\n",
       "      <td>TEST_163</td>\n",
       "      <td>2</td>\n",
       "    </tr>\n",
       "    <tr>\n",
       "      <th>169</th>\n",
       "      <td>TEST_169</td>\n",
       "      <td>2</td>\n",
       "    </tr>\n",
       "    <tr>\n",
       "      <th>183</th>\n",
       "      <td>TEST_183</td>\n",
       "      <td>2</td>\n",
       "    </tr>\n",
       "    <tr>\n",
       "      <th>260</th>\n",
       "      <td>TEST_260</td>\n",
       "      <td>2</td>\n",
       "    </tr>\n",
       "  </tbody>\n",
       "</table>\n",
       "</div>"
      ],
      "text/plain": [
       "    PRODUCT_ID  Y_Class\n",
       "9     TEST_009        2\n",
       "11    TEST_011        2\n",
       "38    TEST_038        2\n",
       "78    TEST_078        2\n",
       "114   TEST_114        2\n",
       "160   TEST_160        2\n",
       "161   TEST_161        2\n",
       "163   TEST_163        2\n",
       "169   TEST_169        2\n",
       "183   TEST_183        2\n",
       "260   TEST_260        2"
      ]
     },
     "execution_count": 141,
     "metadata": {},
     "output_type": "execute_result"
    }
   ],
   "source": [
    "aa[aa['Y_Class']==2]"
   ]
  },
  {
   "cell_type": "code",
   "execution_count": null,
   "id": "f5b532cf",
   "metadata": {},
   "outputs": [],
   "source": []
  },
  {
   "cell_type": "code",
   "execution_count": 108,
   "id": "6a0a1393",
   "metadata": {},
   "outputs": [
    {
     "data": {
      "text/html": [
       "<div>\n",
       "<style scoped>\n",
       "    .dataframe tbody tr th:only-of-type {\n",
       "        vertical-align: middle;\n",
       "    }\n",
       "\n",
       "    .dataframe tbody tr th {\n",
       "        vertical-align: top;\n",
       "    }\n",
       "\n",
       "    .dataframe thead th {\n",
       "        text-align: right;\n",
       "    }\n",
       "</style>\n",
       "<table border=\"1\" class=\"dataframe\">\n",
       "  <thead>\n",
       "    <tr style=\"text-align: right;\">\n",
       "      <th></th>\n",
       "      <th>PRODUCT_ID</th>\n",
       "      <th>TIMESTAMP</th>\n",
       "      <th>LINE</th>\n",
       "      <th>PRODUCT_CODE</th>\n",
       "      <th>X_128</th>\n",
       "      <th>X_129</th>\n",
       "      <th>X_130</th>\n",
       "      <th>X_131</th>\n",
       "      <th>X_132</th>\n",
       "      <th>X_133</th>\n",
       "      <th>...</th>\n",
       "      <th>X_2863</th>\n",
       "      <th>X_2864</th>\n",
       "      <th>X_2865</th>\n",
       "      <th>X_2866</th>\n",
       "      <th>X_2867</th>\n",
       "      <th>X_2868</th>\n",
       "      <th>X_2869</th>\n",
       "      <th>X_2870</th>\n",
       "      <th>Y_quanlity</th>\n",
       "      <th>Y_Class</th>\n",
       "    </tr>\n",
       "  </thead>\n",
       "  <tbody>\n",
       "    <tr>\n",
       "      <th>38</th>\n",
       "      <td>TEST_038</td>\n",
       "      <td>2022-09-25 8:50</td>\n",
       "      <td>T010305</td>\n",
       "      <td>A_31</td>\n",
       "      <td>NaN</td>\n",
       "      <td>NaN</td>\n",
       "      <td>NaN</td>\n",
       "      <td>NaN</td>\n",
       "      <td>NaN</td>\n",
       "      <td>NaN</td>\n",
       "      <td>...</td>\n",
       "      <td>462.0</td>\n",
       "      <td>447.962264</td>\n",
       "      <td>422.0</td>\n",
       "      <td>NaN</td>\n",
       "      <td>NaN</td>\n",
       "      <td>NaN</td>\n",
       "      <td>NaN</td>\n",
       "      <td>NaN</td>\n",
       "      <td>-0.600943</td>\n",
       "      <td>2</td>\n",
       "    </tr>\n",
       "  </tbody>\n",
       "</table>\n",
       "<p>1 rows × 1871 columns</p>\n",
       "</div>"
      ],
      "text/plain": [
       "   PRODUCT_ID        TIMESTAMP     LINE PRODUCT_CODE  X_128  X_129  X_130  \\\n",
       "38   TEST_038  2022-09-25 8:50  T010305         A_31    NaN    NaN    NaN   \n",
       "\n",
       "    X_131  X_132  X_133  ...  X_2863      X_2864  X_2865  X_2866  X_2867  \\\n",
       "38    NaN    NaN    NaN  ...   462.0  447.962264   422.0     NaN     NaN   \n",
       "\n",
       "    X_2868  X_2869  X_2870  Y_quanlity  Y_Class  \n",
       "38     NaN     NaN     NaN   -0.600943        2  \n",
       "\n",
       "[1 rows x 1871 columns]"
      ]
     },
     "execution_count": 108,
     "metadata": {},
     "output_type": "execute_result"
    }
   ],
   "source": [
    "testA_31[testA_31['Y_Class']==2]"
   ]
  },
  {
   "cell_type": "code",
   "execution_count": 54,
   "id": "bcc30ebb",
   "metadata": {},
   "outputs": [],
   "source": [
    "testA_31['Y_quanlity'] = pred_a\n",
    "test_T_31['Y_quanlity'] = pred_t\n",
    "test_O_31['Y_quanlity'] = pred_o\n",
    "\n",
    "testA_31['Y_Class'] = 1\n",
    "test_T_31['Y_Class'] = 1\n",
    "test_O_31['Y_Class'] = 1\n",
    "\n",
    "'''\n",
    " 1.6583913280391964 \n",
    " 1.6768027925285651 \n",
    "'''\n",
    "\n",
    "testA_31.loc[(testA_31['Y_quanlity']<1.6583913280391964  ), 'Y_Class'] = 0\n",
    "testA_31.loc[(testA_31['Y_quanlity']>1.6768027925285651   ), 'Y_Class'] = 2\n",
    "test_T_31.loc[(test_T_31['Y_quanlity']<1.6583913280391964  ), 'Y_Class'] = 0\n",
    "test_T_31.loc[(test_T_31['Y_quanlity']>1.6768027925285651   ), 'Y_Class'] = 2\n",
    "test_O_31.loc[(test_O_31['Y_quanlity']<1.6583913280391964  ), 'Y_Class'] = 0\n",
    "test_O_31.loc[(test_O_31['Y_quanlity']>1.6768027925285651  ), 'Y_Class'] = 2\n",
    "\n",
    "submita = pd.read_csv('sample_submission.csv')\n",
    "submitt = pd.read_csv('sample_submission.csv')\n",
    "submito = pd.read_csv('sample_submission.csv')\n",
    "\n",
    "submita = pd.merge(submita[['PRODUCT_ID']],testA_31[['PRODUCT_ID','Y_Class']],on='PRODUCT_ID')\n",
    "submitt = pd.merge(submitt[['PRODUCT_ID']],test_T_31[['PRODUCT_ID','Y_Class']],on='PRODUCT_ID')\n",
    "submito = pd.merge(submito[['PRODUCT_ID']],test_O_31[['PRODUCT_ID','Y_Class']],on='PRODUCT_ID')\n",
    "\n",
    "pd.concat([submita,submitt,submito]).sort_values(by='PRODUCT_ID').to_csv('depth.csv',index=False)"
   ]
  },
  {
   "cell_type": "code",
   "execution_count": 55,
   "id": "099924b0",
   "metadata": {},
   "outputs": [],
   "source": [
    "dd = pd.read_csv('depth.csv')"
   ]
  },
  {
   "cell_type": "code",
   "execution_count": 114,
   "id": "a16b0e35",
   "metadata": {},
   "outputs": [],
   "source": [
    "dd = pd.read_csv('따로.csv')"
   ]
  },
  {
   "cell_type": "code",
   "execution_count": 56,
   "id": "4384d143",
   "metadata": {},
   "outputs": [
    {
     "data": {
      "text/plain": [
       "1    0.883871\n",
       "0    0.100000\n",
       "2    0.016129\n",
       "Name: Y_Class, dtype: float64"
      ]
     },
     "execution_count": 56,
     "metadata": {},
     "output_type": "execute_result"
    }
   ],
   "source": [
    "dd['Y_Class'].value_counts()/len(dd)"
   ]
  },
  {
   "cell_type": "code",
   "execution_count": 59,
   "id": "bf59bd41",
   "metadata": {},
   "outputs": [
    {
     "data": {
      "text/plain": [
       "1    274\n",
       "0     31\n",
       "2      5\n",
       "Name: Y_Class, dtype: int64"
      ]
     },
     "execution_count": 59,
     "metadata": {},
     "output_type": "execute_result"
    }
   ],
   "source": [
    "dd['Y_Class'].value_counts()"
   ]
  },
  {
   "cell_type": "code",
   "execution_count": 60,
   "id": "5f746009",
   "metadata": {},
   "outputs": [
    {
     "data": {
      "text/html": [
       "<div>\n",
       "<style scoped>\n",
       "    .dataframe tbody tr th:only-of-type {\n",
       "        vertical-align: middle;\n",
       "    }\n",
       "\n",
       "    .dataframe tbody tr th {\n",
       "        vertical-align: top;\n",
       "    }\n",
       "\n",
       "    .dataframe thead th {\n",
       "        text-align: right;\n",
       "    }\n",
       "</style>\n",
       "<table border=\"1\" class=\"dataframe\">\n",
       "  <thead>\n",
       "    <tr style=\"text-align: right;\">\n",
       "      <th></th>\n",
       "      <th>PRODUCT_ID</th>\n",
       "      <th>Y_Class</th>\n",
       "    </tr>\n",
       "  </thead>\n",
       "  <tbody>\n",
       "    <tr>\n",
       "      <th>38</th>\n",
       "      <td>TEST_038</td>\n",
       "      <td>2</td>\n",
       "    </tr>\n",
       "    <tr>\n",
       "      <th>78</th>\n",
       "      <td>TEST_078</td>\n",
       "      <td>2</td>\n",
       "    </tr>\n",
       "    <tr>\n",
       "      <th>160</th>\n",
       "      <td>TEST_160</td>\n",
       "      <td>2</td>\n",
       "    </tr>\n",
       "    <tr>\n",
       "      <th>161</th>\n",
       "      <td>TEST_161</td>\n",
       "      <td>2</td>\n",
       "    </tr>\n",
       "    <tr>\n",
       "      <th>183</th>\n",
       "      <td>TEST_183</td>\n",
       "      <td>2</td>\n",
       "    </tr>\n",
       "  </tbody>\n",
       "</table>\n",
       "</div>"
      ],
      "text/plain": [
       "    PRODUCT_ID  Y_Class\n",
       "38    TEST_038        2\n",
       "78    TEST_078        2\n",
       "160   TEST_160        2\n",
       "161   TEST_161        2\n",
       "183   TEST_183        2"
      ]
     },
     "execution_count": 60,
     "metadata": {},
     "output_type": "execute_result"
    }
   ],
   "source": [
    "dd[dd['Y_Class']==2]"
   ]
  },
  {
   "cell_type": "code",
   "execution_count": 113,
   "id": "9c339925",
   "metadata": {},
   "outputs": [
    {
     "data": {
      "text/html": [
       "<div>\n",
       "<style scoped>\n",
       "    .dataframe tbody tr th:only-of-type {\n",
       "        vertical-align: middle;\n",
       "    }\n",
       "\n",
       "    .dataframe tbody tr th {\n",
       "        vertical-align: top;\n",
       "    }\n",
       "\n",
       "    .dataframe thead th {\n",
       "        text-align: right;\n",
       "    }\n",
       "</style>\n",
       "<table border=\"1\" class=\"dataframe\">\n",
       "  <thead>\n",
       "    <tr style=\"text-align: right;\">\n",
       "      <th></th>\n",
       "      <th>PRODUCT_ID</th>\n",
       "      <th>Y_Class</th>\n",
       "    </tr>\n",
       "  </thead>\n",
       "  <tbody>\n",
       "    <tr>\n",
       "      <th>38</th>\n",
       "      <td>TEST_038</td>\n",
       "      <td>2</td>\n",
       "    </tr>\n",
       "    <tr>\n",
       "      <th>78</th>\n",
       "      <td>TEST_078</td>\n",
       "      <td>2</td>\n",
       "    </tr>\n",
       "    <tr>\n",
       "      <th>108</th>\n",
       "      <td>TEST_108</td>\n",
       "      <td>2</td>\n",
       "    </tr>\n",
       "    <tr>\n",
       "      <th>160</th>\n",
       "      <td>TEST_160</td>\n",
       "      <td>2</td>\n",
       "    </tr>\n",
       "    <tr>\n",
       "      <th>161</th>\n",
       "      <td>TEST_161</td>\n",
       "      <td>2</td>\n",
       "    </tr>\n",
       "    <tr>\n",
       "      <th>163</th>\n",
       "      <td>TEST_163</td>\n",
       "      <td>2</td>\n",
       "    </tr>\n",
       "    <tr>\n",
       "      <th>169</th>\n",
       "      <td>TEST_169</td>\n",
       "      <td>2</td>\n",
       "    </tr>\n",
       "    <tr>\n",
       "      <th>172</th>\n",
       "      <td>TEST_172</td>\n",
       "      <td>2</td>\n",
       "    </tr>\n",
       "    <tr>\n",
       "      <th>177</th>\n",
       "      <td>TEST_177</td>\n",
       "      <td>2</td>\n",
       "    </tr>\n",
       "    <tr>\n",
       "      <th>179</th>\n",
       "      <td>TEST_179</td>\n",
       "      <td>2</td>\n",
       "    </tr>\n",
       "    <tr>\n",
       "      <th>183</th>\n",
       "      <td>TEST_183</td>\n",
       "      <td>2</td>\n",
       "    </tr>\n",
       "    <tr>\n",
       "      <th>187</th>\n",
       "      <td>TEST_187</td>\n",
       "      <td>2</td>\n",
       "    </tr>\n",
       "  </tbody>\n",
       "</table>\n",
       "</div>"
      ],
      "text/plain": [
       "    PRODUCT_ID  Y_Class\n",
       "38    TEST_038        2\n",
       "78    TEST_078        2\n",
       "108   TEST_108        2\n",
       "160   TEST_160        2\n",
       "161   TEST_161        2\n",
       "163   TEST_163        2\n",
       "169   TEST_169        2\n",
       "172   TEST_172        2\n",
       "177   TEST_177        2\n",
       "179   TEST_179        2\n",
       "183   TEST_183        2\n",
       "187   TEST_187        2"
      ]
     },
     "execution_count": 113,
     "metadata": {},
     "output_type": "execute_result"
    }
   ],
   "source": [
    "dd[dd['Y_Class']==2]"
   ]
  },
  {
   "cell_type": "code",
   "execution_count": 55,
   "id": "bc3e7c08",
   "metadata": {},
   "outputs": [],
   "source": [
    "testA_31['Y_quanlity'] = pred_a\n",
    "test_T_31['Y_quanlity'] = pred_t\n",
    "test_O_31['Y_quanlity'] = pred_o\n",
    "\n",
    "testA_31['Y_Class'] = 1\n",
    "test_T_31['Y_Class'] = 1\n",
    "test_O_31['Y_Class'] = 1\n",
    "\n",
    "testA_31.loc[(testA_31['Y_quanlity']<1.709298761129632 ), 'Y_Class'] = 0\n",
    "testA_31.loc[(testA_31['Y_quanlity']>1.7110631749716663 ), 'Y_Class'] = 2\n",
    "test_T_31.loc[(test_T_31['Y_quanlity']<1.709298761129632 ), 'Y_Class'] = 0\n",
    "test_T_31.loc[(test_T_31['Y_quanlity']>1.7110631749716663 ), 'Y_Class'] = 2\n",
    "test_O_31.loc[(test_O_31['Y_quanlity']<1.709298761129632 ), 'Y_Class'] = 0\n",
    "test_O_31.loc[(test_O_31['Y_quanlity']>1.7110631749716663 ), 'Y_Class'] = 2\n",
    "\n",
    "submita = pd.read_csv('sample_submission.csv')\n",
    "submitt = pd.read_csv('sample_submission.csv')\n",
    "submito = pd.read_csv('sample_submission.csv')\n",
    "\n",
    "submita = pd.merge(submita[['PRODUCT_ID']],testA_31[['PRODUCT_ID','Y_Class']],on='PRODUCT_ID')\n",
    "submitt = pd.merge(submitt[['PRODUCT_ID']],test_T_31[['PRODUCT_ID','Y_Class']],on='PRODUCT_ID')\n",
    "submito = pd.merge(submito[['PRODUCT_ID']],test_O_31[['PRODUCT_ID','Y_Class']],on='PRODUCT_ID')\n",
    "\n",
    "pd.concat([submita,submitt,submito]).sort_values(by='PRODUCT_ID').to_csv('1333.csv',index=False)"
   ]
  },
  {
   "cell_type": "code",
   "execution_count": 22,
   "id": "a20b0ce7",
   "metadata": {},
   "outputs": [
    {
     "data": {
      "text/plain": [
       "array([1, 1, 1, 1, 0, 0, 1, 1, 1, 1, 0, 0, 0, 1, 0, 2, 0, 1, 0, 0, 0, 0,\n",
       "       1, 0, 0, 0, 0, 0, 0, 0, 1, 1, 0, 1, 0, 1, 1, 1, 1, 1, 1, 1, 1, 0,\n",
       "       1, 1, 1, 1, 0, 1, 0, 0, 0, 0, 1, 0, 1, 1, 1, 1, 1, 1, 0, 0, 0, 0,\n",
       "       1])"
      ]
     },
     "execution_count": 22,
     "metadata": {},
     "output_type": "execute_result"
    }
   ],
   "source": [
    "testA_31['Y_Class'].values"
   ]
  },
  {
   "cell_type": "code",
   "execution_count": 57,
   "id": "99b21e55",
   "metadata": {},
   "outputs": [
    {
     "data": {
      "text/plain": [
       "array([1, 1, 1, 0, 1, 0, 1, 1, 1, 1, 0, 0, 1, 1, 1, 1, 1, 1, 1, 1, 1, 1,\n",
       "       1, 1, 1, 1, 1, 0, 1, 0, 1, 0, 1, 1, 1, 1, 0, 1, 1, 1, 1, 1, 1, 1,\n",
       "       1, 1, 1, 2, 1, 1, 1, 1, 1, 1, 1, 1, 1, 1, 1, 1, 1, 1, 1, 1, 1, 1,\n",
       "       1, 1, 1, 1, 1, 1, 1, 1, 1, 1, 1, 1, 1, 1, 1, 1, 1, 1, 1, 1, 1, 1,\n",
       "       1, 1, 1, 1, 1, 1, 1, 1, 1, 1, 1, 1, 1, 1, 1, 1, 1, 1, 1, 1, 1, 1,\n",
       "       1, 1, 1, 1, 2, 1, 1, 1, 1, 1, 1, 1, 1, 1, 1, 1, 1, 1, 1, 1, 1, 1,\n",
       "       1, 1, 1, 1, 1, 1, 2, 1, 1, 1, 1, 1, 1, 1, 1, 1, 1, 1, 1, 1, 1, 1,\n",
       "       1, 1, 1, 1, 1, 1, 1, 1, 1, 1, 1, 1, 1, 1, 1, 1, 1, 1, 1, 1, 1, 1,\n",
       "       1, 1, 1, 1, 1, 1, 1, 1, 1, 1, 1, 1, 1, 1, 1, 1, 1, 1, 1, 1, 1, 1,\n",
       "       1, 1, 1, 1, 1, 1, 1, 1, 1, 1, 1, 1, 1, 1, 1, 1, 1, 1, 1, 1, 1, 1,\n",
       "       1, 1, 1, 1, 1, 1, 1, 1, 1, 1, 1, 1, 1, 1, 1, 1, 1, 1, 1])"
      ]
     },
     "execution_count": 57,
     "metadata": {},
     "output_type": "execute_result"
    }
   ],
   "source": [
    "test_T_31['Y_Class'].values"
   ]
  },
  {
   "cell_type": "code",
   "execution_count": 58,
   "id": "c62d3df5",
   "metadata": {},
   "outputs": [
    {
     "data": {
      "text/plain": [
       "1    267\n",
       "0     39\n",
       "2      4\n",
       "Name: Y_Class, dtype: int64"
      ]
     },
     "execution_count": 58,
     "metadata": {},
     "output_type": "execute_result"
    }
   ],
   "source": [
    "pd.read_csv('1333.csv')['Y_Class'].value_counts()"
   ]
  },
  {
   "cell_type": "code",
   "execution_count": 52,
   "id": "8b91120f",
   "metadata": {},
   "outputs": [
    {
     "data": {
      "text/html": [
       "<div>\n",
       "<style scoped>\n",
       "    .dataframe tbody tr th:only-of-type {\n",
       "        vertical-align: middle;\n",
       "    }\n",
       "\n",
       "    .dataframe tbody tr th {\n",
       "        vertical-align: top;\n",
       "    }\n",
       "\n",
       "    .dataframe thead th {\n",
       "        text-align: right;\n",
       "    }\n",
       "</style>\n",
       "<table border=\"1\" class=\"dataframe\">\n",
       "  <thead>\n",
       "    <tr style=\"text-align: right;\">\n",
       "      <th></th>\n",
       "      <th>PRODUCT_ID</th>\n",
       "      <th>Y_Class</th>\n",
       "    </tr>\n",
       "  </thead>\n",
       "  <tbody>\n",
       "    <tr>\n",
       "      <th>38</th>\n",
       "      <td>TEST_038</td>\n",
       "      <td>2</td>\n",
       "    </tr>\n",
       "    <tr>\n",
       "      <th>78</th>\n",
       "      <td>TEST_078</td>\n",
       "      <td>2</td>\n",
       "    </tr>\n",
       "    <tr>\n",
       "      <th>163</th>\n",
       "      <td>TEST_163</td>\n",
       "      <td>2</td>\n",
       "    </tr>\n",
       "    <tr>\n",
       "      <th>187</th>\n",
       "      <td>TEST_187</td>\n",
       "      <td>2</td>\n",
       "    </tr>\n",
       "  </tbody>\n",
       "</table>\n",
       "</div>"
      ],
      "text/plain": [
       "    PRODUCT_ID  Y_Class\n",
       "38    TEST_038        2\n",
       "78    TEST_078        2\n",
       "163   TEST_163        2\n",
       "187   TEST_187        2"
      ]
     },
     "execution_count": 52,
     "metadata": {},
     "output_type": "execute_result"
    }
   ],
   "source": [
    "pd.read_csv('1333.csv')[pd.read_csv('1333.csv')['Y_Class']==2]"
   ]
  },
  {
   "cell_type": "markdown",
   "id": "d26f5eb6",
   "metadata": {},
   "source": [
    "# (2) model2 -> 2"
   ]
  },
  {
   "cell_type": "code",
   "execution_count": 61,
   "id": "28934b10",
   "metadata": {},
   "outputs": [
    {
     "name": "stdout",
     "output_type": "stream",
     "text": [
      "(249, 2107) (67, 2107) (343, 668) (239, 668)\n"
     ]
    }
   ],
   "source": [
    "train = pd.read_csv('train.csv')\n",
    "test = pd.read_csv('test.csv')\n",
    "\n",
    "# y quality scaling\n",
    "train['Y_Quality'] = train['Y_Quality'].map(lambda x : np.log(x+0.22))\n",
    "\n",
    "train, test = del_columns(train,test)\n",
    "\n",
    "trainA_31 = train[train['PRODUCT_CODE']=='A_31']\n",
    "train_T_31 = train[train['PRODUCT_CODE']=='T_31']\n",
    "train_O_31 = train[train['PRODUCT_CODE']=='O_31']\n",
    "\n",
    "testA_31 = test[test['PRODUCT_CODE']=='A_31']\n",
    "test_T_31 = test[test['PRODUCT_CODE']=='T_31']\n",
    "test_O_31 = test[test['PRODUCT_CODE']=='O_31']\n",
    "\n",
    "trainA_31, testA_31 = del_columns(trainA_31,testA_31)\n",
    "train_T_31, test_T_31 = del_columns(train_T_31,test_T_31)\n",
    "train_O_31, test_O_31 = del_columns(train_O_31,test_O_31)\n",
    "\n",
    "trainA_31_x,testA_31_x, trainA_31_y, trainA_31_w = make_train_test_dataset(trainA_31,testA_31)\n",
    "train_T_31_x,test_T_31_x, train_T_31_y, train_T_31_w = make_train_test_dataset(train_T_31,test_T_31)\n",
    "train_O_31_x,test_O_31_x, train_O_31_y, train_O_31_w = make_train_test_dataset(train_O_31,test_O_31)\n",
    "\n",
    "trainA_31_x,testA_31_x = labelencoder(trainA_31_x,testA_31_x,['LINE'])\n",
    "train_T_31_x,test_T_31_x = labelencoder(train_T_31_x,test_T_31_x,['LINE'])\n",
    "train_O_31_x,test_O_31_x = labelencoder(train_O_31_x,test_O_31_x,['LINE'])\n",
    "\n",
    "trainA_31_x,testA_31_x = fillna(trainA_31_x,testA_31_x,-1)\n",
    "train_T_31_x,test_T_31_x = fillna(train_T_31_x,test_T_31_x,-1)\n",
    "train_O_31_x,test_O_31_x = fillna(train_O_31_x,test_O_31_x,-1)\n",
    "\n",
    "# 강한 추세성보이는 칼럼 중 일부 제거\n",
    "drop_a = ['X_1167','X_1168','X_1169','X_1170','X_1171','X_1274','X_1275','X_1276','X_1277','X_1278']\n",
    "drop_t = ['X_529','X_530','X_531','X_532','X_533','X_600','X_601','X_602','X_603','X_604']\n",
    "\n",
    "trainA_31_x = trainA_31_x.drop(columns=drop_a)\n",
    "testA_31_x = testA_31_x.drop(columns=drop_a)\n",
    "train_T_31_x = train_T_31_x.drop(columns=drop_t)\n",
    "test_T_31_x = test_T_31_x.drop(columns=drop_t)\n",
    "\n",
    "print(trainA_31_x.shape,testA_31_x.shape,train_T_31_x.shape,test_T_31_x.shape)"
   ]
  },
  {
   "cell_type": "code",
   "execution_count": 62,
   "id": "d814c9f7",
   "metadata": {},
   "outputs": [
    {
     "name": "stdout",
     "output_type": "stream",
     "text": [
      "-0.2942815787001621 \n",
      " -0.29425601487159814 \n",
      " -0.2812456878203449 \n",
      " -0.2811027053669316 \n",
      "\n"
     ]
    }
   ],
   "source": [
    "print(train[train['Y_Class']==0]['Y_Quality'].max(),'\\n',\n",
    "      train[train['Y_Class']==1]['Y_Quality'].min(),'\\n',\n",
    "      train[train['Y_Class']==1]['Y_Quality'].max(),'\\n',\n",
    "      train[train['Y_Class']==2]['Y_Quality'].min(),'\\n')"
   ]
  },
  {
   "cell_type": "code",
   "execution_count": 36,
   "id": "3ac87b31",
   "metadata": {},
   "outputs": [
    {
     "name": "stdout",
     "output_type": "stream",
     "text": [
      "-0.2942815787001621 \n",
      " -0.29425601487159814 \n",
      " -0.2812456878203449 \n",
      " -0.2811027053669316 \n",
      "\n"
     ]
    }
   ],
   "source": [
    "print(train[train['Y_Class']==0]['Y_Quality'].max(),'\\n',\n",
    "      train[train['Y_Class']==1]['Y_Quality'].min(),'\\n',\n",
    "      train[train['Y_Class']==1]['Y_Quality'].max(),'\\n',\n",
    "      train[train['Y_Class']==2]['Y_Quality'].min(),'\\n')"
   ]
  },
  {
   "cell_type": "code",
   "execution_count": 38,
   "id": "af005d64",
   "metadata": {},
   "outputs": [],
   "source": [
    "'''model2 = CatBoostRegressor(random_state=1234,\n",
    "                           depth=4,\n",
    "                           verbose=500,\n",
    "                           iterations=2500,\n",
    "                           learning_rate=0.055)'''"
   ]
  },
  {
   "cell_type": "code",
   "execution_count": 40,
   "id": "dad4c992",
   "metadata": {},
   "outputs": [
    {
     "name": "stdout",
     "output_type": "stream",
     "text": [
      "0:\tlearn: 0.0129084\ttotal: 20.7ms\tremaining: 51.8s\n",
      "500:\tlearn: 0.0001928\ttotal: 8.41s\tremaining: 33.6s\n",
      "1000:\tlearn: 0.0000045\ttotal: 16.7s\tremaining: 25s\n",
      "1500:\tlearn: 0.0000001\ttotal: 24.9s\tremaining: 16.5s\n",
      "2000:\tlearn: 0.0000000\ttotal: 33.2s\tremaining: 8.27s\n",
      "2499:\tlearn: 0.0000000\ttotal: 41.8s\tremaining: 0us\n"
     ]
    }
   ],
   "source": [
    "model1.fit(trainA_31_x, trainA_31_y)\n",
    "pred_a_2 = model1.predict(testA_31_x)"
   ]
  },
  {
   "cell_type": "code",
   "execution_count": 41,
   "id": "b9f06962",
   "metadata": {},
   "outputs": [
    {
     "name": "stdout",
     "output_type": "stream",
     "text": [
      "0:\tlearn: 0.0063042\ttotal: 8.39ms\tremaining: 21s\n",
      "500:\tlearn: 0.0001698\ttotal: 3.41s\tremaining: 13.6s\n",
      "1000:\tlearn: 0.0000053\ttotal: 6.84s\tremaining: 10.2s\n",
      "1500:\tlearn: 0.0000002\ttotal: 10.2s\tremaining: 6.81s\n",
      "2000:\tlearn: 0.0000000\ttotal: 13.7s\tremaining: 3.4s\n",
      "2499:\tlearn: 0.0000000\ttotal: 17.1s\tremaining: 0us\n"
     ]
    }
   ],
   "source": [
    "model1.fit(train_T_31_x, train_T_31_y)\n",
    "pred_t_2 = model1.predict(test_T_31_x)"
   ]
  },
  {
   "cell_type": "code",
   "execution_count": 42,
   "id": "b77c5cab",
   "metadata": {},
   "outputs": [
    {
     "name": "stdout",
     "output_type": "stream",
     "text": [
      "0:\tlearn: 0.0041922\ttotal: 2.1ms\tremaining: 5.26s\n",
      "500:\tlearn: 0.0000039\ttotal: 877ms\tremaining: 3.5s\n",
      "1000:\tlearn: 0.0000000\ttotal: 1.63s\tremaining: 2.44s\n",
      "1500:\tlearn: 0.0000000\ttotal: 2.35s\tremaining: 1.56s\n",
      "2000:\tlearn: 0.0000000\ttotal: 3.06s\tremaining: 762ms\n",
      "2499:\tlearn: 0.0000000\ttotal: 3.77s\tremaining: 0us\n"
     ]
    }
   ],
   "source": [
    "model1.fit(train_O_31_x, train_O_31_y)\n",
    "pred_o_2 = model1.predict(test_O_31_x)"
   ]
  },
  {
   "cell_type": "code",
   "execution_count": 46,
   "id": "dab89226",
   "metadata": {},
   "outputs": [],
   "source": [
    "testA_31['Y_quanlity'] = pred_a\n",
    "test_T_31['Y_quanlity'] = pred_t\n",
    "test_O_31['Y_quanlity'] = pred_o\n",
    "\n",
    "testA_31['Y_Class'] = 1\n",
    "test_T_31['Y_Class'] = 1\n",
    "test_O_31['Y_Class'] = 1\n",
    "\n",
    "testA_31.loc[(testA_31['Y_quanlity']<-2.589 ), 'Y_Class'] = 0\n",
    "test_T_31.loc[(test_T_31['Y_quanlity']<-2.589 ), 'Y_Class'] = 0\n",
    "test_O_31.loc[(test_O_31['Y_quanlity']<-2.589 ), 'Y_Class'] = 0"
   ]
  },
  {
   "cell_type": "code",
   "execution_count": 53,
   "id": "b8a73544",
   "metadata": {},
   "outputs": [],
   "source": [
    "testA_31['Y_quality2'] = pred_a_2\n",
    "test_T_31['Y_quality2'] = pred_t_2\n",
    "test_O_31['Y_quality2'] = pred_o_2\n",
    "\n",
    "testA_31.loc[(testA_31['Y_quality2']>-0.2812456878203449 ), 'Y_Class'] = 2\n",
    "test_T_31.loc[(test_T_31['Y_quality2']>-0.2812456878203449 ), 'Y_Class'] = 2\n",
    "test_O_31.loc[(test_O_31['Y_quality2']>-0.2812456878203449 ), 'Y_Class'] = 2\n",
    "\n",
    "submita = pd.read_csv('sample_submission.csv')\n",
    "submitt = pd.read_csv('sample_submission.csv')\n",
    "submito = pd.read_csv('sample_submission.csv')\n",
    "\n",
    "submita = pd.merge(submita[['PRODUCT_ID']],testA_31[['PRODUCT_ID','Y_Class']],on='PRODUCT_ID')\n",
    "submitt = pd.merge(submitt[['PRODUCT_ID']],test_T_31[['PRODUCT_ID','Y_Class']],on='PRODUCT_ID')\n",
    "submito = pd.merge(submito[['PRODUCT_ID']],test_O_31[['PRODUCT_ID','Y_Class']],on='PRODUCT_ID')\n",
    "\n",
    "pd.concat([submita,submitt,submito]).sort_values(by='PRODUCT_ID').to_csv('따로.csv',index=False)"
   ]
  },
  {
   "cell_type": "code",
   "execution_count": 54,
   "id": "30b82ee9",
   "metadata": {},
   "outputs": [],
   "source": [
    "df = pd.read_csv('따로.csv')"
   ]
  },
  {
   "cell_type": "code",
   "execution_count": 60,
   "id": "6d955f65",
   "metadata": {},
   "outputs": [
    {
     "data": {
      "text/plain": [
       "1    259\n",
       "0     43\n",
       "2      8\n",
       "Name: Y_Class, dtype: int64"
      ]
     },
     "execution_count": 60,
     "metadata": {},
     "output_type": "execute_result"
    }
   ],
   "source": [
    "df['Y_Class'].value_counts()#/len(df) # 1234, 1500, 0.33"
   ]
  }
 ],
 "metadata": {
  "kernelspec": {
   "display_name": "Python 3 (ipykernel)",
   "language": "python",
   "name": "python3"
  },
  "language_info": {
   "codemirror_mode": {
    "name": "ipython",
    "version": 3
   },
   "file_extension": ".py",
   "mimetype": "text/x-python",
   "name": "python",
   "nbconvert_exporter": "python",
   "pygments_lexer": "ipython3",
   "version": "3.9.16"
  }
 },
 "nbformat": 4,
 "nbformat_minor": 5
}
