{
  "nbformat": 4,
  "nbformat_minor": 0,
  "metadata": {
    "colab": {
      "provenance": []
    },
    "kernelspec": {
      "name": "python3",
      "display_name": "Python 3"
    },
    "language_info": {
      "name": "python"
    },
    "accelerator": "GPU",
    "gpuClass": "standard"
  },
  "cells": [
    {
      "cell_type": "code",
      "execution_count": 1,
      "metadata": {
        "colab": {
          "base_uri": "https://localhost:8080/"
        },
        "id": "N-L3VbyhPe75",
        "outputId": "d7b8b210-085d-4190-a261-ecdfe35a2b38"
      },
      "outputs": [
        {
          "output_type": "stream",
          "name": "stdout",
          "text": [
            "Mounted at /content/drive\n"
          ]
        }
      ],
      "source": [
        "from google.colab import drive\n",
        "drive.mount('/content/drive')"
      ]
    },
    {
      "cell_type": "code",
      "source": [
        "import pandas as pd\n",
        "import numpy as np\n",
        "import re\n",
        "import seaborn as sns\n",
        "import matplotlib.pyplot as plt\n",
        "from sklearn.preprocessing import LabelEncoder\n",
        "#from category_encoders import OneHotEncoder\n",
        "import warnings\n",
        "import random\n",
        "import os\n",
        "plt.style.use('ggplot')\n",
        "warnings.filterwarnings(action='ignore')\n",
        "#import catboost"
      ],
      "metadata": {
        "id": "ApPD9q2RPjHc"
      },
      "execution_count": 2,
      "outputs": []
    },
    {
      "cell_type": "code",
      "source": [
        "pip install catboost"
      ],
      "metadata": {
        "colab": {
          "base_uri": "https://localhost:8080/"
        },
        "id": "Gr_LXN27PjE4",
        "outputId": "9618c3ba-577a-4133-8375-36a01ef02813"
      },
      "execution_count": 3,
      "outputs": [
        {
          "output_type": "stream",
          "name": "stdout",
          "text": [
            "Looking in indexes: https://pypi.org/simple, https://us-python.pkg.dev/colab-wheels/public/simple/\n",
            "Collecting catboost\n",
            "  Downloading catboost-1.1.1-cp38-none-manylinux1_x86_64.whl (76.6 MB)\n",
            "\u001b[2K     \u001b[90m━━━━━━━━━━━━━━━━━━━━━━━━━━━━━━━━━━━━━━━━\u001b[0m \u001b[32m76.6/76.6 MB\u001b[0m \u001b[31m12.6 MB/s\u001b[0m eta \u001b[36m0:00:00\u001b[0m\n",
            "\u001b[?25hRequirement already satisfied: graphviz in /usr/local/lib/python3.8/dist-packages (from catboost) (0.10.1)\n",
            "Requirement already satisfied: pandas>=0.24.0 in /usr/local/lib/python3.8/dist-packages (from catboost) (1.3.5)\n",
            "Requirement already satisfied: matplotlib in /usr/local/lib/python3.8/dist-packages (from catboost) (3.2.2)\n",
            "Requirement already satisfied: plotly in /usr/local/lib/python3.8/dist-packages (from catboost) (5.5.0)\n",
            "Requirement already satisfied: numpy>=1.16.0 in /usr/local/lib/python3.8/dist-packages (from catboost) (1.21.6)\n",
            "Requirement already satisfied: six in /usr/local/lib/python3.8/dist-packages (from catboost) (1.15.0)\n",
            "Requirement already satisfied: scipy in /usr/local/lib/python3.8/dist-packages (from catboost) (1.7.3)\n",
            "Requirement already satisfied: pytz>=2017.3 in /usr/local/lib/python3.8/dist-packages (from pandas>=0.24.0->catboost) (2022.7.1)\n",
            "Requirement already satisfied: python-dateutil>=2.7.3 in /usr/local/lib/python3.8/dist-packages (from pandas>=0.24.0->catboost) (2.8.2)\n",
            "Requirement already satisfied: cycler>=0.10 in /usr/local/lib/python3.8/dist-packages (from matplotlib->catboost) (0.11.0)\n",
            "Requirement already satisfied: kiwisolver>=1.0.1 in /usr/local/lib/python3.8/dist-packages (from matplotlib->catboost) (1.4.4)\n",
            "Requirement already satisfied: pyparsing!=2.0.4,!=2.1.2,!=2.1.6,>=2.0.1 in /usr/local/lib/python3.8/dist-packages (from matplotlib->catboost) (3.0.9)\n",
            "Requirement already satisfied: tenacity>=6.2.0 in /usr/local/lib/python3.8/dist-packages (from plotly->catboost) (8.1.0)\n",
            "Installing collected packages: catboost\n",
            "Successfully installed catboost-1.1.1\n"
          ]
        }
      ]
    },
    {
      "cell_type": "code",
      "source": [
        "from catboost import *"
      ],
      "metadata": {
        "id": "iZ9nv2WcPjCd"
      },
      "execution_count": 4,
      "outputs": []
    },
    {
      "cell_type": "code",
      "source": [
        "model = CatBoostRegressor(random_state=44, verbose=500, iterations = 5000, task_type ='GPU', learning_rate=0.03)"
      ],
      "metadata": {
        "id": "6Vtou-VfPi_4"
      },
      "execution_count": 85,
      "outputs": []
    },
    {
      "cell_type": "code",
      "source": [
        "train = pd.read_csv('/content/drive/MyDrive/lg/train.csv')\n",
        "test = pd.read_csv('/content/drive/MyDrive/lg/test.csv')"
      ],
      "metadata": {
        "id": "nC_0-7SOQYe5"
      },
      "execution_count": 76,
      "outputs": []
    },
    {
      "cell_type": "code",
      "source": [
        "import statsmodels.api as sm\n",
        "from statsmodels.tsa.stattools import adfuller"
      ],
      "metadata": {
        "id": "PiKRX4gyUn2p"
      },
      "execution_count": 64,
      "outputs": []
    },
    {
      "cell_type": "code",
      "source": [
        "train = train.fillna(-1)\n",
        "train = test.fillna(-1)"
      ],
      "metadata": {
        "id": "OfP486YVW6IP"
      },
      "execution_count": 66,
      "outputs": []
    },
    {
      "cell_type": "code",
      "source": [
        "collist = train.describe().columns\n",
        "arr=[]\n",
        "for col in collist :\n",
        "    adfuller_test = adfuller(train[[col]], autolag= \"AIC\")\n",
        "    if adfuller_test[1] >=0.05 :\n",
        "        arr.append(col)\n",
        "train = train.drop(columns=arr)\n",
        "test = test.drop(columns=arr)"
      ],
      "metadata": {
        "id": "IjZSqmTZWiuT"
      },
      "execution_count": 67,
      "outputs": []
    },
    {
      "cell_type": "code",
      "source": [
        "train = train.drop(columns=arr)\n",
        "test = test.drop(columns=arr)"
      ],
      "metadata": {
        "id": "3SFBulakXZCQ"
      },
      "execution_count": 77,
      "outputs": []
    },
    {
      "cell_type": "code",
      "source": [
        "def seed_everything(seed):\n",
        "    random.seed(seed)\n",
        "    os.environ['PYTHONHASHSEED'] = str(seed)\n",
        "    np.random.seed(seed)\n",
        "seed_everything(37) # Seed 고정"
      ],
      "metadata": {
        "id": "ZWW-rIj1QkXO"
      },
      "execution_count": 68,
      "outputs": []
    },
    {
      "cell_type": "code",
      "source": [
        "col_list = train.columns\n",
        "nan_list = []\n",
        "nan_cnt = []\n",
        "nan_col = []\n",
        "full_list = []\n",
        "for col in col_list:\n",
        "    if train[col].isnull().sum() == 0 :\n",
        "        full_list.append(col)\n",
        "        continue\n",
        "    nan_list.append([col, train[col].isnull().sum()])\n",
        "    nan_cnt.append(train[col].isnull().sum())\n",
        "    nan_col.append(col)\n",
        "    \n",
        "'''모든값이 결측값이면 제거'''\n",
        "del_col = []\n",
        "for col in nan_list :\n",
        "    if col[1] == 598 :\n",
        "        del_col.append(col[0])\n",
        "train = train.drop(columns=del_col)\n",
        "test = test.drop(columns=del_col)\n",
        "train.head(3)"
      ],
      "metadata": {
        "colab": {
          "base_uri": "https://localhost:8080/",
          "height": 173
        },
        "id": "kKOHAhP5QnLf",
        "outputId": "ad5905bf-1b2f-49a9-ff7e-1b7611f9b57f"
      },
      "execution_count": 78,
      "outputs": [
        {
          "output_type": "execute_result",
          "data": {
            "text/plain": [
              "  PRODUCT_ID  Y_Class  Y_Quality        TIMESTAMP     LINE PRODUCT_CODE  X_1  \\\n",
              "0  TRAIN_000        1   0.533433  2022-06-13 5:14  T050304         A_31  NaN   \n",
              "1  TRAIN_001        2   0.541819  2022-06-13 5:22  T050307         A_31  NaN   \n",
              "2  TRAIN_002        1   0.531267  2022-06-13 5:30  T050304         A_31  NaN   \n",
              "\n",
              "   X_2  X_3  X_4  ...  X_2862  X_2863      X_2864  X_2865  X_2866  X_2867  \\\n",
              "0  NaN  NaN  NaN  ...   189.0   383.0  368.296296   353.0   39.34   40.89   \n",
              "1  NaN  NaN  NaN  ...   185.6   383.0  367.735849   353.0   38.89   42.82   \n",
              "2  NaN  NaN  NaN  ...   165.5   383.0  367.320755   353.0   39.19   36.65   \n",
              "\n",
              "   X_2868  X_2869  X_2870  X_2871  \n",
              "0   32.56   34.09   77.77     NaN  \n",
              "1   43.92   35.34   72.55     NaN  \n",
              "2   42.47   36.53   78.35     NaN  \n",
              "\n",
              "[3 rows x 2797 columns]"
            ],
            "text/html": [
              "\n",
              "  <div id=\"df-fcd1956b-7604-4669-8a88-38d79c19d95a\">\n",
              "    <div class=\"colab-df-container\">\n",
              "      <div>\n",
              "<style scoped>\n",
              "    .dataframe tbody tr th:only-of-type {\n",
              "        vertical-align: middle;\n",
              "    }\n",
              "\n",
              "    .dataframe tbody tr th {\n",
              "        vertical-align: top;\n",
              "    }\n",
              "\n",
              "    .dataframe thead th {\n",
              "        text-align: right;\n",
              "    }\n",
              "</style>\n",
              "<table border=\"1\" class=\"dataframe\">\n",
              "  <thead>\n",
              "    <tr style=\"text-align: right;\">\n",
              "      <th></th>\n",
              "      <th>PRODUCT_ID</th>\n",
              "      <th>Y_Class</th>\n",
              "      <th>Y_Quality</th>\n",
              "      <th>TIMESTAMP</th>\n",
              "      <th>LINE</th>\n",
              "      <th>PRODUCT_CODE</th>\n",
              "      <th>X_1</th>\n",
              "      <th>X_2</th>\n",
              "      <th>X_3</th>\n",
              "      <th>X_4</th>\n",
              "      <th>...</th>\n",
              "      <th>X_2862</th>\n",
              "      <th>X_2863</th>\n",
              "      <th>X_2864</th>\n",
              "      <th>X_2865</th>\n",
              "      <th>X_2866</th>\n",
              "      <th>X_2867</th>\n",
              "      <th>X_2868</th>\n",
              "      <th>X_2869</th>\n",
              "      <th>X_2870</th>\n",
              "      <th>X_2871</th>\n",
              "    </tr>\n",
              "  </thead>\n",
              "  <tbody>\n",
              "    <tr>\n",
              "      <th>0</th>\n",
              "      <td>TRAIN_000</td>\n",
              "      <td>1</td>\n",
              "      <td>0.533433</td>\n",
              "      <td>2022-06-13 5:14</td>\n",
              "      <td>T050304</td>\n",
              "      <td>A_31</td>\n",
              "      <td>NaN</td>\n",
              "      <td>NaN</td>\n",
              "      <td>NaN</td>\n",
              "      <td>NaN</td>\n",
              "      <td>...</td>\n",
              "      <td>189.0</td>\n",
              "      <td>383.0</td>\n",
              "      <td>368.296296</td>\n",
              "      <td>353.0</td>\n",
              "      <td>39.34</td>\n",
              "      <td>40.89</td>\n",
              "      <td>32.56</td>\n",
              "      <td>34.09</td>\n",
              "      <td>77.77</td>\n",
              "      <td>NaN</td>\n",
              "    </tr>\n",
              "    <tr>\n",
              "      <th>1</th>\n",
              "      <td>TRAIN_001</td>\n",
              "      <td>2</td>\n",
              "      <td>0.541819</td>\n",
              "      <td>2022-06-13 5:22</td>\n",
              "      <td>T050307</td>\n",
              "      <td>A_31</td>\n",
              "      <td>NaN</td>\n",
              "      <td>NaN</td>\n",
              "      <td>NaN</td>\n",
              "      <td>NaN</td>\n",
              "      <td>...</td>\n",
              "      <td>185.6</td>\n",
              "      <td>383.0</td>\n",
              "      <td>367.735849</td>\n",
              "      <td>353.0</td>\n",
              "      <td>38.89</td>\n",
              "      <td>42.82</td>\n",
              "      <td>43.92</td>\n",
              "      <td>35.34</td>\n",
              "      <td>72.55</td>\n",
              "      <td>NaN</td>\n",
              "    </tr>\n",
              "    <tr>\n",
              "      <th>2</th>\n",
              "      <td>TRAIN_002</td>\n",
              "      <td>1</td>\n",
              "      <td>0.531267</td>\n",
              "      <td>2022-06-13 5:30</td>\n",
              "      <td>T050304</td>\n",
              "      <td>A_31</td>\n",
              "      <td>NaN</td>\n",
              "      <td>NaN</td>\n",
              "      <td>NaN</td>\n",
              "      <td>NaN</td>\n",
              "      <td>...</td>\n",
              "      <td>165.5</td>\n",
              "      <td>383.0</td>\n",
              "      <td>367.320755</td>\n",
              "      <td>353.0</td>\n",
              "      <td>39.19</td>\n",
              "      <td>36.65</td>\n",
              "      <td>42.47</td>\n",
              "      <td>36.53</td>\n",
              "      <td>78.35</td>\n",
              "      <td>NaN</td>\n",
              "    </tr>\n",
              "  </tbody>\n",
              "</table>\n",
              "<p>3 rows × 2797 columns</p>\n",
              "</div>\n",
              "      <button class=\"colab-df-convert\" onclick=\"convertToInteractive('df-fcd1956b-7604-4669-8a88-38d79c19d95a')\"\n",
              "              title=\"Convert this dataframe to an interactive table.\"\n",
              "              style=\"display:none;\">\n",
              "        \n",
              "  <svg xmlns=\"http://www.w3.org/2000/svg\" height=\"24px\"viewBox=\"0 0 24 24\"\n",
              "       width=\"24px\">\n",
              "    <path d=\"M0 0h24v24H0V0z\" fill=\"none\"/>\n",
              "    <path d=\"M18.56 5.44l.94 2.06.94-2.06 2.06-.94-2.06-.94-.94-2.06-.94 2.06-2.06.94zm-11 1L8.5 8.5l.94-2.06 2.06-.94-2.06-.94L8.5 2.5l-.94 2.06-2.06.94zm10 10l.94 2.06.94-2.06 2.06-.94-2.06-.94-.94-2.06-.94 2.06-2.06.94z\"/><path d=\"M17.41 7.96l-1.37-1.37c-.4-.4-.92-.59-1.43-.59-.52 0-1.04.2-1.43.59L10.3 9.45l-7.72 7.72c-.78.78-.78 2.05 0 2.83L4 21.41c.39.39.9.59 1.41.59.51 0 1.02-.2 1.41-.59l7.78-7.78 2.81-2.81c.8-.78.8-2.07 0-2.86zM5.41 20L4 18.59l7.72-7.72 1.47 1.35L5.41 20z\"/>\n",
              "  </svg>\n",
              "      </button>\n",
              "      \n",
              "  <style>\n",
              "    .colab-df-container {\n",
              "      display:flex;\n",
              "      flex-wrap:wrap;\n",
              "      gap: 12px;\n",
              "    }\n",
              "\n",
              "    .colab-df-convert {\n",
              "      background-color: #E8F0FE;\n",
              "      border: none;\n",
              "      border-radius: 50%;\n",
              "      cursor: pointer;\n",
              "      display: none;\n",
              "      fill: #1967D2;\n",
              "      height: 32px;\n",
              "      padding: 0 0 0 0;\n",
              "      width: 32px;\n",
              "    }\n",
              "\n",
              "    .colab-df-convert:hover {\n",
              "      background-color: #E2EBFA;\n",
              "      box-shadow: 0px 1px 2px rgba(60, 64, 67, 0.3), 0px 1px 3px 1px rgba(60, 64, 67, 0.15);\n",
              "      fill: #174EA6;\n",
              "    }\n",
              "\n",
              "    [theme=dark] .colab-df-convert {\n",
              "      background-color: #3B4455;\n",
              "      fill: #D2E3FC;\n",
              "    }\n",
              "\n",
              "    [theme=dark] .colab-df-convert:hover {\n",
              "      background-color: #434B5C;\n",
              "      box-shadow: 0px 1px 3px 1px rgba(0, 0, 0, 0.15);\n",
              "      filter: drop-shadow(0px 1px 2px rgba(0, 0, 0, 0.3));\n",
              "      fill: #FFFFFF;\n",
              "    }\n",
              "  </style>\n",
              "\n",
              "      <script>\n",
              "        const buttonEl =\n",
              "          document.querySelector('#df-fcd1956b-7604-4669-8a88-38d79c19d95a button.colab-df-convert');\n",
              "        buttonEl.style.display =\n",
              "          google.colab.kernel.accessAllowed ? 'block' : 'none';\n",
              "\n",
              "        async function convertToInteractive(key) {\n",
              "          const element = document.querySelector('#df-fcd1956b-7604-4669-8a88-38d79c19d95a');\n",
              "          const dataTable =\n",
              "            await google.colab.kernel.invokeFunction('convertToInteractive',\n",
              "                                                     [key], {});\n",
              "          if (!dataTable) return;\n",
              "\n",
              "          const docLinkHtml = 'Like what you see? Visit the ' +\n",
              "            '<a target=\"_blank\" href=https://colab.research.google.com/notebooks/data_table.ipynb>data table notebook</a>'\n",
              "            + ' to learn more about interactive tables.';\n",
              "          element.innerHTML = '';\n",
              "          dataTable['output_type'] = 'display_data';\n",
              "          await google.colab.output.renderOutput(dataTable, element);\n",
              "          const docLink = document.createElement('div');\n",
              "          docLink.innerHTML = docLinkHtml;\n",
              "          element.appendChild(docLink);\n",
              "        }\n",
              "      </script>\n",
              "    </div>\n",
              "  </div>\n",
              "  "
            ]
          },
          "metadata": {},
          "execution_count": 78
        }
      ]
    },
    {
      "cell_type": "code",
      "source": [
        "trainA_31 = train[train['PRODUCT_CODE']=='A_31']\n",
        "train_T_31 = train[train['PRODUCT_CODE']=='T_31']\n",
        "train_O_31 = train[train['PRODUCT_CODE']=='O_31']\n",
        "\n",
        "testA_31 = test[test['PRODUCT_CODE']=='A_31']\n",
        "test_T_31 = test[test['PRODUCT_CODE']=='T_31']\n",
        "test_O_31 = test[test['PRODUCT_CODE']=='O_31']"
      ],
      "metadata": {
        "id": "myMqW7-YQnJD"
      },
      "execution_count": 79,
      "outputs": []
    },
    {
      "cell_type": "code",
      "source": [
        "col_list = train.columns\n",
        "nan_listA_31 = []\n",
        "nan_cntA_31 = []\n",
        "nan_colA_31 = []\n",
        "full_listA_31 = []\n",
        "for col in col_list:\n",
        "    if trainA_31[col].isnull().sum() == 0 :\n",
        "        full_listA_31.append(col)\n",
        "        continue\n",
        "    nan_listA_31.append([col, trainA_31[col].isnull().sum()])\n",
        "    nan_cntA_31.append(trainA_31[col].isnull().sum())\n",
        "    nan_colA_31.append(col)\n",
        "    \n",
        "'''모든값이 결측값이면 제거'''\n",
        "del_col = []\n",
        "for col in nan_listA_31 :\n",
        "    if col[1] == len(trainA_31) :\n",
        "        del_col.append(col[0])\n",
        "trainA_31 = trainA_31.drop(columns=del_col)\n",
        "testA_31 = testA_31.drop(columns=del_col)\n",
        "\n",
        "'''값이 1개 존재하면 제거'''\n",
        "del_col = []\n",
        "col_list = trainA_31.columns\n",
        "for col in col_list[6:] :\n",
        "    if trainA_31[col].nunique()==1 :\n",
        "        del_col.append(col)\n",
        "trainA_31 = trainA_31.drop(columns=del_col)\n",
        "testA_31 = testA_31.drop(columns=del_col)"
      ],
      "metadata": {
        "id": "8qkdYSq3QnFw"
      },
      "execution_count": 80,
      "outputs": []
    },
    {
      "cell_type": "code",
      "source": [
        "col_list = train.columns\n",
        "nan_listO = []\n",
        "nan_cntO = []\n",
        "nan_colO = []\n",
        "full_listO = []\n",
        "for col in col_list:\n",
        "    if train_O_31[col].isnull().sum() == 0 :\n",
        "        full_listO.append(col)\n",
        "        continue\n",
        "    nan_listO.append([col, train_O_31[col].isnull().sum()])\n",
        "    nan_cntO.append(train_O_31[col].isnull().sum())\n",
        "    nan_colO.append(col)\n",
        "    \n",
        "'''모든값이 결측값이면 제거'''\n",
        "del_col = []\n",
        "for col in nan_listO :\n",
        "    if col[1] == len(train_O_31) :\n",
        "        del_col.append(col[0])\n",
        "train_O_31 = train_O_31.drop(columns=del_col)\n",
        "test_O_31 = test_O_31.drop(columns=del_col)\n",
        "\n",
        "'''값이 1개 존재하면 제거'''\n",
        "del_col = []\n",
        "col_list = train_O_31.columns\n",
        "for col in col_list[6:] :\n",
        "    if train_O_31[col].nunique()==1 :\n",
        "        del_col.append(col)\n",
        "train_O_31 = train_O_31.drop(columns=del_col)\n",
        "test_O_31 = test_O_31.drop(columns=del_col)"
      ],
      "metadata": {
        "id": "cTBdeonAQnDW"
      },
      "execution_count": 81,
      "outputs": []
    },
    {
      "cell_type": "code",
      "source": [
        "col_list = train.columns\n",
        "nan_listT = []\n",
        "nan_cntT = []\n",
        "nan_colT = []\n",
        "full_listT = []\n",
        "for col in col_list:\n",
        "    if train_T_31[col].isnull().sum() == 0 :\n",
        "        full_listT.append(col)\n",
        "        continue\n",
        "    nan_listT.append([col, train_T_31[col].isnull().sum()])\n",
        "    nan_cntT.append(train_T_31[col].isnull().sum())\n",
        "    nan_colT.append(col)\n",
        "    \n",
        "'''모든값이 결측값이면 제거'''\n",
        "del_col = []\n",
        "for col in nan_listT :\n",
        "    if col[1] == len(train_T_31) :\n",
        "        del_col.append(col[0])\n",
        "train_T_31 = train_T_31.drop(columns=del_col)\n",
        "test_T_31 = test_T_31.drop(columns=del_col)\n",
        "\n",
        "'''값이 1개 존재하면 제거'''\n",
        "del_col = []\n",
        "col_list = train_T_31.columns\n",
        "for col in col_list[6:] :\n",
        "    if train_T_31[col].nunique()==1 :\n",
        "        del_col.append(col)\n",
        "train_T_31 = train_T_31.drop(columns=del_col)\n",
        "test_T_31 = test_T_31.drop(columns=del_col)"
      ],
      "metadata": {
        "id": "CahfjPMtQs_P"
      },
      "execution_count": 82,
      "outputs": []
    },
    {
      "cell_type": "code",
      "source": [
        "trainA_31_x = trainA_31.drop(columns=['PRODUCT_ID','TIMESTAMP','PRODUCT_CODE','Y_Class','Y_Quality'])\n",
        "testA_31_x = testA_31.drop(columns=['PRODUCT_ID','TIMESTAMP','PRODUCT_CODE'])\n",
        "train_T_31_x = train_T_31.drop(columns=['PRODUCT_ID','TIMESTAMP','Y_Class','Y_Quality','PRODUCT_CODE'])\n",
        "test_T_31_x = test_T_31.drop(columns=['PRODUCT_ID','TIMESTAMP','PRODUCT_CODE'])\n",
        "train_O_31_x = train_O_31.drop(columns=['PRODUCT_ID','TIMESTAMP','PRODUCT_CODE','Y_Class','Y_Quality'])\n",
        "test_O_31_x = test_O_31.drop(columns=['PRODUCT_ID','TIMESTAMP','PRODUCT_CODE'])\n",
        "\n",
        "# classification\n",
        "trainA_31_y_c = trainA_31['Y_Class']\n",
        "train_T_31_y_c = train_T_31['Y_Class']\n",
        "train_O_31_y_c = train_O_31['Y_Class']\n",
        "\n",
        "# regression\n",
        "trainA_31_y_r = trainA_31['Y_Quality']\n",
        "train_T_31_y_r = train_T_31['Y_Quality']\n",
        "train_O_31_y_r = train_O_31['Y_Quality']"
      ],
      "metadata": {
        "id": "SYqEXBTtQs7y"
      },
      "execution_count": 83,
      "outputs": []
    },
    {
      "cell_type": "code",
      "source": [
        "print(trainA_31_x.shape,'\\n',testA_31_x.shape,'\\n',train_T_31_x.shape,'\\n',test_T_31_x.shape,'\\n',train_O_31_x.shape,'\\n',test_O_31_x.shape)"
      ],
      "metadata": {
        "colab": {
          "base_uri": "https://localhost:8080/"
        },
        "id": "ZkwwTAwSQs5G",
        "outputId": "d922f9b5-38e5-4d71-a04f-4f6767c0cd52"
      },
      "execution_count": 84,
      "outputs": [
        {
          "output_type": "stream",
          "name": "stdout",
          "text": [
            "(249, 1866) \n",
            " (67, 1866) \n",
            " (343, 549) \n",
            " (239, 549) \n",
            " (6, 499) \n",
            " (4, 499)\n"
          ]
        }
      ]
    },
    {
      "cell_type": "code",
      "source": [
        "trainA_31_x=trainA_31_x.fillna(-100)\n",
        "testA_31_x=testA_31_x.fillna(-100)\n",
        "train_T_31_x=train_T_31_x.fillna(-100)\n",
        "test_T_31_x=test_T_31_x.fillna(-100)\n",
        "train_O_31_x=train_O_31_x.fillna(-100)\n",
        "test_O_31_x=test_O_31_x.fillna(-100)"
      ],
      "metadata": {
        "id": "qbroEzLWQs2u"
      },
      "execution_count": 86,
      "outputs": []
    },
    {
      "cell_type": "code",
      "source": [
        "# qualitative to quantitative\n",
        "qual_col = ['LINE']\n",
        "for i in qual_col:\n",
        "    le = LabelEncoder()\n",
        "    le = le.fit(trainA_31_x[i])\n",
        "    trainA_31_x[i] = le.transform(trainA_31_x[i])\n",
        "    \n",
        "    for label in np.unique(testA_31_x[i]): \n",
        "        if label not in le.classes_: \n",
        "            le.classes_ = np.append(le.classes_, label)\n",
        "    testA_31_x[i] = le.transform(testA_31_x[i]) \n",
        "print('Done.')"
      ],
      "metadata": {
        "colab": {
          "base_uri": "https://localhost:8080/"
        },
        "id": "56VW62FeQnAN",
        "outputId": "bf648ddb-aace-40c3-80a3-ff0d70f740e9"
      },
      "execution_count": 87,
      "outputs": [
        {
          "output_type": "stream",
          "name": "stdout",
          "text": [
            "Done.\n"
          ]
        }
      ]
    },
    {
      "cell_type": "code",
      "source": [
        "# qualitative to quantitative\n",
        "qual_col = ['LINE']\n",
        "for i in qual_col:\n",
        "    le = LabelEncoder()\n",
        "    le = le.fit(train_T_31_x[i])\n",
        "    train_T_31_x[i] = le.transform(train_T_31_x[i])\n",
        "    \n",
        "    for label in np.unique(test_T_31_x[i]): \n",
        "        if label not in le.classes_: \n",
        "            le.classes_ = np.append(le.classes_, label)\n",
        "    test_T_31_x[i] = le.transform(test_T_31_x[i]) \n",
        "print('Done.')"
      ],
      "metadata": {
        "colab": {
          "base_uri": "https://localhost:8080/"
        },
        "id": "tZmp68TmQ57N",
        "outputId": "2236b043-48fc-4e3d-fdc0-4492606821d8"
      },
      "execution_count": 88,
      "outputs": [
        {
          "output_type": "stream",
          "name": "stdout",
          "text": [
            "Done.\n"
          ]
        }
      ]
    },
    {
      "cell_type": "code",
      "source": [
        "# qualitative to quantitative\n",
        "qual_col = ['LINE']\n",
        "for i in qual_col:\n",
        "    le = LabelEncoder()\n",
        "    le = le.fit(train_O_31_x[i])\n",
        "    train_O_31_x[i] = le.transform(train_O_31_x[i])\n",
        "    \n",
        "    for label in np.unique(test_O_31_x[i]): \n",
        "        if label not in le.classes_: \n",
        "            le.classes_ = np.append(le.classes_, label)\n",
        "    test_O_31_x[i] = le.transform(test_O_31_x[i]) \n",
        "print('Done.')"
      ],
      "metadata": {
        "colab": {
          "base_uri": "https://localhost:8080/"
        },
        "id": "9kt-Nh83Q54c",
        "outputId": "a7f7ad3c-6e1b-4845-b683-b79dff75906c"
      },
      "execution_count": 89,
      "outputs": [
        {
          "output_type": "stream",
          "name": "stdout",
          "text": [
            "Done.\n"
          ]
        }
      ]
    },
    {
      "cell_type": "code",
      "source": [
        "model.fit(trainA_31_x, trainA_31_y_r)\n",
        "pred_a = model.predict(testA_31_x)"
      ],
      "metadata": {
        "colab": {
          "base_uri": "https://localhost:8080/"
        },
        "id": "GRGThSO6Q515",
        "outputId": "3cca2863-34a5-4ed2-a3cb-515377c91141"
      },
      "execution_count": 90,
      "outputs": [
        {
          "output_type": "stream",
          "name": "stdout",
          "text": [
            "0:\tlearn: 0.0098408\ttotal: 74.9ms\tremaining: 6m 14s\n",
            "500:\tlearn: 0.0026371\ttotal: 20.8s\tremaining: 3m 6s\n",
            "1000:\tlearn: 0.0019066\ttotal: 45.9s\tremaining: 3m 3s\n",
            "1500:\tlearn: 0.0014172\ttotal: 1m 8s\tremaining: 2m 39s\n",
            "2000:\tlearn: 0.0011401\ttotal: 1m 29s\tremaining: 2m 13s\n",
            "2500:\tlearn: 0.0009680\ttotal: 1m 51s\tremaining: 1m 51s\n",
            "3000:\tlearn: 0.0008445\ttotal: 2m 13s\tremaining: 1m 28s\n",
            "3500:\tlearn: 0.0007569\ttotal: 2m 33s\tremaining: 1m 5s\n",
            "4000:\tlearn: 0.0007022\ttotal: 2m 55s\tremaining: 43.9s\n",
            "4500:\tlearn: 0.0006563\ttotal: 3m 16s\tremaining: 21.7s\n",
            "4999:\tlearn: 0.0006179\ttotal: 3m 38s\tremaining: 0us\n"
          ]
        }
      ]
    },
    {
      "cell_type": "code",
      "source": [
        "model.fit(train_T_31_x, train_T_31_y_r)\n",
        "pred_t = model.predict(test_T_31_x)"
      ],
      "metadata": {
        "colab": {
          "base_uri": "https://localhost:8080/"
        },
        "id": "J3iK0YW3Q-_5",
        "outputId": "b15e4249-cf79-4cf7-941f-cb2b475d44be"
      },
      "execution_count": 91,
      "outputs": [
        {
          "output_type": "stream",
          "name": "stdout",
          "text": [
            "0:\tlearn: 0.0047262\ttotal: 10.9ms\tremaining: 54.4s\n",
            "500:\tlearn: 0.0016846\ttotal: 11s\tremaining: 1m 39s\n",
            "1000:\tlearn: 0.0012530\ttotal: 22.7s\tremaining: 1m 30s\n",
            "1500:\tlearn: 0.0009971\ttotal: 32.5s\tremaining: 1m 15s\n",
            "2000:\tlearn: 0.0008137\ttotal: 43.6s\tremaining: 1m 5s\n",
            "2500:\tlearn: 0.0006999\ttotal: 55.4s\tremaining: 55.3s\n",
            "3000:\tlearn: 0.0006113\ttotal: 1m 7s\tremaining: 44.6s\n",
            "3500:\tlearn: 0.0005245\ttotal: 1m 18s\tremaining: 33.5s\n",
            "4000:\tlearn: 0.0004630\ttotal: 1m 29s\tremaining: 22.3s\n",
            "4500:\tlearn: 0.0004090\ttotal: 1m 39s\tremaining: 11s\n",
            "4999:\tlearn: 0.0003683\ttotal: 1m 50s\tremaining: 0us\n"
          ]
        }
      ]
    },
    {
      "cell_type": "code",
      "source": [
        "model.fit(train_O_31_x, train_O_31_y_r)\n",
        "pred_o = model.predict(test_O_31_x)"
      ],
      "metadata": {
        "colab": {
          "base_uri": "https://localhost:8080/"
        },
        "id": "lPpbu8R9Q-9V",
        "outputId": "e1a3a1fb-2e3f-48ca-f036-5083636a19e9"
      },
      "execution_count": 92,
      "outputs": [
        {
          "output_type": "stream",
          "name": "stdout",
          "text": [
            "0:\tlearn: 0.0031761\ttotal: 6.21ms\tremaining: 31.1s\n",
            "500:\tlearn: 0.0005046\ttotal: 3.34s\tremaining: 30s\n",
            "1000:\tlearn: 0.0002630\ttotal: 6.63s\tremaining: 26.5s\n",
            "1500:\tlearn: 0.0001312\ttotal: 8.66s\tremaining: 20.2s\n",
            "2000:\tlearn: 0.0000667\ttotal: 10.7s\tremaining: 16.1s\n",
            "2500:\tlearn: 0.0000465\ttotal: 12.6s\tremaining: 12.6s\n",
            "3000:\tlearn: 0.0000190\ttotal: 14.5s\tremaining: 9.67s\n",
            "3500:\tlearn: 0.0000077\ttotal: 17.3s\tremaining: 7.43s\n",
            "4000:\tlearn: 0.0000040\ttotal: 20.6s\tremaining: 5.15s\n",
            "4500:\tlearn: 0.0000030\ttotal: 22.7s\tremaining: 2.52s\n",
            "4999:\tlearn: 0.0000028\ttotal: 24.8s\tremaining: 0us\n"
          ]
        }
      ]
    },
    {
      "cell_type": "code",
      "source": [
        "testA_31['Y_quanlity'] = pred_a\n",
        "test_T_31['Y_quanlity'] = pred_t\n",
        "test_O_31['Y_quanlity'] = pred_o"
      ],
      "metadata": {
        "id": "E6iendfMQ-6h"
      },
      "execution_count": 93,
      "outputs": []
    },
    {
      "cell_type": "code",
      "source": [
        "testA_31['Y_Class'] = 1\n",
        "test_T_31['Y_Class'] = 1\n",
        "test_O_31['Y_Class'] = 1"
      ],
      "metadata": {
        "id": "yepuED61RqUQ"
      },
      "execution_count": 94,
      "outputs": []
    },
    {
      "cell_type": "code",
      "source": [
        "testA_31.loc[(testA_31['Y_quanlity']<0.52507), 'Y_Class'] = 0\n",
        "testA_31.loc[(testA_31['Y_quanlity']>0.5349), 'Y_Class'] = 2\n",
        "\n",
        "test_T_31.loc[(test_T_31['Y_quanlity']<0.52507), 'Y_Class'] = 0\n",
        "test_T_31.loc[(test_T_31['Y_quanlity']>0.5349), 'Y_Class'] = 2\n",
        "\n",
        "test_O_31.loc[(test_O_31['Y_quanlity']<0.52507), 'Y_Class'] = 0\n",
        "test_O_31.loc[(test_O_31['Y_quanlity']>0.5349), 'Y_Class'] = 2"
      ],
      "metadata": {
        "id": "zMa-c0ixQ-3v"
      },
      "execution_count": 95,
      "outputs": []
    },
    {
      "cell_type": "code",
      "source": [
        "submita = pd.read_csv('/content/drive/MyDrive/lg/sample_submission.csv')\n",
        "submitt = pd.read_csv('/content/drive/MyDrive/lg/sample_submission.csv')\n",
        "submito = pd.read_csv('/content/drive/MyDrive/lg/sample_submission.csv')"
      ],
      "metadata": {
        "id": "zq1jkmRtQ-0n"
      },
      "execution_count": 96,
      "outputs": []
    },
    {
      "cell_type": "code",
      "source": [
        "submita = pd.merge(submita[['PRODUCT_ID']],testA_31[['PRODUCT_ID','Y_Class']],on='PRODUCT_ID')\n",
        "submitt = pd.merge(submitt[['PRODUCT_ID']],test_T_31[['PRODUCT_ID','Y_Class']],on='PRODUCT_ID')\n",
        "submito = pd.merge(submito[['PRODUCT_ID']],test_O_31[['PRODUCT_ID','Y_Class']],on='PRODUCT_ID')"
      ],
      "metadata": {
        "id": "rrmojt1jRy46"
      },
      "execution_count": 97,
      "outputs": []
    },
    {
      "cell_type": "code",
      "source": [
        "pd.concat([submita,submitt,submito]).sort_values(by='PRODUCT_ID').to_csv('/content/drive/MyDrive/lg/statm.csv',index=False)"
      ],
      "metadata": {
        "id": "9eHcKvH-Ry2G"
      },
      "execution_count": 98,
      "outputs": []
    },
    {
      "cell_type": "code",
      "source": [
        "sub = pd.concat([submita,submitt,submito]).sort_values(by='PRODUCT_ID')"
      ],
      "metadata": {
        "id": "cwJdawSUSKGr"
      },
      "execution_count": 99,
      "outputs": []
    },
    {
      "cell_type": "code",
      "source": [
        "len(sub[sub['Y_Class']==0])"
      ],
      "metadata": {
        "colab": {
          "base_uri": "https://localhost:8080/"
        },
        "id": "qVrpzFd1SJ44",
        "outputId": "ffaf7e9d-8d04-4eef-b9f7-14af18b3daf1"
      },
      "execution_count": 100,
      "outputs": [
        {
          "output_type": "execute_result",
          "data": {
            "text/plain": [
              "27"
            ]
          },
          "metadata": {},
          "execution_count": 100
        }
      ]
    },
    {
      "cell_type": "code",
      "source": [
        "len(sub[sub['Y_Class']==2])"
      ],
      "metadata": {
        "colab": {
          "base_uri": "https://localhost:8080/"
        },
        "id": "OoLZDPxoSJoT",
        "outputId": "3ff3b040-ee84-4c35-e81b-5c7a3adeee7e"
      },
      "execution_count": 101,
      "outputs": [
        {
          "output_type": "execute_result",
          "data": {
            "text/plain": [
              "12"
            ]
          },
          "metadata": {},
          "execution_count": 101
        }
      ]
    }
  ]
}