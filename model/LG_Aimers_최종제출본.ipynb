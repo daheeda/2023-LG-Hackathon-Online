{
  "cells": [
    {
      "cell_type": "markdown",
      "id": "52c50cc9",
      "metadata": {
        "id": "52c50cc9"
      },
      "source": [
        "## import & version"
      ]
    },
    {
      "cell_type": "code",
      "source": [
        "!pip install catboost"
      ],
      "metadata": {
        "colab": {
          "base_uri": "https://localhost:8080/"
        },
        "id": "eo8iaqrWfkZB",
        "outputId": "c25996f5-8da8-4b2f-da26-ec3419f23dd6"
      },
      "id": "eo8iaqrWfkZB",
      "execution_count": 2,
      "outputs": [
        {
          "output_type": "stream",
          "name": "stdout",
          "text": [
            "Looking in indexes: https://pypi.org/simple, https://us-python.pkg.dev/colab-wheels/public/simple/\n",
            "Collecting catboost\n",
            "  Downloading catboost-1.1.1-cp38-none-manylinux1_x86_64.whl (76.6 MB)\n",
            "\u001b[2K     \u001b[90m━━━━━━━━━━━━━━━━━━━━━━━━━━━━━━━━━━━━━━━━\u001b[0m \u001b[32m76.6/76.6 MB\u001b[0m \u001b[31m6.3 MB/s\u001b[0m eta \u001b[36m0:00:00\u001b[0m\n",
            "\u001b[?25hRequirement already satisfied: numpy>=1.16.0 in /usr/local/lib/python3.8/dist-packages (from catboost) (1.22.4)\n",
            "Requirement already satisfied: scipy in /usr/local/lib/python3.8/dist-packages (from catboost) (1.10.1)\n",
            "Requirement already satisfied: matplotlib in /usr/local/lib/python3.8/dist-packages (from catboost) (3.5.3)\n",
            "Requirement already satisfied: pandas>=0.24.0 in /usr/local/lib/python3.8/dist-packages (from catboost) (1.3.5)\n",
            "Requirement already satisfied: plotly in /usr/local/lib/python3.8/dist-packages (from catboost) (5.5.0)\n",
            "Requirement already satisfied: graphviz in /usr/local/lib/python3.8/dist-packages (from catboost) (0.10.1)\n",
            "Requirement already satisfied: six in /usr/local/lib/python3.8/dist-packages (from catboost) (1.15.0)\n",
            "Requirement already satisfied: pytz>=2017.3 in /usr/local/lib/python3.8/dist-packages (from pandas>=0.24.0->catboost) (2022.7.1)\n",
            "Requirement already satisfied: python-dateutil>=2.7.3 in /usr/local/lib/python3.8/dist-packages (from pandas>=0.24.0->catboost) (2.8.2)\n",
            "Requirement already satisfied: fonttools>=4.22.0 in /usr/local/lib/python3.8/dist-packages (from matplotlib->catboost) (4.38.0)\n",
            "Requirement already satisfied: pillow>=6.2.0 in /usr/local/lib/python3.8/dist-packages (from matplotlib->catboost) (8.4.0)\n",
            "Requirement already satisfied: packaging>=20.0 in /usr/local/lib/python3.8/dist-packages (from matplotlib->catboost) (23.0)\n",
            "Requirement already satisfied: cycler>=0.10 in /usr/local/lib/python3.8/dist-packages (from matplotlib->catboost) (0.11.0)\n",
            "Requirement already satisfied: kiwisolver>=1.0.1 in /usr/local/lib/python3.8/dist-packages (from matplotlib->catboost) (1.4.4)\n",
            "Requirement already satisfied: pyparsing>=2.2.1 in /usr/local/lib/python3.8/dist-packages (from matplotlib->catboost) (3.0.9)\n",
            "Requirement already satisfied: tenacity>=6.2.0 in /usr/local/lib/python3.8/dist-packages (from plotly->catboost) (8.2.2)\n",
            "Installing collected packages: catboost\n",
            "Successfully installed catboost-1.1.1\n"
          ]
        }
      ]
    },
    {
      "cell_type": "code",
      "execution_count": 4,
      "id": "5035356f",
      "metadata": {
        "id": "5035356f"
      },
      "outputs": [],
      "source": [
        "import pandas as pd\n",
        "import numpy as np\n",
        "import warnings\n",
        "warnings.filterwarnings(action='ignore')\n",
        "import catboost\n",
        "from catboost import *\n",
        "import sklearn\n",
        "from sklearn.preprocessing import LabelEncoder\n",
        "import sys"
      ]
    },
    {
      "cell_type": "code",
      "execution_count": 5,
      "id": "d44e26e7",
      "metadata": {
        "colab": {
          "base_uri": "https://localhost:8080/"
        },
        "id": "d44e26e7",
        "outputId": "c988f3a5-c7d9-44a7-d840-c689592a185e"
      },
      "outputs": [
        {
          "output_type": "stream",
          "name": "stdout",
          "text": [
            " pandas version   :  1.3.5 \n",
            " numpy version    :  1.22.4 \n",
            " catboost version :  1.1.1 \n",
            " sklearn version  :  1.2.1 \n",
            " python version   :  3.8.10 (default, Nov 14 2022, 12:59:47) \n",
            "[GCC 9.4.0]\n"
          ]
        }
      ],
      "source": [
        "print(' pandas version   : ',pd.__version__,'\\n',\n",
        "       'numpy version    : ',np.__version__,'\\n',\n",
        "       'catboost version : ',catboost.__version__,'\\n',\n",
        "       'sklearn version  : ',sklearn.__version__,'\\n',\n",
        "       'python version   : ',sys.version)"
      ]
    },
    {
      "cell_type": "markdown",
      "id": "1c1690b0",
      "metadata": {
        "id": "1c1690b0"
      },
      "source": [
        "## Feature Engineering\n",
        "#### 함수 정의"
      ]
    },
    {
      "cell_type": "code",
      "execution_count": 6,
      "id": "6fe3402e",
      "metadata": {
        "id": "6fe3402e"
      },
      "outputs": [],
      "source": [
        "def del_columns(train, test):\n",
        "    \n",
        "    '''\n",
        "    모든 값이 결측값이거나,\n",
        "    유니크값이 1개인 경우 제거\n",
        "    '''\n",
        "    \n",
        "    col_list = train.columns\n",
        "    nan_list = []\n",
        "    nan_cnt = []\n",
        "    nan_col = []\n",
        "    full_list = []\n",
        "    for col in col_list:\n",
        "        if train[col].isnull().sum() == 0 :\n",
        "            full_list.append(col)\n",
        "            continue\n",
        "        nan_list.append([col, train[col].isnull().sum()])\n",
        "        nan_cnt.append(train[col].isnull().sum())\n",
        "        nan_col.append(col)\n",
        "\n",
        "    del_col = []\n",
        "    for col in nan_list :\n",
        "        if col[1] == len(train) :\n",
        "            del_col.append(col[0])\n",
        "    train = train.drop(columns=del_col)\n",
        "    test = test.drop(columns=del_col)\n",
        "\n",
        "    del_col = []\n",
        "    col_list = train.describe().columns\n",
        "    for col in col_list :\n",
        "        if col == 'Y_Class':\n",
        "            continue\n",
        "        if col == 'Y_Quality':\n",
        "            continue\n",
        "        if col == 'LINE':\n",
        "            continue\n",
        "        if col == 'PRODUCT_CODE':\n",
        "            continue\n",
        "        if train[col].nunique()==1 :\n",
        "            del_col.append(col)\n",
        "    train = train.drop(columns=del_col)\n",
        "    test = test.drop(columns=del_col)\n",
        "    \n",
        "    return train,test\n",
        "   \n",
        "def make_train_test_dataset(train,test):\n",
        "    \n",
        "    '''\n",
        "    트레인데이터, 학습데이터 셋 만들기\n",
        "    '''\n",
        "    \n",
        "    train_x = train.drop(columns=['PRODUCT_ID','TIMESTAMP','PRODUCT_CODE','Y_Class','Y_Quality'])\n",
        "    test_x = test.drop(columns=['PRODUCT_ID','TIMESTAMP','PRODUCT_CODE'])\n",
        "    train_y = train['Y_Quality']\n",
        "    train_w = train[['Y_Class']]\n",
        "    return train_x, test_x, train_y, train_w\n",
        "\n",
        "def fillna(train,test,value):\n",
        "    \n",
        "    '''\n",
        "    입력받은 value로 결측치 대체\n",
        "    '''\n",
        "    \n",
        "    train = train.fillna(value)\n",
        "    test = test.fillna(value)\n",
        "    return train,test\n",
        "\n",
        "def labelencoder(train,test,col_list):\n",
        "    \n",
        "    '''\n",
        "    입력받은 피처에 대해 라벨인코딩 진행\n",
        "    '''\n",
        "    \n",
        "    qual_col = col_list\n",
        "    for i in qual_col:\n",
        "        le = LabelEncoder()\n",
        "        le = le.fit(train[i])\n",
        "        train[i] = le.transform(train[i])\n",
        "\n",
        "        for label in np.unique(test[i]): \n",
        "            if label not in le.classes_: \n",
        "                le.classes_ = np.append(le.classes_, label)\n",
        "        test[i] = le.transform(test[i]) \n",
        "    return train,test\n",
        "\n",
        "def pred_target(arr):\n",
        "    for i in range(len(arr)):\n",
        "        if arr[i] < -0.64421190232267 :\n",
        "            arr[i] = 0\n",
        "        elif arr[i] <= -0.6256814053066195 :\n",
        "            arr[i] = 1\n",
        "        else : \n",
        "            arr[i] = 2\n",
        "    return arr\n",
        "\n",
        "def make_dataset (train_path, test_path):\n",
        "\n",
        "    train = pd.read_csv(train_path)\n",
        "    test = pd.read_csv(test_path)\n",
        "\n",
        "    # y quality scaling\n",
        "    train['Y_Quality'] = train['Y_Quality'].map(lambda x : np.log(x))\n",
        "\n",
        "    train, test = del_columns(train,test)\n",
        "\n",
        "    trainA_31 = train[train['PRODUCT_CODE']=='A_31']\n",
        "    train_T_31 = train[train['PRODUCT_CODE']=='T_31']\n",
        "    train_O_31 = train[train['PRODUCT_CODE']=='O_31']\n",
        "\n",
        "    testA_31 = test[test['PRODUCT_CODE']=='A_31']\n",
        "    test_T_31 = test[test['PRODUCT_CODE']=='T_31']\n",
        "    test_O_31 = test[test['PRODUCT_CODE']=='O_31']\n",
        "\n",
        "    trainA_31, testA_31 = del_columns(trainA_31,testA_31)\n",
        "    train_T_31, test_T_31 = del_columns(train_T_31,test_T_31)\n",
        "    train_O_31, test_O_31 = del_columns(train_O_31,test_O_31)\n",
        "\n",
        "    trainA_31_x,testA_31_x, trainA_31_y, trainA_31_w = make_train_test_dataset(trainA_31,testA_31)\n",
        "    train_T_31_x,test_T_31_x, train_T_31_y, train_T_31_w = make_train_test_dataset(train_T_31,test_T_31)\n",
        "    train_O_31_x,test_O_31_x, train_O_31_y, train_O_31_w = make_train_test_dataset(train_O_31,test_O_31)\n",
        "\n",
        "    trainA_31_x,testA_31_x = labelencoder(trainA_31_x,testA_31_x,['LINE'])\n",
        "    train_T_31_x,test_T_31_x = labelencoder(train_T_31_x,test_T_31_x,['LINE'])\n",
        "    train_O_31_x,test_O_31_x = labelencoder(train_O_31_x,test_O_31_x,['LINE'])\n",
        "\n",
        "    trainA_31_x,testA_31_x = fillna(trainA_31_x,testA_31_x,-1)\n",
        "    train_T_31_x,test_T_31_x = fillna(train_T_31_x,test_T_31_x,-1)\n",
        "    train_O_31_x,test_O_31_x = fillna(train_O_31_x,test_O_31_x,-1)\n",
        "\n",
        "    print(\" train_a_shape : \",trainA_31_x.shape,testA_31_x.shape,'\\n',\n",
        "          \"train_t_shape : \",train_T_31_x.shape,test_T_31_x.shape,'\\n',\n",
        "          \"train_o_shape : \",train_O_31_x.shape,test_O_31_x.shape)\n",
        "    \n",
        "    return trainA_31_x,testA_31_x, trainA_31_y, testA_31,train_T_31_x,test_T_31_x, train_T_31_y, test_T_31,train_O_31_x,test_O_31_x, train_O_31_y,test_O_31"
      ]
    },
    {
      "cell_type": "code",
      "source": [
        "from google.colab import drive\n",
        "drive.mount('/content/drive')"
      ],
      "metadata": {
        "colab": {
          "base_uri": "https://localhost:8080/"
        },
        "id": "m5yLK0WYfhSR",
        "outputId": "86f66f41-d547-4ae9-ff79-4d47242349f2"
      },
      "id": "m5yLK0WYfhSR",
      "execution_count": 3,
      "outputs": [
        {
          "output_type": "stream",
          "name": "stdout",
          "text": [
            "Mounted at /content/drive\n"
          ]
        }
      ]
    },
    {
      "cell_type": "markdown",
      "id": "4dcd91e7",
      "metadata": {
        "id": "4dcd91e7"
      },
      "source": [
        "#### 실행"
      ]
    },
    {
      "cell_type": "code",
      "execution_count": 7,
      "id": "eb73d213",
      "metadata": {
        "id": "eb73d213"
      },
      "outputs": [],
      "source": [
        "train_input = '/content/drive/MyDrive/LG_Aimers2/open (7)/train.csv'\n",
        "test_input = '/content/drive/MyDrive/LG_Aimers2/open (7)/test.csv'"
      ]
    },
    {
      "cell_type": "code",
      "execution_count": 8,
      "id": "f24f1a00",
      "metadata": {
        "colab": {
          "base_uri": "https://localhost:8080/"
        },
        "id": "f24f1a00",
        "outputId": "b366a897-a05d-4be6-d658-6acf23b45639"
      },
      "outputs": [
        {
          "output_type": "stream",
          "name": "stdout",
          "text": [
            " train_a_shape :  (249, 1866) (67, 1866) \n",
            " train_t_shape :  (343, 550) (239, 550) \n",
            " train_o_shape :  (6, 499) (4, 499)\n"
          ]
        }
      ],
      "source": [
        "train_A_31_x,test_A_31_x, train_A_31_y,test_A_31, train_T_31_x,test_T_31_x, train_T_31_y,test_T_31, train_O_31_x,test_O_31_x, train_O_31_y,test_O_31 = make_dataset(train_input,test_input)"
      ]
    },
    {
      "cell_type": "markdown",
      "id": "5753b76c",
      "metadata": {
        "id": "5753b76c"
      },
      "source": [
        "## 학습 및 예측"
      ]
    },
    {
      "cell_type": "code",
      "execution_count": 9,
      "id": "5d9adf01",
      "metadata": {
        "id": "5d9adf01"
      },
      "outputs": [],
      "source": [
        "model = CatBoostRegressor(random_state=1234,verbose=500,iterations=1500,learning_rate=0.033)"
      ]
    },
    {
      "cell_type": "code",
      "execution_count": 10,
      "id": "bc8daa29",
      "metadata": {
        "colab": {
          "base_uri": "https://localhost:8080/"
        },
        "id": "bc8daa29",
        "outputId": "29a13ee0-ced2-43ee-85f8-ef4be2777d09"
      },
      "outputs": [
        {
          "output_type": "stream",
          "name": "stdout",
          "text": [
            "0:\tlearn: 0.0183320\ttotal: 464ms\tremaining: 11m 35s\n",
            "500:\tlearn: 0.0012455\ttotal: 1m 7s\tremaining: 2m 14s\n",
            "1000:\tlearn: 0.0001219\ttotal: 2m 12s\tremaining: 1m 5s\n",
            "1499:\tlearn: 0.0000126\ttotal: 3m 6s\tremaining: 0us\n"
          ]
        }
      ],
      "source": [
        "model.fit(train_A_31_x, train_A_31_y)\n",
        "pred_a = model.predict(test_A_31_x)"
      ]
    },
    {
      "cell_type": "code",
      "execution_count": 11,
      "id": "4d5a3bb6",
      "metadata": {
        "id": "4d5a3bb6"
      },
      "outputs": [],
      "source": [
        "pred_a = pred_target(pred_a)"
      ]
    },
    {
      "cell_type": "code",
      "execution_count": 12,
      "id": "8cba269a",
      "metadata": {
        "colab": {
          "base_uri": "https://localhost:8080/"
        },
        "id": "8cba269a",
        "outputId": "581fa522-457f-4799-9e16-c5924e175d4e"
      },
      "outputs": [
        {
          "output_type": "stream",
          "name": "stdout",
          "text": [
            "0:\tlearn: 0.0089112\ttotal: 91.8ms\tremaining: 2m 17s\n",
            "500:\tlearn: 0.0009494\ttotal: 20.7s\tremaining: 41.4s\n",
            "1000:\tlearn: 0.0001266\ttotal: 42.7s\tremaining: 21.3s\n",
            "1499:\tlearn: 0.0000183\ttotal: 1m 2s\tremaining: 0us\n"
          ]
        }
      ],
      "source": [
        "model.fit(train_T_31_x, train_T_31_y)\n",
        "pred_t = model.predict(test_T_31_x)"
      ]
    },
    {
      "cell_type": "code",
      "execution_count": 13,
      "id": "5de05069",
      "metadata": {
        "id": "5de05069"
      },
      "outputs": [],
      "source": [
        "pred_t = pred_target(pred_t)"
      ]
    },
    {
      "cell_type": "code",
      "execution_count": 14,
      "id": "6bc036bb",
      "metadata": {
        "colab": {
          "base_uri": "https://localhost:8080/"
        },
        "id": "6bc036bb",
        "outputId": "bcf9009d-b35d-4de0-d3a6-657aa8ee34c7"
      },
      "outputs": [
        {
          "output_type": "stream",
          "name": "stdout",
          "text": [
            "0:\tlearn: 0.0059697\ttotal: 5.41ms\tremaining: 8.11s\n",
            "500:\tlearn: 0.0000906\ttotal: 1.66s\tremaining: 3.31s\n",
            "1000:\tlearn: 0.0000014\ttotal: 3.22s\tremaining: 1.6s\n",
            "1499:\tlearn: 0.0000000\ttotal: 5.85s\tremaining: 0us\n"
          ]
        }
      ],
      "source": [
        "model.fit(train_O_31_x, train_O_31_y)\n",
        "pred_o = model.predict(test_O_31_x)"
      ]
    },
    {
      "cell_type": "code",
      "execution_count": 15,
      "id": "0d5ea056",
      "metadata": {
        "id": "0d5ea056"
      },
      "outputs": [],
      "source": [
        "pred_o = pred_target(pred_o)"
      ]
    },
    {
      "cell_type": "code",
      "execution_count": 17,
      "id": "a6922259",
      "metadata": {
        "id": "a6922259"
      },
      "outputs": [],
      "source": [
        "test_A_31['Y_Class'] = pred_a\n",
        "test_T_31['Y_Class'] = pred_t\n",
        "test_O_31['Y_Class'] = pred_o\n",
        "\n",
        "submita = pd.read_csv('/content/drive/MyDrive/LG_Aimers2/open (7)/sample_submission.csv')\n",
        "submitt = pd.read_csv('/content/drive/MyDrive/LG_Aimers2/open (7)/sample_submission.csv')\n",
        "submito = pd.read_csv('/content/drive/MyDrive/LG_Aimers2/open (7)/sample_submission.csv')\n",
        "\n",
        "submita = pd.merge(submita[['PRODUCT_ID']],test_A_31[['PRODUCT_ID','Y_Class']],on='PRODUCT_ID')\n",
        "submitt = pd.merge(submitt[['PRODUCT_ID']],test_T_31[['PRODUCT_ID','Y_Class']],on='PRODUCT_ID')\n",
        "submito = pd.merge(submito[['PRODUCT_ID']],test_O_31[['PRODUCT_ID','Y_Class']],on='PRODUCT_ID')\n",
        "\n",
        "submit_final = pd.concat([submita,submitt,submito]).sort_values(by='PRODUCT_ID')\n",
        "submit_final['Y_Class'] = submit_final['Y_Class'].astype('int')\n",
        "submit_final.to_csv('final_test.csv',index=False)"
      ]
    },
    {
      "cell_type": "markdown",
      "source": [
        "# After"
      ],
      "metadata": {
        "id": "-gtSnV8yfaLO"
      },
      "id": "-gtSnV8yfaLO"
    },
    {
      "cell_type": "code",
      "source": [
        "train = pd.read_csv('/content/drive/MyDrive/LG_Aimers2/open (7)/train.csv')\n",
        "test = pd.read_csv('/content/drive/MyDrive/LG_Aimers2/open (7)/test.csv')"
      ],
      "metadata": {
        "id": "oEPKnIqzfbqg"
      },
      "id": "oEPKnIqzfbqg",
      "execution_count": 18,
      "outputs": []
    },
    {
      "cell_type": "code",
      "source": [
        "def seed_everything(seed):\n",
        "    random.seed(seed)\n",
        "    os.environ['PYTHONHASHSEED'] = str(seed)\n",
        "    np.random.seed(seed)\n",
        "seed_everything(37) # Seed 고정"
      ],
      "metadata": {
        "id": "mc3Iq979f6NU"
      },
      "id": "mc3Iq979f6NU",
      "execution_count": null,
      "outputs": []
    },
    {
      "cell_type": "code",
      "source": [
        "col_list = train.columns\n",
        "nan_list = []\n",
        "nan_cnt = []\n",
        "nan_col = []\n",
        "full_list = []\n",
        "for col in col_list:\n",
        "    if train[col].isnull().sum() == 0 :\n",
        "        full_list.append(col)\n",
        "        continue\n",
        "    nan_list.append([col, train[col].isnull().sum()])\n",
        "    nan_cnt.append(train[col].isnull().sum())\n",
        "    nan_col.append(col)\n",
        "    \n",
        "'''모든값이 결측값이면 제거'''\n",
        "del_col = []\n",
        "for col in nan_list :\n",
        "    if col[1] == 598 :\n",
        "        del_col.append(col[0])\n",
        "train = train.drop(columns=del_col)\n",
        "test = test.drop(columns=del_col)\n",
        "\n",
        "\n",
        "\n",
        "trainA_31 = train[train['PRODUCT_CODE']=='A_31']\n",
        "train_T_31 = train[train['PRODUCT_CODE']=='T_31']\n",
        "train_O_31 = train[train['PRODUCT_CODE']=='O_31']\n",
        "\n",
        "testA_31 = test[test['PRODUCT_CODE']=='A_31']\n",
        "test_T_31 = test[test['PRODUCT_CODE']=='T_31']\n",
        "test_O_31 = test[test['PRODUCT_CODE']=='O_31']\n",
        "\n",
        "col_list = train.columns\n",
        "nan_listA_31 = []\n",
        "nan_cntA_31 = []\n",
        "nan_colA_31 = []\n",
        "full_listA_31 = []\n",
        "for col in col_list:\n",
        "    if trainA_31[col].isnull().sum() == 0 :\n",
        "        full_listA_31.append(col)\n",
        "        continue\n",
        "    nan_listA_31.append([col, trainA_31[col].isnull().sum()])\n",
        "    nan_cntA_31.append(trainA_31[col].isnull().sum())\n",
        "    nan_colA_31.append(col)\n",
        "    \n",
        "'''모든값이 결측값이면 제거'''\n",
        "del_col = []\n",
        "for col in nan_listA_31 :\n",
        "    if col[1] == len(trainA_31) :\n",
        "        del_col.append(col[0])\n",
        "trainA_31 = trainA_31.drop(columns=del_col)\n",
        "testA_31 = testA_31.drop(columns=del_col)\n",
        "\n",
        "'''값이 1개 존재하면 제거'''\n",
        "del_col = []\n",
        "col_list = trainA_31.columns\n",
        "for col in col_list[6:] :\n",
        "    if trainA_31[col].nunique()==1 :\n",
        "        del_col.append(col)\n",
        "trainA_31 = trainA_31.drop(columns=del_col)\n",
        "testA_31 = testA_31.drop(columns=del_col)\n",
        "\n",
        "\n",
        "\n",
        "col_list = train.columns\n",
        "nan_listO = []\n",
        "nan_cntO = []\n",
        "nan_colO = []\n",
        "full_listO = []\n",
        "for col in col_list:\n",
        "    if train_O_31[col].isnull().sum() == 0 :\n",
        "        full_listO.append(col)\n",
        "        continue\n",
        "    nan_listO.append([col, train_O_31[col].isnull().sum()])\n",
        "    nan_cntO.append(train_O_31[col].isnull().sum())\n",
        "    nan_colO.append(col)\n",
        "    \n",
        "'''모든값이 결측값이면 제거'''\n",
        "del_col = []\n",
        "for col in nan_listO :\n",
        "    if col[1] == len(train_O_31) :\n",
        "        del_col.append(col[0])\n",
        "train_O_31 = train_O_31.drop(columns=del_col)\n",
        "test_O_31 = test_O_31.drop(columns=del_col)\n",
        "\n",
        "'''값이 1개 존재하면 제거'''\n",
        "del_col = []\n",
        "col_list = train_O_31.columns\n",
        "for col in col_list[6:] :\n",
        "    if train_O_31[col].nunique()==1 :\n",
        "        del_col.append(col)\n",
        "train_O_31 = train_O_31.drop(columns=del_col)\n",
        "test_O_31 = test_O_31.drop(columns=del_col)\n",
        "\n",
        "\n",
        "col_list = train.columns\n",
        "nan_listT = []\n",
        "nan_cntT = []\n",
        "nan_colT = []\n",
        "full_listT = []\n",
        "for col in col_list:\n",
        "    if train_T_31[col].isnull().sum() == 0 :\n",
        "        full_listT.append(col)\n",
        "        continue\n",
        "    nan_listT.append([col, train_T_31[col].isnull().sum()])\n",
        "    nan_cntT.append(train_T_31[col].isnull().sum())\n",
        "    nan_colT.append(col)\n",
        "    \n",
        "'''모든값이 결측값이면 제거'''\n",
        "del_col = []\n",
        "for col in nan_listT :\n",
        "    if col[1] == len(train_T_31) :\n",
        "        del_col.append(col[0])\n",
        "train_T_31 = train_T_31.drop(columns=del_col)\n",
        "test_T_31 = test_T_31.drop(columns=del_col)\n",
        "\n",
        "'''값이 1개 존재하면 제거'''\n",
        "del_col = []\n",
        "col_list = train_T_31.columns\n",
        "for col in col_list[6:] :\n",
        "    if train_T_31[col].nunique()==1 :\n",
        "        del_col.append(col)\n",
        "train_T_31 = train_T_31.drop(columns=del_col)\n",
        "test_T_31 = test_T_31.drop(columns=del_col)\n",
        "\n",
        "\n",
        "trainA_31_x = trainA_31.drop(columns=['PRODUCT_ID','TIMESTAMP','PRODUCT_CODE','Y_Class','Y_Quality'])\n",
        "testA_31_x = testA_31.drop(columns=['PRODUCT_ID','TIMESTAMP','PRODUCT_CODE'])\n",
        "train_T_31_x = train_T_31.drop(columns=['PRODUCT_ID','TIMESTAMP','Y_Class','Y_Quality','PRODUCT_CODE'])\n",
        "test_T_31_x = test_T_31.drop(columns=['PRODUCT_ID','TIMESTAMP','PRODUCT_CODE'])\n",
        "train_O_31_x = train_O_31.drop(columns=['PRODUCT_ID','TIMESTAMP','PRODUCT_CODE','Y_Class','Y_Quality'])\n",
        "test_O_31_x = test_O_31.drop(columns=['PRODUCT_ID','TIMESTAMP','PRODUCT_CODE'])\n",
        "\n",
        "# classification\n",
        "trainA_31_y_c = trainA_31['Y_Class']\n",
        "train_T_31_y_c = train_T_31['Y_Class']\n",
        "train_O_31_y_c = train_O_31['Y_Class']\n",
        "\n",
        "# regression\n",
        "trainA_31_y_r = trainA_31['Y_Quality']\n",
        "train_T_31_y_r = train_T_31['Y_Quality']\n",
        "train_O_31_y_r = train_O_31['Y_Quality']\n",
        "\n",
        "trainA_31_x=trainA_31_x.fillna(-1)\n",
        "testA_31_x=testA_31_x.fillna(-1)\n",
        "train_T_31_x=train_T_31_x.fillna(-1)\n",
        "test_T_31_x=test_T_31_x.fillna(-1)\n",
        "train_O_31_x=train_O_31_x.fillna(-1)\n",
        "test_O_31_x=test_O_31_x.fillna(-1)\n",
        "\n",
        "# qualitative to quantitative\n",
        "qual_col = ['LINE']\n",
        "for i in qual_col:\n",
        "    le = LabelEncoder()\n",
        "    le = le.fit(trainA_31_x[i])\n",
        "    trainA_31_x[i] = le.transform(trainA_31_x[i])\n",
        "    \n",
        "    for label in np.unique(testA_31_x[i]): \n",
        "        if label not in le.classes_: \n",
        "            le.classes_ = np.append(le.classes_, label)\n",
        "    testA_31_x[i] = le.transform(testA_31_x[i]) \n",
        "\n",
        "# qualitative to quantitative\n",
        "qual_col = ['LINE']\n",
        "for i in qual_col:\n",
        "    le = LabelEncoder()\n",
        "    le = le.fit(train_T_31_x[i])\n",
        "    train_T_31_x[i] = le.transform(train_T_31_x[i])\n",
        "    \n",
        "    for label in np.unique(test_T_31_x[i]): \n",
        "        if label not in le.classes_: \n",
        "            le.classes_ = np.append(le.classes_, label)\n",
        "    test_T_31_x[i] = le.transform(test_T_31_x[i]) \n",
        "\n",
        "\n",
        "# qualitative to quantitative\n",
        "qual_col = ['LINE']\n",
        "for i in qual_col:\n",
        "    le = LabelEncoder()\n",
        "    le = le.fit(train_O_31_x[i])\n",
        "    train_O_31_x[i] = le.transform(train_O_31_x[i])\n",
        "    \n",
        "    for label in np.unique(test_O_31_x[i]): \n",
        "        if label not in le.classes_: \n",
        "            le.classes_ = np.append(le.classes_, label)\n",
        "    test_O_31_x[i] = le.transform(test_O_31_x[i]) \n"
      ],
      "metadata": {
        "id": "rLn995Hff7Pr"
      },
      "id": "rLn995Hff7Pr",
      "execution_count": 19,
      "outputs": []
    },
    {
      "cell_type": "code",
      "source": [
        "model = CatBoostClassifier(random_state=1234,verbose=500,iterations=1500,learning_rate=0.033)\n",
        "model.fit(trainA_31_x, trainA_31_y_c)\n",
        "pred_a = model.predict_proba(testA_31_x)\n",
        "model.fit(train_T_31_x, train_T_31_y_c)\n",
        "pred_t = model.predict_proba(test_T_31_x)\n",
        "model.fit(train_O_31_x, train_O_31_y_c)\n",
        "pred_o = model.predict_proba(test_O_31_x)\n",
        "\n",
        "testA_31['class0'] = pred_a[:, 0]\n",
        "testA_31['class1'] = pred_a[:, 1]\n",
        "testA_31['class2'] = pred_a[:, 2]\n",
        "test_T_31['class0'] = pred_t[:, 0]\n",
        "test_T_31['class1'] = pred_t[:, 1]\n",
        "test_T_31['class2'] = pred_t[:, 2]\n",
        "test_O_31['class0'] = 0\n",
        "test_O_31['class1'] = pred_o[:, 0]\n",
        "test_O_31['class2'] = pred_o[:, 1]\n",
        "\n",
        "\n",
        "submita = pd.read_csv('/content/drive/MyDrive/LG_Aimers2/open (7)/sample_submission.csv')\n",
        "submitt = pd.read_csv('/content/drive/MyDrive/LG_Aimers2/open (7)/sample_submission.csv')\n",
        "submito = pd.read_csv('/content/drive/MyDrive/LG_Aimers2/open (7)/sample_submission.csv')\n",
        "\n",
        "submita = pd.merge(submita[['PRODUCT_ID']],testA_31[['PRODUCT_ID','class0','class1','class2']],on='PRODUCT_ID')\n",
        "submitt = pd.merge(submitt[['PRODUCT_ID']],test_T_31[['PRODUCT_ID','class0','class1','class2']],on='PRODUCT_ID')\n",
        "submito = pd.merge(submito[['PRODUCT_ID']],test_O_31[['PRODUCT_ID','class0','class1','class2']],on='PRODUCT_ID')\n",
        "\n",
        "proba = pd.concat([submita,submitt,submito]).sort_values(by='PRODUCT_ID')"
      ],
      "metadata": {
        "colab": {
          "base_uri": "https://localhost:8080/"
        },
        "id": "ZtLMqrj7f9-I",
        "outputId": "408a112f-2aea-4ad0-89b6-0c5920103bfb"
      },
      "id": "ZtLMqrj7f9-I",
      "execution_count": 20,
      "outputs": [
        {
          "output_type": "stream",
          "name": "stdout",
          "text": [
            "0:\tlearn: 1.0882409\ttotal: 319ms\tremaining: 7m 57s\n",
            "500:\tlearn: 0.1579504\ttotal: 2m 20s\tremaining: 4m 40s\n",
            "1000:\tlearn: 0.0575422\ttotal: 4m 30s\tremaining: 2m 15s\n",
            "1499:\tlearn: 0.0313583\ttotal: 6m 35s\tremaining: 0us\n",
            "0:\tlearn: 1.0742571\ttotal: 175ms\tremaining: 4m 21s\n",
            "500:\tlearn: 0.1306600\ttotal: 49.3s\tremaining: 1m 38s\n",
            "1000:\tlearn: 0.0516016\ttotal: 1m 36s\tremaining: 48.3s\n",
            "1499:\tlearn: 0.0292629\ttotal: 2m 25s\tremaining: 0us\n",
            "0:\tlearn: 0.6684011\ttotal: 3.71ms\tremaining: 5.56s\n",
            "500:\tlearn: 0.0152105\ttotal: 2.36s\tremaining: 4.71s\n",
            "1000:\tlearn: 0.0083918\ttotal: 4.01s\tremaining: 2s\n",
            "1499:\tlearn: 0.0057760\ttotal: 5.64s\tremaining: 0us\n"
          ]
        }
      ]
    },
    {
      "cell_type": "code",
      "source": [
        "model = CatBoostRegressor(random_state=1234,verbose=500,iterations=1500,learning_rate=0.033)\n",
        "model.fit(trainA_31_x, trainA_31_y_c)\n",
        "pred_a_r_c = model.predict(testA_31_x)\n",
        "model.fit(train_T_31_x, train_T_31_y_c)\n",
        "pred_t_r_c = model.predict(test_T_31_x)\n",
        "model.fit(train_O_31_x, train_O_31_y_c)\n",
        "pred_o_r_c = model.predict(test_O_31_x)\n",
        "testA_31['Y_Class'] = pred_a_r_c\n",
        "test_T_31['Y_Class'] = pred_t_r_c\n",
        "test_O_31['Y_Class'] = pred_o_r_c\n",
        "submita = pd.read_csv('/content/drive/MyDrive/LG_Aimers2/open (7)/sample_submission.csv')\n",
        "submitt = pd.read_csv('/content/drive/MyDrive/LG_Aimers2/open (7)/sample_submission.csv')\n",
        "submito = pd.read_csv('/content/drive/MyDrive/LG_Aimers2/open (7)/sample_submission.csv')\n",
        "\n",
        "submita = pd.merge(submita[['PRODUCT_ID']],testA_31[['PRODUCT_ID','Y_Class']],on='PRODUCT_ID')\n",
        "submitt = pd.merge(submitt[['PRODUCT_ID']],test_T_31[['PRODUCT_ID','Y_Class']],on='PRODUCT_ID')\n",
        "submito = pd.merge(submito[['PRODUCT_ID']],test_O_31[['PRODUCT_ID','Y_Class']],on='PRODUCT_ID')\n",
        "\n",
        "reg = pd.concat([submita,submitt,submito]).sort_values(by='PRODUCT_ID')"
      ],
      "metadata": {
        "colab": {
          "base_uri": "https://localhost:8080/"
        },
        "id": "6KY2zm9kgCG3",
        "outputId": "52a4889e-af63-48e6-b49b-7f99898fd8b9"
      },
      "id": "6KY2zm9kgCG3",
      "execution_count": 21,
      "outputs": [
        {
          "output_type": "stream",
          "name": "stdout",
          "text": [
            "0:\tlearn: 0.7183692\ttotal: 135ms\tremaining: 3m 21s\n",
            "500:\tlearn: 0.0618939\ttotal: 55.1s\tremaining: 1m 49s\n",
            "1000:\tlearn: 0.0060866\ttotal: 1m 50s\tremaining: 55s\n",
            "1499:\tlearn: 0.0005781\ttotal: 2m 45s\tremaining: 0us\n",
            "0:\tlearn: 0.4093482\ttotal: 47.3ms\tremaining: 1m 10s\n",
            "500:\tlearn: 0.0796737\ttotal: 19.7s\tremaining: 39.4s\n",
            "1000:\tlearn: 0.0156947\ttotal: 44s\tremaining: 22s\n",
            "1499:\tlearn: 0.0023566\ttotal: 1m 3s\tremaining: 0us\n",
            "0:\tlearn: 0.4671273\ttotal: 4.76ms\tremaining: 7.13s\n",
            "500:\tlearn: 0.0034926\ttotal: 1.51s\tremaining: 3.01s\n",
            "1000:\tlearn: 0.0000555\ttotal: 4.61s\tremaining: 2.3s\n",
            "1499:\tlearn: 0.0000009\ttotal: 7.29s\tremaining: 0us\n"
          ]
        }
      ]
    },
    {
      "cell_type": "code",
      "source": [
        "processing = pd.merge(proba,reg, on= 'PRODUCT_ID')\n",
        "\n",
        "before = pd.read_csv('/content/final_test.csv')\n",
        "\n",
        "use_post = pd.merge(before,processing, on = 'PRODUCT_ID')\n",
        "\n",
        "\n",
        "use_post['Y_Class_x'][(use_post['Y_Class_x'] != 0) & (use_post['class0'] > 0.45) & (use_post['Y_Class_y'] <= 0.75)] = 0\n",
        "\n",
        "\n",
        "\n",
        "submit = pd.read_csv('/content/drive/MyDrive/LG_Aimers2/open (7)/sample_submission.csv')\n",
        "submit['Y_Class'] = use_post['Y_Class_x']\n",
        "submit.to_csv('재현확인.csv',index=False)"
      ],
      "metadata": {
        "id": "WN0bzAyUgC_u"
      },
      "id": "WN0bzAyUgC_u",
      "execution_count": 23,
      "outputs": []
    }
  ],
  "metadata": {
    "kernelspec": {
      "display_name": "Python 3 (ipykernel)",
      "language": "python",
      "name": "python3"
    },
    "language_info": {
      "codemirror_mode": {
        "name": "ipython",
        "version": 3
      },
      "file_extension": ".py",
      "mimetype": "text/x-python",
      "name": "python",
      "nbconvert_exporter": "python",
      "pygments_lexer": "ipython3",
      "version": "3.9.16"
    },
    "colab": {
      "provenance": []
    }
  },
  "nbformat": 4,
  "nbformat_minor": 5
}