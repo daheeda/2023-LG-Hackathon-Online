{
 "cells": [
  {
   "cell_type": "code",
   "execution_count": 1,
   "id": "prescription-release",
   "metadata": {},
   "outputs": [],
   "source": [
    "import pandas as pd\n",
    "import numpy as np\n",
    "import re\n",
    "import seaborn as sns\n",
    "import matplotlib.pyplot as plt\n",
    "import warnings\n",
    "from sklearn.preprocessing import LabelEncoder\n",
    "\n",
    "plt.style.use('ggplot')\n",
    "warnings.filterwarnings(action='ignore')\n",
    "import statsmodels.api as sm\n",
    "import warnings\n",
    "warnings.simplefilter(action='ignore', category=FutureWarning)\n",
    "from scipy.stats import norm\n",
    "from statsmodels.tsa.ar_model import AutoReg\n",
    "from statsmodels.tsa.ar_model import AR\n",
    "import pandas as pd\n",
    "from statsmodels.tsa.api import VAR\n",
    "from statsmodels.tsa.stattools import adfuller\n",
    "import numpy as np\n",
    "import matplotlib.pyplot as plt\n",
    "import statsmodels"
   ]
  },
  {
   "cell_type": "code",
   "execution_count": 2,
   "id": "warming-event",
   "metadata": {},
   "outputs": [],
   "source": [
    "def del_columns(train, test):\n",
    "    col_list = train.columns\n",
    "    nan_list = []\n",
    "    nan_cnt = []\n",
    "    nan_col = []\n",
    "    full_list = []\n",
    "    for col in col_list:\n",
    "        if train[col].isnull().sum() == 0 :\n",
    "            full_list.append(col)\n",
    "            continue\n",
    "        nan_list.append([col, train[col].isnull().sum()])\n",
    "        nan_cnt.append(train[col].isnull().sum())\n",
    "        nan_col.append(col)\n",
    "\n",
    "    '''모든값이 결측값이면 제거'''\n",
    "    del_col = []\n",
    "    for col in nan_list :\n",
    "        if col[1] == len(train) :\n",
    "            del_col.append(col[0])\n",
    "    train = train.drop(columns=del_col)\n",
    "    test = test.drop(columns=del_col)\n",
    "\n",
    "    '''값이 1개 존재하면 제거'''\n",
    "    del_col = []\n",
    "    col_list = train.describe().columns\n",
    "    for col in col_list :\n",
    "        if col == 'Y_Class':\n",
    "            continue\n",
    "        if col == 'Y_Quality':\n",
    "            continue\n",
    "        if col == 'LINE':\n",
    "            continue\n",
    "        if col == 'PRODUCT_CODE':\n",
    "            continue\n",
    "        if train[col].nunique()==1 :\n",
    "            del_col.append(col)\n",
    "    train = train.drop(columns=del_col)\n",
    "    test = test.drop(columns=del_col)\n",
    "    \n",
    "    return train,test\n",
    "   \n",
    "\n",
    "def make_train_test_dataset(train,test):\n",
    "    train_x = train.drop(columns=['PRODUCT_ID','TIMESTAMP','PRODUCT_CODE','Y_Class','Y_Quality'])\n",
    "    test_x = test.drop(columns=['PRODUCT_ID','TIMESTAMP','PRODUCT_CODE'])\n",
    "    train_y = train['Y_Quality']\n",
    "    train_w = train[['Y_Class']]\n",
    "    return train_x, test_x, train_y, train_w\n",
    "\n",
    "def fillna(train,test,value):\n",
    "    train = train.fillna(value)\n",
    "    test = test.fillna(value)\n",
    "    return train,test\n",
    "\n",
    "def labelencoder(train,test,col_list):\n",
    "    # qualitative to quantitative\n",
    "    qual_col = col_list\n",
    "    for i in qual_col:\n",
    "        le = LabelEncoder()\n",
    "        le = le.fit(train[i])\n",
    "        train[i] = le.transform(train[i])\n",
    "\n",
    "        for label in np.unique(test[i]): \n",
    "            if label not in le.classes_: \n",
    "                le.classes_ = np.append(le.classes_, label)\n",
    "        test[i] = le.transform(test[i]) \n",
    "    print('Done.')\n",
    "    return train,test"
   ]
  },
  {
   "cell_type": "code",
   "execution_count": 43,
   "id": "confirmed-taiwan",
   "metadata": {},
   "outputs": [],
   "source": [
    "train = pd.read_csv('train.csv')\n",
    "test = pd.read_csv('test.csv')"
   ]
  },
  {
   "cell_type": "code",
   "execution_count": 44,
   "id": "solved-incidence",
   "metadata": {},
   "outputs": [],
   "source": [
    "train, test = del_columns(train,test)"
   ]
  },
  {
   "cell_type": "code",
   "execution_count": 45,
   "id": "varied-contest",
   "metadata": {},
   "outputs": [],
   "source": [
    "trainA_31 = train[train['PRODUCT_CODE']=='A_31']\n",
    "train_T_31 = train[train['PRODUCT_CODE']=='T_31']\n",
    "train_O_31 = train[train['PRODUCT_CODE']=='O_31']\n",
    "\n",
    "testA_31 = test[test['PRODUCT_CODE']=='A_31']\n",
    "test_T_31 = test[test['PRODUCT_CODE']=='T_31']\n",
    "test_O_31 = test[test['PRODUCT_CODE']=='O_31']"
   ]
  },
  {
   "cell_type": "code",
   "execution_count": 46,
   "id": "similar-freeze",
   "metadata": {},
   "outputs": [],
   "source": [
    "trainA_31, testA_31 = del_columns(trainA_31,testA_31)\n",
    "train_T_31, test_T_31 = del_columns(train_T_31,test_T_31)\n",
    "train_O_31, test_O_31 = del_columns(train_O_31,test_O_31)"
   ]
  },
  {
   "cell_type": "code",
   "execution_count": 7,
   "id": "isolated-frank",
   "metadata": {},
   "outputs": [],
   "source": [
    "# trainA_31, testA_31 = del_columns_2(trainA_31,testA_31)\n",
    "# train_T_31, test_T_31 = del_columns_2(train_T_31,test_T_31)\n",
    "# train_O_31, test_O_31 = del_columns_2(train_O_31,test_O_31)"
   ]
  },
  {
   "cell_type": "code",
   "execution_count": 47,
   "id": "freelance-omega",
   "metadata": {},
   "outputs": [],
   "source": [
    "trainA_31_x,testA_31_x, trainA_31_y, trainA_31_w = make_train_test_dataset(trainA_31,testA_31)\n",
    "train_T_31_x,test_T_31_x, train_T_31_y, train_T_31_w = make_train_test_dataset(train_T_31,test_T_31)\n",
    "train_O_31_x,test_O_31_x, train_O_31_y, train_O_31_w = make_train_test_dataset(train_O_31,test_O_31)"
   ]
  },
  {
   "cell_type": "code",
   "execution_count": 48,
   "id": "organized-identity",
   "metadata": {},
   "outputs": [
    {
     "name": "stdout",
     "output_type": "stream",
     "text": [
      "Done.\n",
      "Done.\n",
      "Done.\n"
     ]
    }
   ],
   "source": [
    "trainA_31_x,testA_31_x = labelencoder(trainA_31_x,testA_31_x,['LINE'])\n",
    "train_T_31_x,test_T_31_x = labelencoder(train_T_31_x,test_T_31_x,['LINE'])\n",
    "train_O_31_x,test_O_31_x = labelencoder(train_O_31_x,test_O_31_x,['LINE'])"
   ]
  },
  {
   "cell_type": "code",
   "execution_count": 49,
   "id": "tired-involvement",
   "metadata": {},
   "outputs": [],
   "source": [
    "trainA_31_x,testA_31_x = fillna(trainA_31_x,testA_31_x,-1)\n",
    "train_T_31_x,test_T_31_x = fillna(train_T_31_x,test_T_31_x,-1)\n",
    "train_O_31_x,test_O_31_x = fillna(train_O_31_x,test_O_31_x,-1)"
   ]
  },
  {
   "cell_type": "code",
   "execution_count": 50,
   "id": "surface-alcohol",
   "metadata": {},
   "outputs": [],
   "source": [
    "def multi_col(train,test) : \n",
    "    col_list = train.columns\n",
    "    for col in col_list :\n",
    "        if col == 'LINE':\n",
    "            continue\n",
    "        train[col+'제곱'] = (train[col]**2)//100\n",
    "        test[col+'제곱'] = (test[col]**2)//100\n",
    "    return train,test"
   ]
  },
  {
   "cell_type": "code",
   "execution_count": 51,
   "id": "written-pastor",
   "metadata": {},
   "outputs": [],
   "source": [
    "import math\n",
    "def log(train,test):\n",
    "    col_list = train.columns\n",
    "    for col in col_list :\n",
    "        if '제곱' in col:\n",
    "            train[col+'log'] = np.log1p(train[col])\n",
    "            test[col+'log'] = np.log1p(test[col])\n",
    "    return train,test"
   ]
  },
  {
   "cell_type": "code",
   "execution_count": 52,
   "id": "heavy-trigger",
   "metadata": {},
   "outputs": [],
   "source": [
    "drop_a = ['X_1167','X_1168','X_1169','X_1170',\n",
    "          'X_1171','X_1274','X_1275','X_1276','X_1277','X_1278']"
   ]
  },
  {
   "cell_type": "code",
   "execution_count": 53,
   "id": "tested-pittsburgh",
   "metadata": {},
   "outputs": [],
   "source": [
    "drop_t = ['X_529','X_530','X_531','X_532','X_533','X_600','X_601','X_602','X_603','X_604']"
   ]
  },
  {
   "cell_type": "code",
   "execution_count": 54,
   "id": "concerned-cisco",
   "metadata": {},
   "outputs": [],
   "source": [
    "trainA_31_x = trainA_31_x.drop(columns=drop_a)\n",
    "testA_31_x = testA_31_x.drop(columns=drop_a)\n",
    "train_T_31_x = train_T_31_x.drop(columns=drop_t)\n",
    "test_T_31_x = test_T_31_x.drop(columns=drop_t)"
   ]
  },
  {
   "cell_type": "code",
   "execution_count": 55,
   "id": "loving-shareware",
   "metadata": {},
   "outputs": [],
   "source": [
    "trainA_31_x,testA_31_x = multi_col(trainA_31_x,testA_31_x)\n",
    "train_T_31_x,test_T_31_x = multi_col(train_T_31_x,test_T_31_x)\n",
    "train_O_31_x,test_O_31_x = multi_col(train_O_31_x,test_O_31_x)"
   ]
  },
  {
   "cell_type": "code",
   "execution_count": 56,
   "id": "generic-allocation",
   "metadata": {},
   "outputs": [],
   "source": [
    "trainA_31_x,testA_31_x = log(trainA_31_x,testA_31_x)\n",
    "train_T_31_x,test_T_31_x = log(train_T_31_x,test_T_31_x)\n",
    "train_O_31_x,test_O_31_x = log(train_O_31_x,test_O_31_x)"
   ]
  },
  {
   "cell_type": "code",
   "execution_count": 57,
   "id": "virgin-engineering",
   "metadata": {},
   "outputs": [
    {
     "name": "stdout",
     "output_type": "stream",
     "text": [
      "(249, 5566) (67, 5566) (343, 1618) (239, 1618)\n"
     ]
    }
   ],
   "source": [
    "print(trainA_31_x.shape,testA_31_x.shape,train_T_31_x.shape,test_T_31_x.shape)"
   ]
  },
  {
   "cell_type": "code",
   "execution_count": 58,
   "id": "vulnerable-reply",
   "metadata": {},
   "outputs": [],
   "source": [
    "from catboost import *"
   ]
  },
  {
   "cell_type": "code",
   "execution_count": 59,
   "id": "initial-tourism",
   "metadata": {},
   "outputs": [],
   "source": [
    "model = CatBoostRegressor(random_state=4321,verbose=500,iterations=3500,learning_rate=0.05)"
   ]
  },
  {
   "cell_type": "code",
   "execution_count": 60,
   "id": "occupied-oxford",
   "metadata": {},
   "outputs": [
    {
     "name": "stdout",
     "output_type": "stream",
     "text": [
      "0:\tlearn: 0.0098366\ttotal: 174ms\tremaining: 10m 9s\n",
      "500:\tlearn: 0.0001915\ttotal: 1m 29s\tremaining: 8m 57s\n",
      "1000:\tlearn: 0.0000060\ttotal: 2m 52s\tremaining: 7m 9s\n",
      "1500:\tlearn: 0.0000002\ttotal: 4m 40s\tremaining: 6m 14s\n",
      "2000:\tlearn: 0.0000000\ttotal: 6m\tremaining: 4m 30s\n",
      "2500:\tlearn: 0.0000000\ttotal: 7m 14s\tremaining: 2m 53s\n",
      "3000:\tlearn: 0.0000000\ttotal: 8m 24s\tremaining: 1m 23s\n",
      "3499:\tlearn: 0.0000000\ttotal: 9m 28s\tremaining: 0us\n"
     ]
    }
   ],
   "source": [
    "model.fit(trainA_31_x, trainA_31_y)\n",
    "pred_a = model.predict(testA_31_x)"
   ]
  },
  {
   "cell_type": "code",
   "execution_count": 61,
   "id": "duplicate-university",
   "metadata": {},
   "outputs": [
    {
     "name": "stdout",
     "output_type": "stream",
     "text": [
      "0:\tlearn: 0.0047113\ttotal: 48.5ms\tremaining: 2m 49s\n",
      "500:\tlearn: 0.0001497\ttotal: 21.2s\tremaining: 2m 6s\n",
      "1000:\tlearn: 0.0000059\ttotal: 44.3s\tremaining: 1m 50s\n",
      "1500:\tlearn: 0.0000003\ttotal: 1m 11s\tremaining: 1m 35s\n",
      "2000:\tlearn: 0.0000000\ttotal: 1m 41s\tremaining: 1m 15s\n",
      "2500:\tlearn: 0.0000000\ttotal: 2m 2s\tremaining: 49s\n",
      "3000:\tlearn: 0.0000000\ttotal: 2m 24s\tremaining: 24s\n",
      "3499:\tlearn: 0.0000000\ttotal: 2m 45s\tremaining: 0us\n"
     ]
    }
   ],
   "source": [
    "model.fit(train_T_31_x, train_T_31_y)\n",
    "pred_t = model.predict(test_T_31_x)"
   ]
  },
  {
   "cell_type": "code",
   "execution_count": 62,
   "id": "confused-thermal",
   "metadata": {},
   "outputs": [
    {
     "name": "stdout",
     "output_type": "stream",
     "text": [
      "0:\tlearn: 0.0031555\ttotal: 16.8ms\tremaining: 58.7s\n",
      "500:\tlearn: 0.0000055\ttotal: 9.38s\tremaining: 56.2s\n",
      "1000:\tlearn: 0.0000000\ttotal: 17s\tremaining: 42.5s\n",
      "1500:\tlearn: 0.0000000\ttotal: 22.3s\tremaining: 29.7s\n",
      "2000:\tlearn: 0.0000000\ttotal: 27.6s\tremaining: 20.7s\n",
      "2500:\tlearn: 0.0000000\ttotal: 32.7s\tremaining: 13.1s\n",
      "3000:\tlearn: 0.0000000\ttotal: 37.4s\tremaining: 6.22s\n",
      "3499:\tlearn: 0.0000000\ttotal: 42.4s\tremaining: 0us\n"
     ]
    }
   ],
   "source": [
    "model.fit(train_O_31_x, train_O_31_y)#, sample_weight = train_O_31_w['Y_Class'].values)\n",
    "pred_o = model.predict(test_O_31_x)"
   ]
  },
  {
   "cell_type": "code",
   "execution_count": 67,
   "id": "adaptive-rental",
   "metadata": {},
   "outputs": [],
   "source": [
    "testA_31['Y_quanlity'] = pred_a\n",
    "test_T_31['Y_quanlity'] = pred_t\n",
    "test_O_31['Y_quanlity'] = pred_o\n",
    "\n",
    "testA_31['Y_Class'] = 1\n",
    "test_T_31['Y_Class'] = 1\n",
    "test_O_31['Y_Class'] = 1\n",
    "\n",
    "testA_31.loc[(testA_31['Y_quanlity']<0.52507), 'Y_Class'] = 0\n",
    "testA_31.loc[(testA_31['Y_quanlity']>0.5349), 'Y_Class'] = 2\n",
    "test_T_31.loc[(test_T_31['Y_quanlity']<0.52507), 'Y_Class'] = 0\n",
    "test_T_31.loc[(test_T_31['Y_quanlity']>0.5349), 'Y_Class'] = 2\n",
    "test_O_31.loc[(test_O_31['Y_quanlity']<0.52507), 'Y_Class'] = 0\n",
    "test_O_31.loc[(test_O_31['Y_quanlity']>0.5349), 'Y_Class'] = 2\n",
    "\n",
    "submita = pd.read_csv('sample_submission.csv')\n",
    "submitt = pd.read_csv('sample_submission.csv')\n",
    "submito = pd.read_csv('sample_submission.csv')\n",
    "\n",
    "submita = pd.merge(submita[['PRODUCT_ID']],testA_31[['PRODUCT_ID','Y_Class']],on='PRODUCT_ID')\n",
    "submitt = pd.merge(submitt[['PRODUCT_ID']],test_T_31[['PRODUCT_ID','Y_Class']],on='PRODUCT_ID')\n",
    "submito = pd.merge(submito[['PRODUCT_ID']],test_O_31[['PRODUCT_ID','Y_Class']],on='PRODUCT_ID')\n",
    "\n",
    "pd.concat([submita,submitt,submito]).sort_values(by='PRODUCT_ID').to_csv('0214.csv',index=False)"
   ]
  },
  {
   "cell_type": "code",
   "execution_count": null,
   "id": "solid-roots",
   "metadata": {},
   "outputs": [],
   "source": []
  },
  {
   "cell_type": "code",
   "execution_count": null,
   "id": "psychological-verification",
   "metadata": {},
   "outputs": [],
   "source": []
  },
  {
   "cell_type": "code",
   "execution_count": null,
   "id": "western-thailand",
   "metadata": {},
   "outputs": [],
   "source": []
  },
  {
   "cell_type": "code",
   "execution_count": null,
   "id": "collective-return",
   "metadata": {},
   "outputs": [],
   "source": []
  },
  {
   "cell_type": "code",
   "execution_count": 68,
   "id": "sporting-defense",
   "metadata": {},
   "outputs": [],
   "source": [
    "df = pd.read_csv('0214.csv') # "
   ]
  },
  {
   "cell_type": "code",
   "execution_count": 148,
   "id": "broken-binding",
   "metadata": {},
   "outputs": [],
   "source": [
    "df = pd.read_csv('multiLOG.csv')"
   ]
  },
  {
   "cell_type": "code",
   "execution_count": 426,
   "id": "relative-magazine",
   "metadata": {},
   "outputs": [],
   "source": [
    "df = pd.read_csv('adf9993_it2000_s2784.csv')"
   ]
  },
  {
   "cell_type": "code",
   "execution_count": 35,
   "id": "ultimate-sponsorship",
   "metadata": {},
   "outputs": [],
   "source": [
    "df = pd.read_csv('adf9993.csv')"
   ]
  },
  {
   "cell_type": "code",
   "execution_count": 71,
   "id": "rational-syndicate",
   "metadata": {},
   "outputs": [],
   "source": [
    "st = pd.read_csv('SotaToCha_0.csv')"
   ]
  },
  {
   "cell_type": "code",
   "execution_count": 328,
   "id": "democratic-sociology",
   "metadata": {},
   "outputs": [],
   "source": [
    "ct = pd.read_csv('캣2_5.csv')"
   ]
  },
  {
   "cell_type": "code",
   "execution_count": 146,
   "id": "rural-psychiatry",
   "metadata": {},
   "outputs": [],
   "source": [
    "li = pd.read_csv('sub0205_cat_reg_split_line.csv')"
   ]
  },
  {
   "cell_type": "code",
   "execution_count": 147,
   "id": "introductory-neighborhood",
   "metadata": {
    "scrolled": true
   },
   "outputs": [
    {
     "data": {
      "text/plain": [
       "1    269\n",
       "0     32\n",
       "2      9\n",
       "Name: Y_Class, dtype: int64"
      ]
     },
     "execution_count": 147,
     "metadata": {},
     "output_type": "execute_result"
    }
   ],
   "source": [
    "li['Y_Class'].value_counts()"
   ]
  },
  {
   "cell_type": "code",
   "execution_count": 145,
   "id": "utility-spokesman",
   "metadata": {},
   "outputs": [
    {
     "data": {
      "text/plain": [
       "1    262\n",
       "0     43\n",
       "2      5\n",
       "Name: Y_Class, dtype: int64"
      ]
     },
     "execution_count": 145,
     "metadata": {},
     "output_type": "execute_result"
    }
   ],
   "source": [
    "st['Y_Class'].value_counts()"
   ]
  },
  {
   "cell_type": "code",
   "execution_count": 329,
   "id": "forward-count",
   "metadata": {},
   "outputs": [
    {
     "data": {
      "text/plain": [
       "1    275\n",
       "0     30\n",
       "2      5\n",
       "Name: Y_Class, dtype: int64"
      ]
     },
     "execution_count": 329,
     "metadata": {},
     "output_type": "execute_result"
    }
   ],
   "source": [
    "ct['Y_Class'].value_counts()"
   ]
  },
  {
   "cell_type": "code",
   "execution_count": 128,
   "id": "growing-yeast",
   "metadata": {},
   "outputs": [
    {
     "data": {
      "text/plain": [
       "1    260\n",
       "0     37\n",
       "2     13\n",
       "Name: Y_Class, dtype: int64"
      ]
     },
     "execution_count": 128,
     "metadata": {},
     "output_type": "execute_result"
    }
   ],
   "source": [
    "df['Y_Class'].value_counts()"
   ]
  },
  {
   "cell_type": "code",
   "execution_count": 38,
   "id": "residential-dating",
   "metadata": {},
   "outputs": [
    {
     "data": {
      "text/plain": [
       "1    0.864516\n",
       "0    0.106452\n",
       "2    0.029032\n",
       "Name: Y_Class, dtype: float64"
      ]
     },
     "execution_count": 38,
     "metadata": {},
     "output_type": "execute_result"
    }
   ],
   "source": [
    "df['Y_Class'].value_counts()/len(df)"
   ]
  },
  {
   "cell_type": "code",
   "execution_count": 41,
   "id": "educated-complexity",
   "metadata": {},
   "outputs": [
    {
     "data": {
      "text/plain": [
       "1    271\n",
       "0     31\n",
       "2      8\n",
       "Name: Y_Class, dtype: int64"
      ]
     },
     "execution_count": 41,
     "metadata": {},
     "output_type": "execute_result"
    }
   ],
   "source": [
    "df['Y_Class'].value_counts()"
   ]
  },
  {
   "cell_type": "code",
   "execution_count": 77,
   "id": "limiting-library",
   "metadata": {
    "scrolled": true
   },
   "outputs": [
    {
     "data": {
      "text/plain": [
       "1    270\n",
       "0     34\n",
       "2      6\n",
       "Name: Y_Class, dtype: int64"
      ]
     },
     "execution_count": 77,
     "metadata": {},
     "output_type": "execute_result"
    }
   ],
   "source": [
    "df['Y_Class'].value_counts()"
   ]
  },
  {
   "cell_type": "code",
   "execution_count": 79,
   "id": "necessary-honor",
   "metadata": {},
   "outputs": [
    {
     "data": {
      "text/plain": [
       "Int64Index([11], dtype='int64')"
      ]
     },
     "execution_count": 79,
     "metadata": {},
     "output_type": "execute_result"
    }
   ],
   "source": [
    "df[df['PRODUCT_ID']=='TEST_011'].index"
   ]
  },
  {
   "cell_type": "code",
   "execution_count": 81,
   "id": "light-configuration",
   "metadata": {},
   "outputs": [],
   "source": [
    "df.iloc[11]['Y_Class']=1"
   ]
  },
  {
   "cell_type": "code",
   "execution_count": 82,
   "id": "first-intake",
   "metadata": {},
   "outputs": [
    {
     "data": {
      "text/plain": [
       "PRODUCT_ID    TEST_011\n",
       "Y_Class              2\n",
       "Name: 11, dtype: object"
      ]
     },
     "execution_count": 82,
     "metadata": {},
     "output_type": "execute_result"
    }
   ],
   "source": [
    "df.iloc[11]"
   ]
  },
  {
   "cell_type": "code",
   "execution_count": 76,
   "id": "innovative-wales",
   "metadata": {},
   "outputs": [],
   "source": [
    "df[df['PRODUCT_ID']=='TEST_011']['Y_Class']=1"
   ]
  },
  {
   "cell_type": "code",
   "execution_count": 66,
   "id": "motivated-completion",
   "metadata": {},
   "outputs": [
    {
     "data": {
      "text/plain": [
       "array(['TEST_011', 'TEST_038', 'TEST_078', 'TEST_160', 'TEST_161',\n",
       "       'TEST_183'], dtype=object)"
      ]
     },
     "execution_count": 66,
     "metadata": {},
     "output_type": "execute_result"
    }
   ],
   "source": [
    "df[df['Y_Class']==2]['PRODUCT_ID'].unique()"
   ]
  },
  {
   "cell_type": "code",
   "execution_count": 72,
   "id": "apparent-session",
   "metadata": {},
   "outputs": [
    {
     "data": {
      "text/plain": [
       "array(['TEST_038', 'TEST_078', 'TEST_160', 'TEST_161', 'TEST_183'],\n",
       "      dtype=object)"
      ]
     },
     "execution_count": 72,
     "metadata": {},
     "output_type": "execute_result"
    }
   ],
   "source": [
    "st[st['Y_Class']==2]['PRODUCT_ID'].unique()"
   ]
  },
  {
   "cell_type": "code",
   "execution_count": 37,
   "id": "helpful-negotiation",
   "metadata": {},
   "outputs": [
    {
     "data": {
      "text/plain": [
       "array(['TEST_038', 'TEST_078', 'TEST_095', 'TEST_160', 'TEST_161',\n",
       "       'TEST_172', 'TEST_176', 'TEST_183', 'TEST_204'], dtype=object)"
      ]
     },
     "execution_count": 37,
     "metadata": {},
     "output_type": "execute_result"
    }
   ],
   "source": [
    "df[df['Y_Class']==2]['PRODUCT_ID'].unique()"
   ]
  },
  {
   "cell_type": "code",
   "execution_count": 352,
   "id": "protected-gravity",
   "metadata": {
    "scrolled": true
   },
   "outputs": [
    {
     "data": {
      "text/plain": [
       "array(['TEST_003', 'TEST_007', 'TEST_008', 'TEST_013', 'TEST_014',\n",
       "       'TEST_035', 'TEST_037', 'TEST_039', 'TEST_041', 'TEST_042',\n",
       "       'TEST_047', 'TEST_049', 'TEST_051', 'TEST_052', 'TEST_053',\n",
       "       'TEST_054', 'TEST_058', 'TEST_060', 'TEST_061', 'TEST_064',\n",
       "       'TEST_065', 'TEST_066', 'TEST_071', 'TEST_086', 'TEST_088',\n",
       "       'TEST_250', 'TEST_251', 'TEST_252', 'TEST_254', 'TEST_284',\n",
       "       'TEST_285', 'TEST_292', 'TEST_293'], dtype=object)"
      ]
     },
     "execution_count": 352,
     "metadata": {},
     "output_type": "execute_result"
    }
   ],
   "source": [
    "df[df['Y_Class']==0]['PRODUCT_ID'].unique()"
   ]
  },
  {
   "cell_type": "code",
   "execution_count": 33,
   "id": "consecutive-fluid",
   "metadata": {
    "scrolled": true
   },
   "outputs": [
    {
     "data": {
      "text/plain": [
       "array(['TEST_038', 'TEST_078', 'TEST_160', 'TEST_161', 'TEST_183'],\n",
       "      dtype=object)"
      ]
     },
     "execution_count": 33,
     "metadata": {},
     "output_type": "execute_result"
    }
   ],
   "source": [
    "st[st['Y_Class']==2]['PRODUCT_ID'].unique()"
   ]
  },
  {
   "cell_type": "code",
   "execution_count": 331,
   "id": "preliminary-structure",
   "metadata": {},
   "outputs": [
    {
     "data": {
      "text/plain": [
       "array(['TEST_003', 'TEST_007', 'TEST_008', 'TEST_013', 'TEST_014',\n",
       "       'TEST_035', 'TEST_037', 'TEST_039', 'TEST_041', 'TEST_042',\n",
       "       'TEST_047', 'TEST_049', 'TEST_051', 'TEST_052', 'TEST_053',\n",
       "       'TEST_054', 'TEST_055', 'TEST_058', 'TEST_060', 'TEST_061',\n",
       "       'TEST_062', 'TEST_063', 'TEST_064', 'TEST_065', 'TEST_066',\n",
       "       'TEST_071', 'TEST_086', 'TEST_088', 'TEST_285', 'TEST_292'],\n",
       "      dtype=object)"
      ]
     },
     "execution_count": 331,
     "metadata": {},
     "output_type": "execute_result"
    }
   ],
   "source": [
    "ct[ct['Y_Class']==0]['PRODUCT_ID'].unique()"
   ]
  },
  {
   "cell_type": "code",
   "execution_count": null,
   "id": "executed-carry",
   "metadata": {},
   "outputs": [],
   "source": []
  },
  {
   "cell_type": "code",
   "execution_count": null,
   "id": "induced-registrar",
   "metadata": {},
   "outputs": [],
   "source": []
  },
  {
   "cell_type": "code",
   "execution_count": null,
   "id": "innovative-installation",
   "metadata": {},
   "outputs": [],
   "source": []
  },
  {
   "cell_type": "code",
   "execution_count": 44,
   "id": "soviet-layer",
   "metadata": {},
   "outputs": [],
   "source": [
    "testA_31['Y_quanlity'] = pred_a\n",
    "test_T_31['Y_quanlity'] = pred_t\n",
    "test_O_31['Y_quanlity'] = pred_o\n",
    "\n",
    "testA_31['Y_Class'] = 1\n",
    "test_T_31['Y_Class'] = 1\n",
    "test_O_31['Y_Class'] = 1\n",
    "\n",
    "testA_31.loc[(testA_31['Y_quanlity']<0.52507), 'Y_Class'] = 0\n",
    "testA_31.loc[(testA_31['Y_quanlity']>0.5349), 'Y_Class'] = 2\n",
    "test_T_31.loc[(test_T_31['Y_quanlity']<0.52507), 'Y_Class'] = 0\n",
    "test_T_31.loc[(test_T_31['Y_quanlity']>0.5349), 'Y_Class'] = 2\n",
    "test_O_31.loc[(test_O_31['Y_quanlity']<0.52507), 'Y_Class'] = 0\n",
    "test_O_31.loc[(test_O_31['Y_quanlity']>0.5349), 'Y_Class'] = 2\n",
    "\n",
    "submita = pd.read_csv('sample_submission.csv')\n",
    "submitt = pd.read_csv('sample_submission.csv')\n",
    "submito = pd.read_csv('sample_submission.csv')\n",
    "\n",
    "submita = pd.merge(submita[['PRODUCT_ID']],testA_31[['PRODUCT_ID','Y_Class']],on='PRODUCT_ID')\n",
    "submitt = pd.merge(submitt[['PRODUCT_ID']],test_T_31[['PRODUCT_ID','Y_Class']],on='PRODUCT_ID')\n",
    "submito = pd.merge(submito[['PRODUCT_ID']],test_O_31[['PRODUCT_ID','Y_Class']],on='PRODUCT_ID')\n",
    "\n",
    "pd.concat([submita,submitt,submito]).sort_values(by='PRODUCT_ID').to_csv('weight0_5.csv',index=False)\n",
    "\n",
    "# scroe -> 0.65"
   ]
  },
  {
   "cell_type": "code",
   "execution_count": 45,
   "id": "difficult-instrument",
   "metadata": {},
   "outputs": [],
   "source": [
    "df=pd.read_csv('weight0_5.csv')"
   ]
  },
  {
   "cell_type": "code",
   "execution_count": 94,
   "id": "blocked-audit",
   "metadata": {},
   "outputs": [],
   "source": [
    "df = pd.read_csv('fi.csv')"
   ]
  },
  {
   "cell_type": "code",
   "execution_count": 46,
   "id": "accepted-assessment",
   "metadata": {},
   "outputs": [
    {
     "data": {
      "text/plain": [
       "40"
      ]
     },
     "execution_count": 46,
     "metadata": {},
     "output_type": "execute_result"
    }
   ],
   "source": [
    "len(df[df['Y_Class']==0])"
   ]
  },
  {
   "cell_type": "code",
   "execution_count": null,
   "id": "stock-modification",
   "metadata": {},
   "outputs": [],
   "source": []
  },
  {
   "cell_type": "code",
   "execution_count": 47,
   "id": "latter-spelling",
   "metadata": {},
   "outputs": [
    {
     "data": {
      "text/plain": [
       "267"
      ]
     },
     "execution_count": 47,
     "metadata": {},
     "output_type": "execute_result"
    }
   ],
   "source": [
    "len(df[df['Y_Class']==1])"
   ]
  },
  {
   "cell_type": "code",
   "execution_count": 48,
   "id": "planned-sphere",
   "metadata": {},
   "outputs": [
    {
     "data": {
      "text/plain": [
       "3"
      ]
     },
     "execution_count": 48,
     "metadata": {},
     "output_type": "execute_result"
    }
   ],
   "source": [
    "len(df[df['Y_Class']==2])"
   ]
  },
  {
   "cell_type": "code",
   "execution_count": 25,
   "id": "dependent-expert",
   "metadata": {},
   "outputs": [
    {
     "data": {
      "text/plain": [
       "array([1, 1, 1, 1, 1, 1, 1, 1, 2, 2, 1, 1, 1, 1, 1, 2, 1, 2, 1, 1, 1, 1,\n",
       "       1, 1, 2, 1, 1, 1, 1, 1, 1, 1, 1, 1, 1, 1, 1, 1, 1, 1, 1, 1, 1, 1,\n",
       "       2, 1, 1, 1, 1, 2, 1, 2, 1, 2, 1, 1, 2, 1, 1, 1, 1, 2, 1, 1, 1, 1,\n",
       "       1], dtype=int64)"
      ]
     },
     "execution_count": 25,
     "metadata": {},
     "output_type": "execute_result"
    }
   ],
   "source": [
    "testA_31['Y_Class'].values"
   ]
  },
  {
   "cell_type": "code",
   "execution_count": 49,
   "id": "initial-brass",
   "metadata": {},
   "outputs": [
    {
     "data": {
      "text/plain": [
       "array([0, 1, 1, 1, 0, 0, 1, 1, 1, 1, 0, 0, 0, 1, 0, 2, 1, 1, 0, 0, 0, 0,\n",
       "       0, 0, 0, 1, 0, 0, 0, 0, 1, 1, 0, 1, 0, 1, 1, 1, 1, 1, 1, 1, 1, 0,\n",
       "       0, 1, 1, 1, 1, 0, 0, 0, 0, 1, 0, 0, 1, 1, 1, 1, 1, 1, 0, 0, 0, 0,\n",
       "       0], dtype=int64)"
      ]
     },
     "execution_count": 49,
     "metadata": {},
     "output_type": "execute_result"
    }
   ],
   "source": [
    "testA_31['Y_Class'].values"
   ]
  },
  {
   "cell_type": "code",
   "execution_count": 51,
   "id": "accurate-spice",
   "metadata": {},
   "outputs": [
    {
     "data": {
      "text/plain": [
       "array([1, 1, 1, 0, 1, 1, 1, 1, 1, 1, 1, 1, 1, 1, 1, 1, 1, 1, 1, 1, 1, 1,\n",
       "       1, 1, 1, 1, 1, 0, 1, 0, 1, 0, 0, 1, 1, 0, 1, 0, 1, 1, 1, 1, 1, 1,\n",
       "       1, 1, 1, 2, 1, 1, 1, 1, 1, 1, 1, 1, 1, 1, 1, 1, 1, 1, 1, 1, 1, 1,\n",
       "       1, 1, 1, 1, 1, 1, 1, 1, 1, 1, 1, 1, 1, 1, 1, 1, 1, 1, 1, 1, 1, 1,\n",
       "       1, 1, 1, 1, 1, 1, 1, 1, 1, 1, 1, 1, 1, 1, 1, 1, 1, 1, 1, 1, 1, 1,\n",
       "       1, 2, 1, 1, 1, 1, 1, 1, 1, 1, 1, 1, 1, 1, 1, 1, 1, 1, 1, 1, 1, 1,\n",
       "       1, 1, 1, 1, 1, 1, 1, 1, 1, 1, 1, 1, 1, 1, 1, 1, 1, 1, 1, 1, 1, 1,\n",
       "       1, 1, 1, 1, 1, 1, 1, 1, 1, 1, 1, 1, 1, 1, 1, 1, 1, 1, 1, 1, 1, 1,\n",
       "       1, 1, 1, 1, 1, 1, 1, 1, 1, 1, 1, 1, 1, 1, 1, 1, 1, 1, 1, 1, 1, 1,\n",
       "       1, 1, 1, 1, 1, 1, 1, 1, 1, 1, 1, 1, 1, 1, 1, 1, 1, 1, 1, 1, 1, 1,\n",
       "       1, 1, 1, 1, 1, 1, 1, 1, 1, 1, 1, 1, 1, 1, 1, 1, 1, 1, 1],\n",
       "      dtype=int64)"
      ]
     },
     "execution_count": 51,
     "metadata": {},
     "output_type": "execute_result"
    }
   ],
   "source": [
    "test_T_31['Y_Class'].values"
   ]
  },
  {
   "cell_type": "code",
   "execution_count": 30,
   "id": "changed-discharge",
   "metadata": {},
   "outputs": [
    {
     "data": {
      "text/plain": [
       "array([0.00000000e+00, 0.00000000e+00, 8.86700035e-03, ...,\n",
       "       9.26632888e-04, 5.97557376e-05, 2.07225631e-02])"
      ]
     },
     "execution_count": 30,
     "metadata": {},
     "output_type": "execute_result"
    }
   ],
   "source": [
    "model.get_feature_importance()"
   ]
  },
  {
   "cell_type": "code",
   "execution_count": 144,
   "id": "worst-continuity",
   "metadata": {},
   "outputs": [],
   "source": [
    "high_a = A_importance[A_importance['feature_importance']>1]['feature_names'].unique()"
   ]
  },
  {
   "cell_type": "code",
   "execution_count": 145,
   "id": "great-velvet",
   "metadata": {},
   "outputs": [],
   "source": [
    "high_t = T_importance[T_importance['feature_importance']>1]['feature_names'].unique()"
   ]
  },
  {
   "cell_type": "code",
   "execution_count": 146,
   "id": "minus-grocery",
   "metadata": {},
   "outputs": [],
   "source": [
    "high_o = O_importance[O_importance['feature_importance']>1]['feature_names'].unique()"
   ]
  },
  {
   "cell_type": "markdown",
   "id": "cloudy-template",
   "metadata": {},
   "source": [
    "# ver 2 - score :"
   ]
  },
  {
   "cell_type": "markdown",
   "id": "normal-research",
   "metadata": {},
   "source": [
    "#### make feature"
   ]
  },
  {
   "cell_type": "code",
   "execution_count": 125,
   "id": "junior-ticket",
   "metadata": {},
   "outputs": [],
   "source": [
    "y1=train[train['Y_Class']==1]"
   ]
  },
  {
   "cell_type": "code",
   "execution_count": 230,
   "id": "elegant-darkness",
   "metadata": {},
   "outputs": [],
   "source": [
    "for k in high_a :\n",
    "    trainA_31_x[k+'_box'] = 0\n",
    "    testA_31_x[k+'_box'] = 0\n",
    "    p25 = y1[k].quantile(q=0.25, interpolation='nearest')\n",
    "    p75 = y1[k].quantile(q=0.75, interpolation='nearest')\n",
    "    trainA_31_x.loc[(trainA_31_x[k] >=p25) & (trainA_31_x[k] < p75), k+'_box'] = 1\n",
    "    testA_31_x.loc[(testA_31_x[k] >=p25) & (testA_31_x[k] < p75), k+'_box'] = 1"
   ]
  },
  {
   "cell_type": "code",
   "execution_count": 231,
   "id": "subjective-merit",
   "metadata": {},
   "outputs": [],
   "source": [
    "for k in high_t :\n",
    "    train_T_31_x[k+'_box'] = 0\n",
    "    test_T_31_x[k+'_box'] = 0\n",
    "    p25 = y1[k].quantile(q=0.25, interpolation='nearest')\n",
    "    p75 = y1[k].quantile(q=0.75, interpolation='nearest')\n",
    "    train_T_31_x.loc[(train_T_31_x[k] >=p25) & (train_T_31_x[k] < p75), k+'_box'] = 1\n",
    "    test_T_31_x.loc[(test_T_31_x[k] >=p25) & (test_T_31_x[k] < p75), k+'_box'] = 1"
   ]
  },
  {
   "cell_type": "code",
   "execution_count": 232,
   "id": "charitable-masters",
   "metadata": {},
   "outputs": [],
   "source": [
    "for k in high_o :\n",
    "    train_O_31_x[k+'_box'] = 0\n",
    "    test_O_31_x[k+'_box'] = 0\n",
    "    p25 = y1[k].quantile(q=0.25, interpolation='nearest')\n",
    "    p75 = y1[k].quantile(q=0.75, interpolation='nearest')\n",
    "    train_O_31_x.loc[(train_O_31_x[k] >=p25) & (train_O_31_x[k] < p75), k+'_box'] = 1\n",
    "    test_O_31_x.loc[(test_O_31_x[k] >=p25) & (test_O_31_x[k] < p75), k+'_box'] = 1"
   ]
  },
  {
   "cell_type": "code",
   "execution_count": 233,
   "id": "instant-benchmark",
   "metadata": {},
   "outputs": [
    {
     "name": "stdout",
     "output_type": "stream",
     "text": [
      "0:\tlearn: 0.0098580\ttotal: 128ms\tremaining: 4m 15s\n",
      "500:\tlearn: 0.0006622\ttotal: 27.9s\tremaining: 1m 23s\n",
      "1000:\tlearn: 0.0000697\ttotal: 52.3s\tremaining: 52.2s\n",
      "1500:\tlearn: 0.0000068\ttotal: 1m 17s\tremaining: 25.9s\n",
      "1999:\tlearn: 0.0000006\ttotal: 1m 44s\tremaining: 0us\n"
     ]
    }
   ],
   "source": [
    "model = CatBoostRegressor(random_state=1234,verbose=500,iterations=2000,learning_rate=0.033)\n",
    "model.fit(trainA_31_x, trainA_31_y)\n",
    "pred_a = model.predict(testA_31_x)"
   ]
  },
  {
   "cell_type": "code",
   "execution_count": 234,
   "id": "conditional-pound",
   "metadata": {},
   "outputs": [
    {
     "name": "stdout",
     "output_type": "stream",
     "text": [
      "0:\tlearn: 0.0047185\ttotal: 58ms\tremaining: 1m 56s\n",
      "500:\tlearn: 0.0005000\ttotal: 11.8s\tremaining: 35.2s\n",
      "1000:\tlearn: 0.0000569\ttotal: 23.7s\tremaining: 23.7s\n",
      "1500:\tlearn: 0.0000062\ttotal: 35.5s\tremaining: 11.8s\n",
      "1999:\tlearn: 0.0000008\ttotal: 47.3s\tremaining: 0us\n"
     ]
    }
   ],
   "source": [
    "model.fit(train_T_31_x, train_T_31_y)\n",
    "pred_t = model.predict(test_T_31_x)"
   ]
  },
  {
   "cell_type": "code",
   "execution_count": 235,
   "id": "sophisticated-falls",
   "metadata": {},
   "outputs": [
    {
     "name": "stdout",
     "output_type": "stream",
     "text": [
      "0:\tlearn: 0.0031689\ttotal: 4.59ms\tremaining: 9.17s\n",
      "500:\tlearn: 0.0000475\ttotal: 3.33s\tremaining: 9.97s\n",
      "1000:\tlearn: 0.0000008\ttotal: 6.34s\tremaining: 6.33s\n",
      "1500:\tlearn: 0.0000000\ttotal: 8.87s\tremaining: 2.95s\n",
      "1999:\tlearn: 0.0000000\ttotal: 12.2s\tremaining: 0us\n"
     ]
    }
   ],
   "source": [
    "model.fit(train_O_31_x, train_O_31_y)\n",
    "pred_o = model.predict(test_O_31_x)"
   ]
  },
  {
   "cell_type": "code",
   "execution_count": 236,
   "id": "distinct-cleaner",
   "metadata": {},
   "outputs": [],
   "source": [
    "testA_31['Y_quanlity'] = pred_a\n",
    "test_T_31['Y_quanlity'] = pred_t\n",
    "test_O_31['Y_quanlity'] = pred_o\n",
    "\n",
    "testA_31['Y_Class'] = 1\n",
    "test_T_31['Y_Class'] = 1\n",
    "test_O_31['Y_Class'] = 1\n",
    "\n",
    "testA_31.loc[(testA_31['Y_quanlity']<0.52507), 'Y_Class'] = 0\n",
    "testA_31.loc[(testA_31['Y_quanlity']>0.5349), 'Y_Class'] = 2\n",
    "test_T_31.loc[(test_T_31['Y_quanlity']<0.52507), 'Y_Class'] = 0\n",
    "test_T_31.loc[(test_T_31['Y_quanlity']>0.5349), 'Y_Class'] = 2\n",
    "test_O_31.loc[(test_O_31['Y_quanlity']<0.52507), 'Y_Class'] = 0\n",
    "test_O_31.loc[(test_O_31['Y_quanlity']>0.5349), 'Y_Class'] = 2\n",
    "\n",
    "submita = pd.read_csv('sample_submission.csv')\n",
    "submitt = pd.read_csv('sample_submission.csv')\n",
    "submito = pd.read_csv('sample_submission.csv')\n",
    "\n",
    "submita = pd.merge(submita[['PRODUCT_ID']],testA_31[['PRODUCT_ID','Y_Class']],on='PRODUCT_ID')\n",
    "submitt = pd.merge(submitt[['PRODUCT_ID']],test_T_31[['PRODUCT_ID','Y_Class']],on='PRODUCT_ID')\n",
    "submito = pd.merge(submito[['PRODUCT_ID']],test_O_31[['PRODUCT_ID','Y_Class']],on='PRODUCT_ID')\n",
    "\n",
    "pd.concat([submita,submitt,submito]).sort_values(by='PRODUCT_ID').to_csv('fe_ver2.csv',index=False)\n",
    "\n",
    "# scroe -> 0.65"
   ]
  },
  {
   "cell_type": "code",
   "execution_count": 237,
   "id": "rolled-compromise",
   "metadata": {},
   "outputs": [],
   "source": [
    "df = pd.read_csv('fe_ver2.csv')"
   ]
  },
  {
   "cell_type": "code",
   "execution_count": 238,
   "id": "living-swedish",
   "metadata": {},
   "outputs": [
    {
     "data": {
      "text/plain": [
       "27"
      ]
     },
     "execution_count": 238,
     "metadata": {},
     "output_type": "execute_result"
    }
   ],
   "source": [
    "len(df[df['Y_Class']==0])"
   ]
  },
  {
   "cell_type": "code",
   "execution_count": 239,
   "id": "virtual-symphony",
   "metadata": {},
   "outputs": [
    {
     "data": {
      "text/plain": [
       "6"
      ]
     },
     "execution_count": 239,
     "metadata": {},
     "output_type": "execute_result"
    }
   ],
   "source": [
    "len(df[df['Y_Class']==2])"
   ]
  },
  {
   "cell_type": "code",
   "execution_count": 184,
   "id": "applicable-place",
   "metadata": {
    "collapsed": true
   },
   "outputs": [
    {
     "data": {
      "text/html": [
       "<div>\n",
       "<style scoped>\n",
       "    .dataframe tbody tr th:only-of-type {\n",
       "        vertical-align: middle;\n",
       "    }\n",
       "\n",
       "    .dataframe tbody tr th {\n",
       "        vertical-align: top;\n",
       "    }\n",
       "\n",
       "    .dataframe thead th {\n",
       "        text-align: right;\n",
       "    }\n",
       "</style>\n",
       "<table border=\"1\" class=\"dataframe\">\n",
       "  <thead>\n",
       "    <tr style=\"text-align: right;\">\n",
       "      <th></th>\n",
       "      <th>PRODUCT_ID</th>\n",
       "      <th>Y_Class</th>\n",
       "    </tr>\n",
       "  </thead>\n",
       "  <tbody>\n",
       "    <tr>\n",
       "      <th>12</th>\n",
       "      <td>TEST_012</td>\n",
       "      <td>2</td>\n",
       "    </tr>\n",
       "    <tr>\n",
       "      <th>38</th>\n",
       "      <td>TEST_038</td>\n",
       "      <td>2</td>\n",
       "    </tr>\n",
       "    <tr>\n",
       "      <th>78</th>\n",
       "      <td>TEST_078</td>\n",
       "      <td>2</td>\n",
       "    </tr>\n",
       "    <tr>\n",
       "      <th>160</th>\n",
       "      <td>TEST_160</td>\n",
       "      <td>2</td>\n",
       "    </tr>\n",
       "    <tr>\n",
       "      <th>161</th>\n",
       "      <td>TEST_161</td>\n",
       "      <td>2</td>\n",
       "    </tr>\n",
       "    <tr>\n",
       "      <th>163</th>\n",
       "      <td>TEST_163</td>\n",
       "      <td>2</td>\n",
       "    </tr>\n",
       "    <tr>\n",
       "      <th>183</th>\n",
       "      <td>TEST_183</td>\n",
       "      <td>2</td>\n",
       "    </tr>\n",
       "  </tbody>\n",
       "</table>\n",
       "</div>"
      ],
      "text/plain": [
       "    PRODUCT_ID  Y_Class\n",
       "12    TEST_012        2\n",
       "38    TEST_038        2\n",
       "78    TEST_078        2\n",
       "160   TEST_160        2\n",
       "161   TEST_161        2\n",
       "163   TEST_163        2\n",
       "183   TEST_183        2"
      ]
     },
     "execution_count": 184,
     "metadata": {},
     "output_type": "execute_result"
    }
   ],
   "source": [
    "df[df['Y_Class']==2]"
   ]
  },
  {
   "cell_type": "code",
   "execution_count": 189,
   "id": "weekly-timber",
   "metadata": {
    "collapsed": true
   },
   "outputs": [
    {
     "data": {
      "text/html": [
       "<div>\n",
       "<style scoped>\n",
       "    .dataframe tbody tr th:only-of-type {\n",
       "        vertical-align: middle;\n",
       "    }\n",
       "\n",
       "    .dataframe tbody tr th {\n",
       "        vertical-align: top;\n",
       "    }\n",
       "\n",
       "    .dataframe thead th {\n",
       "        text-align: right;\n",
       "    }\n",
       "</style>\n",
       "<table border=\"1\" class=\"dataframe\">\n",
       "  <thead>\n",
       "    <tr style=\"text-align: right;\">\n",
       "      <th></th>\n",
       "      <th>PRODUCT_ID</th>\n",
       "      <th>Y_Class</th>\n",
       "    </tr>\n",
       "  </thead>\n",
       "  <tbody>\n",
       "    <tr>\n",
       "      <th>3</th>\n",
       "      <td>TEST_003</td>\n",
       "      <td>0</td>\n",
       "    </tr>\n",
       "    <tr>\n",
       "      <th>8</th>\n",
       "      <td>TEST_008</td>\n",
       "      <td>0</td>\n",
       "    </tr>\n",
       "    <tr>\n",
       "      <th>13</th>\n",
       "      <td>TEST_013</td>\n",
       "      <td>0</td>\n",
       "    </tr>\n",
       "    <tr>\n",
       "      <th>14</th>\n",
       "      <td>TEST_014</td>\n",
       "      <td>0</td>\n",
       "    </tr>\n",
       "    <tr>\n",
       "      <th>35</th>\n",
       "      <td>TEST_035</td>\n",
       "      <td>0</td>\n",
       "    </tr>\n",
       "    <tr>\n",
       "      <th>37</th>\n",
       "      <td>TEST_037</td>\n",
       "      <td>0</td>\n",
       "    </tr>\n",
       "    <tr>\n",
       "      <th>39</th>\n",
       "      <td>TEST_039</td>\n",
       "      <td>0</td>\n",
       "    </tr>\n",
       "    <tr>\n",
       "      <th>47</th>\n",
       "      <td>TEST_047</td>\n",
       "      <td>0</td>\n",
       "    </tr>\n",
       "    <tr>\n",
       "      <th>49</th>\n",
       "      <td>TEST_049</td>\n",
       "      <td>0</td>\n",
       "    </tr>\n",
       "    <tr>\n",
       "      <th>51</th>\n",
       "      <td>TEST_051</td>\n",
       "      <td>0</td>\n",
       "    </tr>\n",
       "    <tr>\n",
       "      <th>53</th>\n",
       "      <td>TEST_053</td>\n",
       "      <td>0</td>\n",
       "    </tr>\n",
       "    <tr>\n",
       "      <th>60</th>\n",
       "      <td>TEST_060</td>\n",
       "      <td>0</td>\n",
       "    </tr>\n",
       "    <tr>\n",
       "      <th>64</th>\n",
       "      <td>TEST_064</td>\n",
       "      <td>0</td>\n",
       "    </tr>\n",
       "    <tr>\n",
       "      <th>65</th>\n",
       "      <td>TEST_065</td>\n",
       "      <td>0</td>\n",
       "    </tr>\n",
       "    <tr>\n",
       "      <th>66</th>\n",
       "      <td>TEST_066</td>\n",
       "      <td>0</td>\n",
       "    </tr>\n",
       "    <tr>\n",
       "      <th>71</th>\n",
       "      <td>TEST_071</td>\n",
       "      <td>0</td>\n",
       "    </tr>\n",
       "    <tr>\n",
       "      <th>86</th>\n",
       "      <td>TEST_086</td>\n",
       "      <td>0</td>\n",
       "    </tr>\n",
       "    <tr>\n",
       "      <th>88</th>\n",
       "      <td>TEST_088</td>\n",
       "      <td>0</td>\n",
       "    </tr>\n",
       "    <tr>\n",
       "      <th>252</th>\n",
       "      <td>TEST_252</td>\n",
       "      <td>0</td>\n",
       "    </tr>\n",
       "    <tr>\n",
       "      <th>284</th>\n",
       "      <td>TEST_284</td>\n",
       "      <td>0</td>\n",
       "    </tr>\n",
       "  </tbody>\n",
       "</table>\n",
       "</div>"
      ],
      "text/plain": [
       "    PRODUCT_ID  Y_Class\n",
       "3     TEST_003        0\n",
       "8     TEST_008        0\n",
       "13    TEST_013        0\n",
       "14    TEST_014        0\n",
       "35    TEST_035        0\n",
       "37    TEST_037        0\n",
       "39    TEST_039        0\n",
       "47    TEST_047        0\n",
       "49    TEST_049        0\n",
       "51    TEST_051        0\n",
       "53    TEST_053        0\n",
       "60    TEST_060        0\n",
       "64    TEST_064        0\n",
       "65    TEST_065        0\n",
       "66    TEST_066        0\n",
       "71    TEST_071        0\n",
       "86    TEST_086        0\n",
       "88    TEST_088        0\n",
       "252   TEST_252        0\n",
       "284   TEST_284        0"
      ]
     },
     "execution_count": 189,
     "metadata": {},
     "output_type": "execute_result"
    }
   ],
   "source": [
    "df[df['Y_Class']==0]"
   ]
  },
  {
   "cell_type": "code",
   "execution_count": 187,
   "id": "bulgarian-stockholm",
   "metadata": {
    "collapsed": true
   },
   "outputs": [
    {
     "data": {
      "text/html": [
       "<div>\n",
       "<style scoped>\n",
       "    .dataframe tbody tr th:only-of-type {\n",
       "        vertical-align: middle;\n",
       "    }\n",
       "\n",
       "    .dataframe tbody tr th {\n",
       "        vertical-align: top;\n",
       "    }\n",
       "\n",
       "    .dataframe thead th {\n",
       "        text-align: right;\n",
       "    }\n",
       "</style>\n",
       "<table border=\"1\" class=\"dataframe\">\n",
       "  <thead>\n",
       "    <tr style=\"text-align: right;\">\n",
       "      <th></th>\n",
       "      <th>PRODUCT_ID</th>\n",
       "      <th>Y_Class</th>\n",
       "    </tr>\n",
       "  </thead>\n",
       "  <tbody>\n",
       "    <tr>\n",
       "      <th>3</th>\n",
       "      <td>TEST_003</td>\n",
       "      <td>0</td>\n",
       "    </tr>\n",
       "    <tr>\n",
       "      <th>7</th>\n",
       "      <td>TEST_007</td>\n",
       "      <td>0</td>\n",
       "    </tr>\n",
       "    <tr>\n",
       "      <th>8</th>\n",
       "      <td>TEST_008</td>\n",
       "      <td>0</td>\n",
       "    </tr>\n",
       "    <tr>\n",
       "      <th>13</th>\n",
       "      <td>TEST_013</td>\n",
       "      <td>0</td>\n",
       "    </tr>\n",
       "    <tr>\n",
       "      <th>14</th>\n",
       "      <td>TEST_014</td>\n",
       "      <td>0</td>\n",
       "    </tr>\n",
       "    <tr>\n",
       "      <th>35</th>\n",
       "      <td>TEST_035</td>\n",
       "      <td>0</td>\n",
       "    </tr>\n",
       "    <tr>\n",
       "      <th>37</th>\n",
       "      <td>TEST_037</td>\n",
       "      <td>0</td>\n",
       "    </tr>\n",
       "    <tr>\n",
       "      <th>39</th>\n",
       "      <td>TEST_039</td>\n",
       "      <td>0</td>\n",
       "    </tr>\n",
       "    <tr>\n",
       "      <th>41</th>\n",
       "      <td>TEST_041</td>\n",
       "      <td>0</td>\n",
       "    </tr>\n",
       "    <tr>\n",
       "      <th>42</th>\n",
       "      <td>TEST_042</td>\n",
       "      <td>0</td>\n",
       "    </tr>\n",
       "    <tr>\n",
       "      <th>47</th>\n",
       "      <td>TEST_047</td>\n",
       "      <td>0</td>\n",
       "    </tr>\n",
       "    <tr>\n",
       "      <th>49</th>\n",
       "      <td>TEST_049</td>\n",
       "      <td>0</td>\n",
       "    </tr>\n",
       "    <tr>\n",
       "      <th>51</th>\n",
       "      <td>TEST_051</td>\n",
       "      <td>0</td>\n",
       "    </tr>\n",
       "    <tr>\n",
       "      <th>52</th>\n",
       "      <td>TEST_052</td>\n",
       "      <td>0</td>\n",
       "    </tr>\n",
       "    <tr>\n",
       "      <th>53</th>\n",
       "      <td>TEST_053</td>\n",
       "      <td>0</td>\n",
       "    </tr>\n",
       "    <tr>\n",
       "      <th>54</th>\n",
       "      <td>TEST_054</td>\n",
       "      <td>0</td>\n",
       "    </tr>\n",
       "    <tr>\n",
       "      <th>55</th>\n",
       "      <td>TEST_055</td>\n",
       "      <td>0</td>\n",
       "    </tr>\n",
       "    <tr>\n",
       "      <th>58</th>\n",
       "      <td>TEST_058</td>\n",
       "      <td>0</td>\n",
       "    </tr>\n",
       "    <tr>\n",
       "      <th>60</th>\n",
       "      <td>TEST_060</td>\n",
       "      <td>0</td>\n",
       "    </tr>\n",
       "    <tr>\n",
       "      <th>61</th>\n",
       "      <td>TEST_061</td>\n",
       "      <td>0</td>\n",
       "    </tr>\n",
       "    <tr>\n",
       "      <th>62</th>\n",
       "      <td>TEST_062</td>\n",
       "      <td>0</td>\n",
       "    </tr>\n",
       "    <tr>\n",
       "      <th>63</th>\n",
       "      <td>TEST_063</td>\n",
       "      <td>0</td>\n",
       "    </tr>\n",
       "    <tr>\n",
       "      <th>64</th>\n",
       "      <td>TEST_064</td>\n",
       "      <td>0</td>\n",
       "    </tr>\n",
       "    <tr>\n",
       "      <th>65</th>\n",
       "      <td>TEST_065</td>\n",
       "      <td>0</td>\n",
       "    </tr>\n",
       "    <tr>\n",
       "      <th>66</th>\n",
       "      <td>TEST_066</td>\n",
       "      <td>0</td>\n",
       "    </tr>\n",
       "    <tr>\n",
       "      <th>71</th>\n",
       "      <td>TEST_071</td>\n",
       "      <td>0</td>\n",
       "    </tr>\n",
       "    <tr>\n",
       "      <th>86</th>\n",
       "      <td>TEST_086</td>\n",
       "      <td>0</td>\n",
       "    </tr>\n",
       "    <tr>\n",
       "      <th>88</th>\n",
       "      <td>TEST_088</td>\n",
       "      <td>0</td>\n",
       "    </tr>\n",
       "    <tr>\n",
       "      <th>285</th>\n",
       "      <td>TEST_285</td>\n",
       "      <td>0</td>\n",
       "    </tr>\n",
       "    <tr>\n",
       "      <th>292</th>\n",
       "      <td>TEST_292</td>\n",
       "      <td>0</td>\n",
       "    </tr>\n",
       "  </tbody>\n",
       "</table>\n",
       "</div>"
      ],
      "text/plain": [
       "    PRODUCT_ID  Y_Class\n",
       "3     TEST_003        0\n",
       "7     TEST_007        0\n",
       "8     TEST_008        0\n",
       "13    TEST_013        0\n",
       "14    TEST_014        0\n",
       "35    TEST_035        0\n",
       "37    TEST_037        0\n",
       "39    TEST_039        0\n",
       "41    TEST_041        0\n",
       "42    TEST_042        0\n",
       "47    TEST_047        0\n",
       "49    TEST_049        0\n",
       "51    TEST_051        0\n",
       "52    TEST_052        0\n",
       "53    TEST_053        0\n",
       "54    TEST_054        0\n",
       "55    TEST_055        0\n",
       "58    TEST_058        0\n",
       "60    TEST_060        0\n",
       "61    TEST_061        0\n",
       "62    TEST_062        0\n",
       "63    TEST_063        0\n",
       "64    TEST_064        0\n",
       "65    TEST_065        0\n",
       "66    TEST_066        0\n",
       "71    TEST_071        0\n",
       "86    TEST_086        0\n",
       "88    TEST_088        0\n",
       "285   TEST_285        0\n",
       "292   TEST_292        0"
      ]
     },
     "execution_count": 187,
     "metadata": {},
     "output_type": "execute_result"
    }
   ],
   "source": [
    "df[df['Y_Class']==0]"
   ]
  },
  {
   "cell_type": "code",
   "execution_count": 134,
   "id": "instrumental-housing",
   "metadata": {},
   "outputs": [
    {
     "data": {
      "text/plain": [
       "array([0, 1, 1, 1, 0, 0, 1, 1, 1, 1, 0, 0, 0, 1, 0, 2, 0, 1, 0, 0, 0, 0,\n",
       "       1, 0, 0, 1, 0, 0, 0, 0, 1, 1, 0, 1, 0, 1, 1, 1, 1, 1, 1, 1, 1, 1,\n",
       "       1, 1, 1, 1, 1, 1, 0, 1, 1, 1, 1, 0, 1, 1, 1, 1, 1, 1, 0, 1, 1, 1,\n",
       "       1], dtype=int64)"
      ]
     },
     "execution_count": 134,
     "metadata": {},
     "output_type": "execute_result"
    }
   ],
   "source": [
    "testA_31['Y_Class'].values"
   ]
  },
  {
   "cell_type": "code",
   "execution_count": null,
   "id": "dutch-professor",
   "metadata": {},
   "outputs": [],
   "source": []
  },
  {
   "cell_type": "code",
   "execution_count": 185,
   "id": "legendary-bahrain",
   "metadata": {},
   "outputs": [],
   "source": [
    "df = pd.read_csv('캣2_5.csv')"
   ]
  },
  {
   "cell_type": "markdown",
   "id": "recognized-addiction",
   "metadata": {},
   "source": [
    "# ver3"
   ]
  },
  {
   "cell_type": "code",
   "execution_count": 209,
   "id": "bottom-mileage",
   "metadata": {},
   "outputs": [],
   "source": [
    "y1=train[train['Y_Class']==1]\n",
    "y0=train[train['Y_Class']==0]\n",
    "y2=train[train['Y_Class']==2]"
   ]
  },
  {
   "cell_type": "code",
   "execution_count": 205,
   "id": "presidential-arrival",
   "metadata": {},
   "outputs": [
    {
     "data": {
      "text/plain": [
       "0.525066667"
      ]
     },
     "execution_count": 205,
     "metadata": {},
     "output_type": "execute_result"
    }
   ],
   "source": [
    "y0['Y_Quality'].max()"
   ]
  },
  {
   "cell_type": "code",
   "execution_count": 206,
   "id": "color-amino",
   "metadata": {},
   "outputs": [
    {
     "data": {
      "text/plain": [
       "0.525085714"
      ]
     },
     "execution_count": 206,
     "metadata": {},
     "output_type": "execute_result"
    }
   ],
   "source": [
    "y1['Y_Quality'].min()"
   ]
  },
  {
   "cell_type": "code",
   "execution_count": 207,
   "id": "sharp-application",
   "metadata": {},
   "outputs": [
    {
     "data": {
      "text/plain": [
       "0.534842857"
      ]
     },
     "execution_count": 207,
     "metadata": {},
     "output_type": "execute_result"
    }
   ],
   "source": [
    "y1['Y_Quality'].max()"
   ]
  },
  {
   "cell_type": "code",
   "execution_count": 208,
   "id": "racial-token",
   "metadata": {},
   "outputs": [
    {
     "data": {
      "text/plain": [
       "0.534950794"
      ]
     },
     "execution_count": 208,
     "metadata": {},
     "output_type": "execute_result"
    }
   ],
   "source": [
    "y2['Y_Quality'].min()"
   ]
  },
  {
   "cell_type": "code",
   "execution_count": 213,
   "id": "english-fruit",
   "metadata": {},
   "outputs": [
    {
     "data": {
      "text/plain": [
       "0.5244190479999999"
      ]
     },
     "execution_count": 213,
     "metadata": {},
     "output_type": "execute_result"
    }
   ],
   "source": [
    "y0['Y_Quality'].quantile(q=0.8, interpolation='nearest')"
   ]
  },
  {
   "cell_type": "code",
   "execution_count": 215,
   "id": "thorough-baker",
   "metadata": {},
   "outputs": [
    {
     "data": {
      "text/plain": [
       "0.52797619"
      ]
     },
     "execution_count": 215,
     "metadata": {},
     "output_type": "execute_result"
    }
   ],
   "source": [
    "y1['Y_Quality'].quantile(q=0.2, interpolation='nearest')"
   ]
  },
  {
   "cell_type": "code",
   "execution_count": 216,
   "id": "nervous-marsh",
   "metadata": {},
   "outputs": [
    {
     "data": {
      "text/plain": [
       "0.5325063489999999"
      ]
     },
     "execution_count": 216,
     "metadata": {},
     "output_type": "execute_result"
    }
   ],
   "source": [
    "y1['Y_Quality'].quantile(q=0.8, interpolation='nearest')"
   ]
  },
  {
   "cell_type": "code",
   "execution_count": 214,
   "id": "verbal-trick",
   "metadata": {},
   "outputs": [
    {
     "data": {
      "text/plain": [
       "0.535965079"
      ]
     },
     "execution_count": 214,
     "metadata": {},
     "output_type": "execute_result"
    }
   ],
   "source": [
    "y2['Y_Quality'].quantile(q=0.2, interpolation='nearest')"
   ]
  },
  {
   "cell_type": "code",
   "execution_count": 218,
   "id": "naval-holder",
   "metadata": {},
   "outputs": [],
   "source": [
    "train[((train['Y_Quality']<0.535965079)&(train['Y_Quality']>0.5325063489999999)) | ((train['Y_Quality']>0.5244190479999999)&(train['Y_Quality']<0.52797619))].to_csv('사이값.csv',index=False)"
   ]
  },
  {
   "cell_type": "code",
   "execution_count": 220,
   "id": "great-permission",
   "metadata": {},
   "outputs": [],
   "source": [
    "ndf = train[((train['Y_Quality']<0.535965079)&(train['Y_Quality']>0.5325063489999999)) | ((train['Y_Quality']>0.5244190479999999)&(train['Y_Quality']<0.52797619))]"
   ]
  },
  {
   "cell_type": "code",
   "execution_count": 224,
   "id": "checked-dryer",
   "metadata": {},
   "outputs": [
    {
     "data": {
      "text/plain": [
       "72"
      ]
     },
     "execution_count": 224,
     "metadata": {},
     "output_type": "execute_result"
    }
   ],
   "source": [
    "len(ndf[ndf['PRODUCT_CODE']=='A_31'])"
   ]
  },
  {
   "cell_type": "code",
   "execution_count": 225,
   "id": "military-explorer",
   "metadata": {},
   "outputs": [
    {
     "data": {
      "text/plain": [
       "122"
      ]
     },
     "execution_count": 225,
     "metadata": {},
     "output_type": "execute_result"
    }
   ],
   "source": [
    "len(ndf[ndf['PRODUCT_CODE']=='T_31'])"
   ]
  },
  {
   "cell_type": "code",
   "execution_count": 226,
   "id": "adolescent-conjunction",
   "metadata": {},
   "outputs": [
    {
     "data": {
      "text/plain": [
       "4"
      ]
     },
     "execution_count": 226,
     "metadata": {},
     "output_type": "execute_result"
    }
   ],
   "source": [
    "len(ndf[ndf['PRODUCT_CODE']=='O_31'])"
   ]
  },
  {
   "cell_type": "code",
   "execution_count": 228,
   "id": "fuzzy-buyer",
   "metadata": {},
   "outputs": [
    {
     "data": {
      "text/plain": [
       "Index(['PRODUCT_ID', 'Y_Class', 'Y_Quality', 'TIMESTAMP', 'LINE',\n",
       "       'PRODUCT_CODE', 'X_128', 'X_129', 'X_130', 'X_131',\n",
       "       ...\n",
       "       'X_2861', 'X_2862', 'X_2863', 'X_2864', 'X_2865', 'X_2866', 'X_2867',\n",
       "       'X_2868', 'X_2869', 'X_2870'],\n",
       "      dtype='object', length=1871)"
      ]
     },
     "execution_count": 228,
     "metadata": {},
     "output_type": "execute_result"
    }
   ],
   "source": [
    "trainA_31.columns"
   ]
  },
  {
   "cell_type": "code",
   "execution_count": 229,
   "id": "alike-hearts",
   "metadata": {},
   "outputs": [
    {
     "data": {
      "text/html": [
       "<div>\n",
       "<style scoped>\n",
       "    .dataframe tbody tr th:only-of-type {\n",
       "        vertical-align: middle;\n",
       "    }\n",
       "\n",
       "    .dataframe tbody tr th {\n",
       "        vertical-align: top;\n",
       "    }\n",
       "\n",
       "    .dataframe thead th {\n",
       "        text-align: right;\n",
       "    }\n",
       "</style>\n",
       "<table border=\"1\" class=\"dataframe\">\n",
       "  <thead>\n",
       "    <tr style=\"text-align: right;\">\n",
       "      <th></th>\n",
       "      <th>PRODUCT_ID</th>\n",
       "      <th>Y_Class</th>\n",
       "      <th>Y_Quality</th>\n",
       "      <th>TIMESTAMP</th>\n",
       "      <th>LINE</th>\n",
       "      <th>PRODUCT_CODE</th>\n",
       "      <th>X_128</th>\n",
       "      <th>X_129</th>\n",
       "      <th>X_130</th>\n",
       "      <th>X_131</th>\n",
       "      <th>...</th>\n",
       "      <th>X_2861</th>\n",
       "      <th>X_2862</th>\n",
       "      <th>X_2863</th>\n",
       "      <th>X_2864</th>\n",
       "      <th>X_2865</th>\n",
       "      <th>X_2866</th>\n",
       "      <th>X_2867</th>\n",
       "      <th>X_2868</th>\n",
       "      <th>X_2869</th>\n",
       "      <th>X_2870</th>\n",
       "    </tr>\n",
       "  </thead>\n",
       "  <tbody>\n",
       "    <tr>\n",
       "      <th>0</th>\n",
       "      <td>TRAIN_000</td>\n",
       "      <td>1</td>\n",
       "      <td>0.533433</td>\n",
       "      <td>2022-06-13 5:14</td>\n",
       "      <td>T050304</td>\n",
       "      <td>A_31</td>\n",
       "      <td>7813.0</td>\n",
       "      <td>7813.0</td>\n",
       "      <td>NaN</td>\n",
       "      <td>NaN</td>\n",
       "      <td>...</td>\n",
       "      <td>197.286667</td>\n",
       "      <td>189.0</td>\n",
       "      <td>383.0</td>\n",
       "      <td>368.296296</td>\n",
       "      <td>353.0</td>\n",
       "      <td>39.34</td>\n",
       "      <td>40.89</td>\n",
       "      <td>32.56</td>\n",
       "      <td>34.09</td>\n",
       "      <td>77.77</td>\n",
       "    </tr>\n",
       "    <tr>\n",
       "      <th>6</th>\n",
       "      <td>TRAIN_006</td>\n",
       "      <td>1</td>\n",
       "      <td>0.533665</td>\n",
       "      <td>2022-06-13 6:03</td>\n",
       "      <td>T050304</td>\n",
       "      <td>A_31</td>\n",
       "      <td>7820.0</td>\n",
       "      <td>7820.0</td>\n",
       "      <td>NaN</td>\n",
       "      <td>NaN</td>\n",
       "      <td>...</td>\n",
       "      <td>188.180000</td>\n",
       "      <td>176.9</td>\n",
       "      <td>384.0</td>\n",
       "      <td>368.425926</td>\n",
       "      <td>353.0</td>\n",
       "      <td>32.50</td>\n",
       "      <td>41.42</td>\n",
       "      <td>38.36</td>\n",
       "      <td>30.83</td>\n",
       "      <td>76.93</td>\n",
       "    </tr>\n",
       "    <tr>\n",
       "      <th>12</th>\n",
       "      <td>TRAIN_012</td>\n",
       "      <td>1</td>\n",
       "      <td>0.533632</td>\n",
       "      <td>2022-06-13 6:52</td>\n",
       "      <td>T050304</td>\n",
       "      <td>A_31</td>\n",
       "      <td>7827.0</td>\n",
       "      <td>7827.0</td>\n",
       "      <td>NaN</td>\n",
       "      <td>NaN</td>\n",
       "      <td>...</td>\n",
       "      <td>175.940000</td>\n",
       "      <td>162.4</td>\n",
       "      <td>392.0</td>\n",
       "      <td>374.148148</td>\n",
       "      <td>352.0</td>\n",
       "      <td>36.55</td>\n",
       "      <td>32.32</td>\n",
       "      <td>54.25</td>\n",
       "      <td>35.15</td>\n",
       "      <td>78.86</td>\n",
       "    </tr>\n",
       "    <tr>\n",
       "      <th>16</th>\n",
       "      <td>TRAIN_016</td>\n",
       "      <td>1</td>\n",
       "      <td>0.534054</td>\n",
       "      <td>2022-06-13 7:25</td>\n",
       "      <td>T050304</td>\n",
       "      <td>A_31</td>\n",
       "      <td>7832.0</td>\n",
       "      <td>7832.0</td>\n",
       "      <td>NaN</td>\n",
       "      <td>NaN</td>\n",
       "      <td>...</td>\n",
       "      <td>176.465517</td>\n",
       "      <td>165.4</td>\n",
       "      <td>384.0</td>\n",
       "      <td>368.962264</td>\n",
       "      <td>353.0</td>\n",
       "      <td>40.53</td>\n",
       "      <td>31.70</td>\n",
       "      <td>49.49</td>\n",
       "      <td>35.73</td>\n",
       "      <td>79.75</td>\n",
       "    </tr>\n",
       "    <tr>\n",
       "      <th>33</th>\n",
       "      <td>TRAIN_033</td>\n",
       "      <td>1</td>\n",
       "      <td>0.526656</td>\n",
       "      <td>2022-06-21 7:14</td>\n",
       "      <td>T010305</td>\n",
       "      <td>A_31</td>\n",
       "      <td>NaN</td>\n",
       "      <td>NaN</td>\n",
       "      <td>NaN</td>\n",
       "      <td>NaN</td>\n",
       "      <td>...</td>\n",
       "      <td>168.258621</td>\n",
       "      <td>158.3</td>\n",
       "      <td>446.0</td>\n",
       "      <td>429.301887</td>\n",
       "      <td>413.0</td>\n",
       "      <td>NaN</td>\n",
       "      <td>NaN</td>\n",
       "      <td>NaN</td>\n",
       "      <td>NaN</td>\n",
       "      <td>NaN</td>\n",
       "    </tr>\n",
       "    <tr>\n",
       "      <th>...</th>\n",
       "      <td>...</td>\n",
       "      <td>...</td>\n",
       "      <td>...</td>\n",
       "      <td>...</td>\n",
       "      <td>...</td>\n",
       "      <td>...</td>\n",
       "      <td>...</td>\n",
       "      <td>...</td>\n",
       "      <td>...</td>\n",
       "      <td>...</td>\n",
       "      <td>...</td>\n",
       "      <td>...</td>\n",
       "      <td>...</td>\n",
       "      <td>...</td>\n",
       "      <td>...</td>\n",
       "      <td>...</td>\n",
       "      <td>...</td>\n",
       "      <td>...</td>\n",
       "      <td>...</td>\n",
       "      <td>...</td>\n",
       "      <td>...</td>\n",
       "    </tr>\n",
       "    <tr>\n",
       "      <th>550</th>\n",
       "      <td>TRAIN_550</td>\n",
       "      <td>1</td>\n",
       "      <td>0.533695</td>\n",
       "      <td>2022-08-26 8:26</td>\n",
       "      <td>T050307</td>\n",
       "      <td>A_31</td>\n",
       "      <td>NaN</td>\n",
       "      <td>NaN</td>\n",
       "      <td>2278.0</td>\n",
       "      <td>2278.0</td>\n",
       "      <td>...</td>\n",
       "      <td>177.033333</td>\n",
       "      <td>161.4</td>\n",
       "      <td>383.0</td>\n",
       "      <td>363.037037</td>\n",
       "      <td>342.0</td>\n",
       "      <td>52.61</td>\n",
       "      <td>53.10</td>\n",
       "      <td>57.30</td>\n",
       "      <td>56.59</td>\n",
       "      <td>66.83</td>\n",
       "    </tr>\n",
       "    <tr>\n",
       "      <th>551</th>\n",
       "      <td>TRAIN_551</td>\n",
       "      <td>1</td>\n",
       "      <td>0.525271</td>\n",
       "      <td>2022-08-26 9:38</td>\n",
       "      <td>T050307</td>\n",
       "      <td>A_31</td>\n",
       "      <td>NaN</td>\n",
       "      <td>NaN</td>\n",
       "      <td>2407.0</td>\n",
       "      <td>2407.0</td>\n",
       "      <td>...</td>\n",
       "      <td>187.772414</td>\n",
       "      <td>168.7</td>\n",
       "      <td>384.0</td>\n",
       "      <td>369.433962</td>\n",
       "      <td>352.0</td>\n",
       "      <td>52.28</td>\n",
       "      <td>56.24</td>\n",
       "      <td>54.47</td>\n",
       "      <td>50.56</td>\n",
       "      <td>62.53</td>\n",
       "    </tr>\n",
       "    <tr>\n",
       "      <th>553</th>\n",
       "      <td>TRAIN_553</td>\n",
       "      <td>0</td>\n",
       "      <td>0.524686</td>\n",
       "      <td>2022-08-26 11:23</td>\n",
       "      <td>T010305</td>\n",
       "      <td>A_31</td>\n",
       "      <td>NaN</td>\n",
       "      <td>NaN</td>\n",
       "      <td>NaN</td>\n",
       "      <td>NaN</td>\n",
       "      <td>...</td>\n",
       "      <td>191.286207</td>\n",
       "      <td>181.7</td>\n",
       "      <td>466.0</td>\n",
       "      <td>444.924528</td>\n",
       "      <td>424.0</td>\n",
       "      <td>NaN</td>\n",
       "      <td>NaN</td>\n",
       "      <td>NaN</td>\n",
       "      <td>NaN</td>\n",
       "      <td>NaN</td>\n",
       "    </tr>\n",
       "    <tr>\n",
       "      <th>573</th>\n",
       "      <td>TRAIN_573</td>\n",
       "      <td>1</td>\n",
       "      <td>0.526948</td>\n",
       "      <td>2022-09-03 20:03</td>\n",
       "      <td>T050304</td>\n",
       "      <td>A_31</td>\n",
       "      <td>9401.0</td>\n",
       "      <td>9401.0</td>\n",
       "      <td>NaN</td>\n",
       "      <td>NaN</td>\n",
       "      <td>...</td>\n",
       "      <td>189.210345</td>\n",
       "      <td>167.5</td>\n",
       "      <td>383.0</td>\n",
       "      <td>370.528302</td>\n",
       "      <td>352.0</td>\n",
       "      <td>52.65</td>\n",
       "      <td>58.95</td>\n",
       "      <td>41.01</td>\n",
       "      <td>58.43</td>\n",
       "      <td>64.46</td>\n",
       "    </tr>\n",
       "    <tr>\n",
       "      <th>575</th>\n",
       "      <td>TRAIN_575</td>\n",
       "      <td>1</td>\n",
       "      <td>0.526033</td>\n",
       "      <td>2022-09-03 20:27</td>\n",
       "      <td>T050304</td>\n",
       "      <td>A_31</td>\n",
       "      <td>9445.0</td>\n",
       "      <td>9445.0</td>\n",
       "      <td>NaN</td>\n",
       "      <td>NaN</td>\n",
       "      <td>...</td>\n",
       "      <td>186.580000</td>\n",
       "      <td>171.4</td>\n",
       "      <td>383.0</td>\n",
       "      <td>364.500000</td>\n",
       "      <td>350.0</td>\n",
       "      <td>53.81</td>\n",
       "      <td>51.84</td>\n",
       "      <td>59.37</td>\n",
       "      <td>57.63</td>\n",
       "      <td>66.25</td>\n",
       "    </tr>\n",
       "  </tbody>\n",
       "</table>\n",
       "<p>72 rows × 1871 columns</p>\n",
       "</div>"
      ],
      "text/plain": [
       "    PRODUCT_ID  Y_Class  Y_Quality         TIMESTAMP     LINE PRODUCT_CODE  \\\n",
       "0    TRAIN_000        1   0.533433   2022-06-13 5:14  T050304         A_31   \n",
       "6    TRAIN_006        1   0.533665   2022-06-13 6:03  T050304         A_31   \n",
       "12   TRAIN_012        1   0.533632   2022-06-13 6:52  T050304         A_31   \n",
       "16   TRAIN_016        1   0.534054   2022-06-13 7:25  T050304         A_31   \n",
       "33   TRAIN_033        1   0.526656   2022-06-21 7:14  T010305         A_31   \n",
       "..         ...      ...        ...               ...      ...          ...   \n",
       "550  TRAIN_550        1   0.533695   2022-08-26 8:26  T050307         A_31   \n",
       "551  TRAIN_551        1   0.525271   2022-08-26 9:38  T050307         A_31   \n",
       "553  TRAIN_553        0   0.524686  2022-08-26 11:23  T010305         A_31   \n",
       "573  TRAIN_573        1   0.526948  2022-09-03 20:03  T050304         A_31   \n",
       "575  TRAIN_575        1   0.526033  2022-09-03 20:27  T050304         A_31   \n",
       "\n",
       "      X_128   X_129   X_130   X_131  ...      X_2861  X_2862  X_2863  \\\n",
       "0    7813.0  7813.0     NaN     NaN  ...  197.286667   189.0   383.0   \n",
       "6    7820.0  7820.0     NaN     NaN  ...  188.180000   176.9   384.0   \n",
       "12   7827.0  7827.0     NaN     NaN  ...  175.940000   162.4   392.0   \n",
       "16   7832.0  7832.0     NaN     NaN  ...  176.465517   165.4   384.0   \n",
       "33      NaN     NaN     NaN     NaN  ...  168.258621   158.3   446.0   \n",
       "..      ...     ...     ...     ...  ...         ...     ...     ...   \n",
       "550     NaN     NaN  2278.0  2278.0  ...  177.033333   161.4   383.0   \n",
       "551     NaN     NaN  2407.0  2407.0  ...  187.772414   168.7   384.0   \n",
       "553     NaN     NaN     NaN     NaN  ...  191.286207   181.7   466.0   \n",
       "573  9401.0  9401.0     NaN     NaN  ...  189.210345   167.5   383.0   \n",
       "575  9445.0  9445.0     NaN     NaN  ...  186.580000   171.4   383.0   \n",
       "\n",
       "         X_2864  X_2865  X_2866  X_2867  X_2868  X_2869  X_2870  \n",
       "0    368.296296   353.0   39.34   40.89   32.56   34.09   77.77  \n",
       "6    368.425926   353.0   32.50   41.42   38.36   30.83   76.93  \n",
       "12   374.148148   352.0   36.55   32.32   54.25   35.15   78.86  \n",
       "16   368.962264   353.0   40.53   31.70   49.49   35.73   79.75  \n",
       "33   429.301887   413.0     NaN     NaN     NaN     NaN     NaN  \n",
       "..          ...     ...     ...     ...     ...     ...     ...  \n",
       "550  363.037037   342.0   52.61   53.10   57.30   56.59   66.83  \n",
       "551  369.433962   352.0   52.28   56.24   54.47   50.56   62.53  \n",
       "553  444.924528   424.0     NaN     NaN     NaN     NaN     NaN  \n",
       "573  370.528302   352.0   52.65   58.95   41.01   58.43   64.46  \n",
       "575  364.500000   350.0   53.81   51.84   59.37   57.63   66.25  \n",
       "\n",
       "[72 rows x 1871 columns]"
      ]
     },
     "execution_count": 229,
     "metadata": {},
     "output_type": "execute_result"
    }
   ],
   "source": [
    "ndf[ndf['PRODUCT_CODE']=='A_31'][trainA_31.columns]"
   ]
  },
  {
   "cell_type": "code",
   "execution_count": null,
   "id": "understood-weather",
   "metadata": {},
   "outputs": [],
   "source": [
    "trainA_31.columns"
   ]
  },
  {
   "cell_type": "code",
   "execution_count": null,
   "id": "annual-purse",
   "metadata": {},
   "outputs": [],
   "source": []
  },
  {
   "cell_type": "code",
   "execution_count": null,
   "id": "atomic-matrix",
   "metadata": {},
   "outputs": [],
   "source": []
  },
  {
   "cell_type": "code",
   "execution_count": 19,
   "id": "spiritual-middle",
   "metadata": {},
   "outputs": [
    {
     "data": {
      "text/plain": [
       "40.920000000000016"
      ]
     },
     "execution_count": 19,
     "metadata": {},
     "output_type": "execute_result"
    }
   ],
   "source": [
    "93*2 - 93*0.26*2*3"
   ]
  },
  {
   "cell_type": "code",
   "execution_count": 20,
   "id": "interesting-airline",
   "metadata": {},
   "outputs": [
    {
     "data": {
      "text/plain": [
       "33.60655737704918"
      ]
     },
     "execution_count": 20,
     "metadata": {},
     "output_type": "execute_result"
    }
   ],
   "source": [
    "41/(2-0.26*3)"
   ]
  },
  {
   "cell_type": "code",
   "execution_count": 18,
   "id": "pointed-algebra",
   "metadata": {},
   "outputs": [
    {
     "data": {
      "text/plain": [
       "14"
      ]
     },
     "execution_count": 18,
     "metadata": {},
     "output_type": "execute_result"
    }
   ],
   "source": [
    "93-79"
   ]
  },
  {
   "cell_type": "code",
   "execution_count": 14,
   "id": "reduced-ability",
   "metadata": {},
   "outputs": [
    {
     "data": {
      "text/plain": [
       "1.74"
      ]
     },
     "execution_count": 14,
     "metadata": {},
     "output_type": "execute_result"
    }
   ],
   "source": [
    "2-0.26"
   ]
  }
 ],
 "metadata": {
  "kernelspec": {
   "display_name": "Python 3",
   "language": "python",
   "name": "python3"
  },
  "language_info": {
   "codemirror_mode": {
    "name": "ipython",
    "version": 3
   },
   "file_extension": ".py",
   "mimetype": "text/x-python",
   "name": "python",
   "nbconvert_exporter": "python",
   "pygments_lexer": "ipython3",
   "version": "3.8.8"
  }
 },
 "nbformat": 4,
 "nbformat_minor": 5
}
