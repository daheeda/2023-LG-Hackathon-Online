{
 "cells": [
  {
   "cell_type": "code",
   "execution_count": 48,
   "id": "ordinary-australian",
   "metadata": {},
   "outputs": [],
   "source": [
    "import pandas as pd\n",
    "import numpy as np\n",
    "import matplotlib.pyplot as plt\n",
    "import seaborn as sns\n",
    "import re\n",
    "import os\n",
    "import warnings\n",
    "warnings.filterwarnings(action='ignore')\n",
    "from catboost import *\n",
    "import sklearn\n",
    "import math\n",
    "from sklearn.preprocessing import LabelEncoder\n",
    "import math\n",
    "\n",
    "\n",
    "def log(train,test):\n",
    "    col_list = train.columns\n",
    "    for col in col_list :\n",
    "        if '제곱' in col:\n",
    "            train[col+'log'] = np.log1p(train[col])\n",
    "            test[col+'log'] = np.log1p(test[col])\n",
    "    return train,test\n",
    "\n",
    "def del_columns(train, test):\n",
    "    col_list = train.columns\n",
    "    nan_list = []\n",
    "    nan_cnt = []\n",
    "    nan_col = []\n",
    "    full_list = []\n",
    "    for col in col_list:\n",
    "        if train[col].isnull().sum() == 0 :\n",
    "            full_list.append(col)\n",
    "            continue\n",
    "        nan_list.append([col, train[col].isnull().sum()])\n",
    "        nan_cnt.append(train[col].isnull().sum())\n",
    "        nan_col.append(col)\n",
    "\n",
    "    '''모든값이 결측값이면 제거'''\n",
    "    del_col = []\n",
    "    for col in nan_list :\n",
    "        if col[1] == len(train) :\n",
    "            del_col.append(col[0])\n",
    "    train = train.drop(columns=del_col)\n",
    "    test = test.drop(columns=del_col)\n",
    "\n",
    "    '''값이 1개 존재하면 제거'''\n",
    "    del_col = []\n",
    "    col_list = train.describe().columns\n",
    "    for col in col_list :\n",
    "        if col == 'Y_Class':\n",
    "            continue\n",
    "        if col == 'Y_Quality':\n",
    "            continue\n",
    "        if col == 'LINE':\n",
    "            continue\n",
    "        if col == 'PRODUCT_CODE':\n",
    "            continue\n",
    "        if train[col].nunique()==1 :\n",
    "            del_col.append(col)\n",
    "    train = train.drop(columns=del_col)\n",
    "    test = test.drop(columns=del_col)\n",
    "    \n",
    "    return train,test\n",
    "   \n",
    "def make_train_test_dataset(train,test):\n",
    "    train_x = train.drop(columns=['PRODUCT_ID','TIMESTAMP','PRODUCT_CODE','Y_Class','Y_Quality'])\n",
    "    test_x = test.drop(columns=['PRODUCT_ID','TIMESTAMP','PRODUCT_CODE'])\n",
    "    train_y = train['Y_Quality']\n",
    "    train_w = train[['Y_Class']]\n",
    "    return train_x, test_x, train_y, train_w\n",
    "\n",
    "def fillna(train,test,value):\n",
    "    train = train.fillna(value)\n",
    "    test = test.fillna(value)\n",
    "    return train,test\n",
    "\n",
    "def labelencoder(train,test,col_list):\n",
    "    qual_col = col_list\n",
    "    for i in qual_col:\n",
    "        le = LabelEncoder()\n",
    "        le = le.fit(train[i])\n",
    "        train[i] = le.transform(train[i])\n",
    "\n",
    "        for label in np.unique(test[i]): \n",
    "            if label not in le.classes_: \n",
    "                le.classes_ = np.append(le.classes_, label)\n",
    "        test[i] = le.transform(test[i]) \n",
    "    return train,test\n",
    "\n",
    "def multi_col(train,test) : \n",
    "    col_list = train.columns\n",
    "    for col in col_list :\n",
    "        if col == 'LINE':\n",
    "            continue\n",
    "        train[col+'제곱'] = (train[col]**2)//100\n",
    "        test[col+'제곱'] = (test[col]**2)//100\n",
    "    return train,test"
   ]
  },
  {
   "cell_type": "code",
   "execution_count": 49,
   "id": "demographic-pastor",
   "metadata": {},
   "outputs": [
    {
     "name": "stdout",
     "output_type": "stream",
     "text": [
      "(249, 1866) (67, 1866) (343, 550) (239, 550)\n"
     ]
    }
   ],
   "source": [
    "train = pd.read_csv('train.csv')\n",
    "test = pd.read_csv('test.csv')\n",
    "\n",
    "# y quality scaling\n",
    "train['Y_Quality'] = train['Y_Quality'].map(lambda x : np.log(x))\n",
    "\n",
    "train, test = del_columns(train,test)\n",
    "\n",
    "trainA_31 = train[train['PRODUCT_CODE']=='A_31']\n",
    "train_T_31 = train[train['PRODUCT_CODE']=='T_31']\n",
    "train_O_31 = train[train['PRODUCT_CODE']=='O_31']\n",
    "\n",
    "testA_31 = test[test['PRODUCT_CODE']=='A_31']\n",
    "test_T_31 = test[test['PRODUCT_CODE']=='T_31']\n",
    "test_O_31 = test[test['PRODUCT_CODE']=='O_31']\n",
    "\n",
    "trainA_31, testA_31 = del_columns(trainA_31,testA_31)\n",
    "train_T_31, test_T_31 = del_columns(train_T_31,test_T_31)\n",
    "train_O_31, test_O_31 = del_columns(train_O_31,test_O_31)\n",
    "\n",
    "trainA_31_x,testA_31_x, trainA_31_y, trainA_31_w = make_train_test_dataset(trainA_31,testA_31)\n",
    "train_T_31_x,test_T_31_x, train_T_31_y, train_T_31_w = make_train_test_dataset(train_T_31,test_T_31)\n",
    "train_O_31_x,test_O_31_x, train_O_31_y, train_O_31_w = make_train_test_dataset(train_O_31,test_O_31)\n",
    "\n",
    "trainA_31_x,testA_31_x = labelencoder(trainA_31_x,testA_31_x,['LINE'])\n",
    "train_T_31_x,test_T_31_x = labelencoder(train_T_31_x,test_T_31_x,['LINE'])\n",
    "train_O_31_x,test_O_31_x = labelencoder(train_O_31_x,test_O_31_x,['LINE'])\n",
    "\n",
    "trainA_31_x,testA_31_x = fillna(trainA_31_x,testA_31_x,-1)\n",
    "train_T_31_x,test_T_31_x = fillna(train_T_31_x,test_T_31_x,-1)\n",
    "train_O_31_x,test_O_31_x = fillna(train_O_31_x,test_O_31_x,-1)\n",
    "\n",
    "drop_a = ['X_1167','X_1168','X_1169','X_1170',\n",
    "          'X_1171','X_1274','X_1275','X_1276','X_1277','X_1278']\n",
    "\n",
    "drop_t = ['X_529','X_530','X_531','X_532','X_533','X_600','X_601','X_602','X_603','X_604']\n",
    "'''\n",
    "trainA_31_x,testA_31_x = multi_col(trainA_31_x,testA_31_x)\n",
    "train_T_31_x,test_T_31_x = multi_col(train_T_31_x,test_T_31_x)\n",
    "train_O_31_x,test_O_31_x = multi_col(train_O_31_x,test_O_31_x)'''\n",
    "\n",
    "print(trainA_31_x.shape,testA_31_x.shape,train_T_31_x.shape,test_T_31_x.shape)"
   ]
  },
  {
   "cell_type": "code",
   "execution_count": 36,
   "id": "improved-effects",
   "metadata": {
    "collapsed": true
   },
   "outputs": [
    {
     "data": {
      "text/plain": [
       "{'nan_mode': 'Min',\n",
       " 'eval_metric': 'RMSE',\n",
       " 'iterations': 1500,\n",
       " 'sampling_frequency': 'PerTree',\n",
       " 'leaf_estimation_method': 'Newton',\n",
       " 'grow_policy': 'SymmetricTree',\n",
       " 'penalties_coefficient': 1,\n",
       " 'boosting_type': 'Plain',\n",
       " 'model_shrink_mode': 'Constant',\n",
       " 'feature_border_type': 'GreedyLogSum',\n",
       " 'bayesian_matrix_reg': 0.10000000149011612,\n",
       " 'l2_leaf_reg': 3,\n",
       " 'random_strength': 1,\n",
       " 'rsm': 1,\n",
       " 'boost_from_average': True,\n",
       " 'model_size_reg': 0.5,\n",
       " 'subsample': 1,\n",
       " 'use_best_model': False,\n",
       " 'random_seed': 1234,\n",
       " 'depth': 6,\n",
       " 'posterior_sampling': False,\n",
       " 'border_count': 254,\n",
       " 'classes_count': 0,\n",
       " 'auto_class_weights': 'None',\n",
       " 'sparse_features_conflict_fraction': 0,\n",
       " 'leaf_estimation_backtracking': 'AnyImprovement',\n",
       " 'best_model_min_trees': 1,\n",
       " 'model_shrink_rate': 0,\n",
       " 'min_data_in_leaf': 1,\n",
       " 'loss_function': 'RMSE',\n",
       " 'learning_rate': 0.032999999821186066,\n",
       " 'score_function': 'Cosine',\n",
       " 'task_type': 'CPU',\n",
       " 'leaf_estimation_iterations': 1,\n",
       " 'bootstrap_type': 'MVS',\n",
       " 'max_leaves': 64}"
      ]
     },
     "execution_count": 36,
     "metadata": {},
     "output_type": "execute_result"
    }
   ],
   "source": [
    "model1.get_all_params()"
   ]
  },
  {
   "cell_type": "code",
   "execution_count": 67,
   "id": "neither-benefit",
   "metadata": {},
   "outputs": [],
   "source": [
    "model1 = CatBoostRegressor(random_state=1234,verbose=500,iterations=500,learning_rate=0.033,\n",
    "                          depth = 10)\n",
    "model2 = CatBoostRegressor(random_state=1234,verbose=500,iterations=4500,learning_rate=0.02)"
   ]
  },
  {
   "cell_type": "code",
   "execution_count": 68,
   "id": "digital-snake",
   "metadata": {},
   "outputs": [
    {
     "name": "stdout",
     "output_type": "stream",
     "text": [
      "0:\tlearn: 0.0183258\ttotal: 901ms\tremaining: 7m 29s\n",
      "499:\tlearn: 0.0004987\ttotal: 7m 30s\tremaining: 0us\n"
     ]
    }
   ],
   "source": [
    "model1.fit(trainA_31_x, trainA_31_y)\n",
    "pred_a = model1.predict(testA_31_x)"
   ]
  },
  {
   "cell_type": "code",
   "execution_count": 69,
   "id": "declared-musical",
   "metadata": {},
   "outputs": [
    {
     "name": "stdout",
     "output_type": "stream",
     "text": [
      "0:\tlearn: 0.0089054\ttotal: 403ms\tremaining: 3m 20s\n",
      "499:\tlearn: 0.0002770\ttotal: 3m 4s\tremaining: 0us\n"
     ]
    }
   ],
   "source": [
    "model1.fit(train_T_31_x, train_T_31_y)\n",
    "pred_t = model1.predict(test_T_31_x)"
   ]
  },
  {
   "cell_type": "code",
   "execution_count": 55,
   "id": "initial-anime",
   "metadata": {},
   "outputs": [
    {
     "name": "stdout",
     "output_type": "stream",
     "text": [
      "0:\tlearn: 0.0059697\ttotal: 4.61ms\tremaining: 6.91s\n",
      "500:\tlearn: 0.0000906\ttotal: 2.77s\tremaining: 5.52s\n",
      "1000:\tlearn: 0.0000014\ttotal: 5.53s\tremaining: 2.75s\n",
      "1499:\tlearn: 0.0000000\ttotal: 9.06s\tremaining: 0us\n"
     ]
    }
   ],
   "source": [
    "model1.fit(train_O_31_x, train_O_31_y)\n",
    "pred_o = model1.predict(test_O_31_x)"
   ]
  },
  {
   "cell_type": "code",
   "execution_count": 28,
   "id": "agreed-newport",
   "metadata": {},
   "outputs": [
    {
     "name": "stdout",
     "output_type": "stream",
     "text": [
      "-0.6442300396904909 \n",
      " -0.6441937649548493 \n",
      " -0.6257823004654807 \n",
      " -0.6255805101477584 \n",
      "\n"
     ]
    }
   ],
   "source": [
    "print(train[train['Y_Class']==0]['Y_Quality'].max(),'\\n',\n",
    "      train[train['Y_Class']==1]['Y_Quality'].min(),'\\n',\n",
    "      train[train['Y_Class']==1]['Y_Quality'].max(),'\\n',\n",
    "      train[train['Y_Class']==2]['Y_Quality'].min(),'\\n')"
   ]
  },
  {
   "cell_type": "code",
   "execution_count": 70,
   "id": "latter-bracket",
   "metadata": {},
   "outputs": [],
   "source": [
    "testA_31['Y_quanlity'] = pred_a\n",
    "test_T_31['Y_quanlity'] = pred_t\n",
    "test_O_31['Y_quanlity'] = pred_o\n",
    "\n",
    "testA_31['Y_Class'] = 1\n",
    "test_T_31['Y_Class'] = 1\n",
    "test_O_31['Y_Class'] = 1\n",
    "\n",
    "testA_31.loc[(testA_31['Y_quanlity']<-0.64421190232267), 'Y_Class'] = 0\n",
    "testA_31.loc[(testA_31['Y_quanlity']>-0.6257823004654807), 'Y_Class'] = 2\n",
    "test_T_31.loc[(test_T_31['Y_quanlity']<-0.64421190232267), 'Y_Class'] = 0\n",
    "test_T_31.loc[(test_T_31['Y_quanlity']>-0.6257823004654807), 'Y_Class'] = 2\n",
    "test_O_31.loc[(test_O_31['Y_quanlity']<-0.64421190232267), 'Y_Class'] = 0\n",
    "test_O_31.loc[(test_O_31['Y_quanlity']>-0.6257823004654807), 'Y_Class'] = 2\n",
    "\n",
    "submita = pd.read_csv('sample_submission.csv')\n",
    "submitt = pd.read_csv('sample_submission.csv')\n",
    "submito = pd.read_csv('sample_submission.csv')\n",
    "\n",
    "submita = pd.merge(submita[['PRODUCT_ID']],testA_31[['PRODUCT_ID','Y_Class']],on='PRODUCT_ID')\n",
    "submitt = pd.merge(submitt[['PRODUCT_ID']],test_T_31[['PRODUCT_ID','Y_Class']],on='PRODUCT_ID')\n",
    "submito = pd.merge(submito[['PRODUCT_ID']],test_O_31[['PRODUCT_ID','Y_Class']],on='PRODUCT_ID')\n",
    "\n",
    "pd.concat([submita,submitt,submito]).sort_values(by='PRODUCT_ID').to_csv('dddd.csv',index=False)"
   ]
  },
  {
   "cell_type": "code",
   "execution_count": 71,
   "id": "nuclear-discharge",
   "metadata": {},
   "outputs": [
    {
     "data": {
      "text/plain": [
       "1    296\n",
       "0     13\n",
       "2      1\n",
       "Name: Y_Class, dtype: int64"
      ]
     },
     "execution_count": 71,
     "metadata": {},
     "output_type": "execute_result"
    }
   ],
   "source": [
    "dddd = pd.read_csv('dddd.csv')\n",
    "dddd['Y_Class'].value_counts()"
   ]
  },
  {
   "cell_type": "code",
   "execution_count": 58,
   "id": "determined-mercury",
   "metadata": {},
   "outputs": [
    {
     "data": {
      "text/html": [
       "<div>\n",
       "<style scoped>\n",
       "    .dataframe tbody tr th:only-of-type {\n",
       "        vertical-align: middle;\n",
       "    }\n",
       "\n",
       "    .dataframe tbody tr th {\n",
       "        vertical-align: top;\n",
       "    }\n",
       "\n",
       "    .dataframe thead th {\n",
       "        text-align: right;\n",
       "    }\n",
       "</style>\n",
       "<table border=\"1\" class=\"dataframe\">\n",
       "  <thead>\n",
       "    <tr style=\"text-align: right;\">\n",
       "      <th></th>\n",
       "      <th>PRODUCT_ID</th>\n",
       "      <th>Y_Class</th>\n",
       "    </tr>\n",
       "  </thead>\n",
       "  <tbody>\n",
       "    <tr>\n",
       "      <th>38</th>\n",
       "      <td>TEST_038</td>\n",
       "      <td>2</td>\n",
       "    </tr>\n",
       "  </tbody>\n",
       "</table>\n",
       "</div>"
      ],
      "text/plain": [
       "   PRODUCT_ID  Y_Class\n",
       "38   TEST_038        2"
      ]
     },
     "execution_count": 58,
     "metadata": {},
     "output_type": "execute_result"
    }
   ],
   "source": [
    "dddd[dddd['Y_Class']==2]"
   ]
  },
  {
   "cell_type": "code",
   "execution_count": null,
   "id": "royal-indication",
   "metadata": {},
   "outputs": [],
   "source": [
    "testA_31['Y_quanlity'] = pred_a\n",
    "test_T_31['Y_quanlity'] = pred_t\n",
    "test_O_31['Y_quanlity'] = pred_o\n",
    "\n",
    "testA_31['Y_Class'] = 1\n",
    "test_T_31['Y_Class'] = 1\n",
    "test_O_31['Y_Class'] = 1\n",
    "\n",
    "testA_31.loc[(testA_31['Y_quanlity']<-1.3373772202504361 ), 'Y_Class'] = 0\n",
    "testA_31.loc[(testA_31['Y_quanlity']> -1.318929481025426 ), 'Y_Class'] = 2\n",
    "test_T_31.loc[(test_T_31['Y_quanlity']<-1.3373772202504361 ), 'Y_Class'] = 0\n",
    "test_T_31.loc[(test_T_31['Y_quanlity']> -1.318929481025426 ), 'Y_Class'] = 2\n",
    "test_O_31.loc[(test_O_31['Y_quanlity']<-1.3373772202504361 ), 'Y_Class'] = 0\n",
    "test_O_31.loc[(test_O_31['Y_quanlity']> -1.318929481025426 ), 'Y_Class'] = 2\n",
    "\n",
    "submita = pd.read_csv('sample_submission.csv')\n",
    "submitt = pd.read_csv('sample_submission.csv')\n",
    "submito = pd.read_csv('sample_submission.csv')\n",
    "\n",
    "submita = pd.merge(submita[['PRODUCT_ID']],testA_31[['PRODUCT_ID','Y_Class']],on='PRODUCT_ID')\n",
    "submitt = pd.merge(submitt[['PRODUCT_ID']],test_T_31[['PRODUCT_ID','Y_Class']],on='PRODUCT_ID')\n",
    "submito = pd.merge(submito[['PRODUCT_ID']],test_O_31[['PRODUCT_ID','Y_Class']],on='PRODUCT_ID')\n",
    "\n",
    "pd.concat([submita,submitt,submito]).sort_values(by='PRODUCT_ID').to_csv('wpqkf.csv',index=False)"
   ]
  },
  {
   "cell_type": "code",
   "execution_count": 4,
   "id": "orange-huntington",
   "metadata": {},
   "outputs": [
    {
     "name": "stdout",
     "output_type": "stream",
     "text": [
      "-1.3373772202504361 \n",
      " -1.3373409455147947 \n",
      " -1.318929481025426 \n",
      " -1.3187276907077037 \n",
      "\n"
     ]
    }
   ],
   "source": [
    "print(train[train['Y_Class']==0]['Y_Quality'].max(),'\\n',\n",
    "      train[train['Y_Class']==1]['Y_Quality'].min(),'\\n',\n",
    "      train[train['Y_Class']==1]['Y_Quality'].max(),'\\n',\n",
    "      train[train['Y_Class']==2]['Y_Quality'].min(),'\\n')"
   ]
  },
  {
   "cell_type": "code",
   "execution_count": 14,
   "id": "favorite-active",
   "metadata": {},
   "outputs": [],
   "source": [
    "testA_31['Y_quanlity'] = pred_a\n",
    "test_T_31['Y_quanlity'] = pred_t\n",
    "test_O_31['Y_quanlity'] = pred_o\n",
    "\n",
    "testA_31['Y_Class'] = 1\n",
    "test_T_31['Y_Class'] = 1\n",
    "test_O_31['Y_Class'] = 1\n",
    "\n",
    "testA_31.loc[(testA_31['Y_quanlity']<-1.3373772202504361 ), 'Y_Class'] = 0\n",
    "testA_31.loc[(testA_31['Y_quanlity']> -1.318929481025426 ), 'Y_Class'] = 2\n",
    "test_T_31.loc[(test_T_31['Y_quanlity']<-1.3373772202504361 ), 'Y_Class'] = 0\n",
    "test_T_31.loc[(test_T_31['Y_quanlity']> -1.318929481025426 ), 'Y_Class'] = 2\n",
    "test_O_31.loc[(test_O_31['Y_quanlity']<-1.3373772202504361 ), 'Y_Class'] = 0\n",
    "test_O_31.loc[(test_O_31['Y_quanlity']> -1.318929481025426 ), 'Y_Class'] = 2\n",
    "\n",
    "submita = pd.read_csv('sample_submission.csv')\n",
    "submitt = pd.read_csv('sample_submission.csv')\n",
    "submito = pd.read_csv('sample_submission.csv')\n",
    "\n",
    "submita = pd.merge(submita[['PRODUCT_ID']],testA_31[['PRODUCT_ID','Y_Class']],on='PRODUCT_ID')\n",
    "submitt = pd.merge(submitt[['PRODUCT_ID']],test_T_31[['PRODUCT_ID','Y_Class']],on='PRODUCT_ID')\n",
    "submito = pd.merge(submito[['PRODUCT_ID']],test_O_31[['PRODUCT_ID','Y_Class']],on='PRODUCT_ID')\n",
    "\n",
    "pd.concat([submita,submitt,submito]).sort_values(by='PRODUCT_ID').to_csv('wpqkf.csv',index=False)"
   ]
  },
  {
   "cell_type": "code",
   "execution_count": 22,
   "id": "patent-strength",
   "metadata": {},
   "outputs": [
    {
     "data": {
      "text/plain": [
       "1    269\n",
       "0     35\n",
       "2      6\n",
       "Name: Y_Class, dtype: int64"
      ]
     },
     "execution_count": 22,
     "metadata": {},
     "output_type": "execute_result"
    }
   ],
   "source": [
    "pd.read_csv('wpqkf.csv')['Y_Class'].value_counts()"
   ]
  },
  {
   "cell_type": "code",
   "execution_count": 23,
   "id": "naughty-template",
   "metadata": {},
   "outputs": [
    {
     "data": {
      "text/html": [
       "<div>\n",
       "<style scoped>\n",
       "    .dataframe tbody tr th:only-of-type {\n",
       "        vertical-align: middle;\n",
       "    }\n",
       "\n",
       "    .dataframe tbody tr th {\n",
       "        vertical-align: top;\n",
       "    }\n",
       "\n",
       "    .dataframe thead th {\n",
       "        text-align: right;\n",
       "    }\n",
       "</style>\n",
       "<table border=\"1\" class=\"dataframe\">\n",
       "  <thead>\n",
       "    <tr style=\"text-align: right;\">\n",
       "      <th></th>\n",
       "      <th>PRODUCT_ID</th>\n",
       "      <th>Y_Class</th>\n",
       "    </tr>\n",
       "  </thead>\n",
       "  <tbody>\n",
       "    <tr>\n",
       "      <th>38</th>\n",
       "      <td>TEST_038</td>\n",
       "      <td>2</td>\n",
       "    </tr>\n",
       "    <tr>\n",
       "      <th>78</th>\n",
       "      <td>TEST_078</td>\n",
       "      <td>2</td>\n",
       "    </tr>\n",
       "    <tr>\n",
       "      <th>109</th>\n",
       "      <td>TEST_109</td>\n",
       "      <td>2</td>\n",
       "    </tr>\n",
       "    <tr>\n",
       "      <th>160</th>\n",
       "      <td>TEST_160</td>\n",
       "      <td>2</td>\n",
       "    </tr>\n",
       "    <tr>\n",
       "      <th>161</th>\n",
       "      <td>TEST_161</td>\n",
       "      <td>2</td>\n",
       "    </tr>\n",
       "    <tr>\n",
       "      <th>163</th>\n",
       "      <td>TEST_163</td>\n",
       "      <td>2</td>\n",
       "    </tr>\n",
       "  </tbody>\n",
       "</table>\n",
       "</div>"
      ],
      "text/plain": [
       "    PRODUCT_ID  Y_Class\n",
       "38    TEST_038        2\n",
       "78    TEST_078        2\n",
       "109   TEST_109        2\n",
       "160   TEST_160        2\n",
       "161   TEST_161        2\n",
       "163   TEST_163        2"
      ]
     },
     "execution_count": 23,
     "metadata": {},
     "output_type": "execute_result"
    }
   ],
   "source": [
    "pd.read_csv('wpqkf.csv')[pd.read_csv('wpqkf.csv')['Y_Class']==2]"
   ]
  },
  {
   "cell_type": "code",
   "execution_count": 101,
   "id": "personal-romance",
   "metadata": {},
   "outputs": [],
   "source": [
    "testA_31['Y_quanlity'] = pred_a\n",
    "test_T_31['Y_quanlity'] = pred_t\n",
    "test_O_31['Y_quanlity'] = pred_o\n",
    "\n",
    "testA_31['Y_quanlity2'] = pred_a2\n",
    "test_T_31['Y_quanlity2'] = pred_t2\n",
    "test_O_31['Y_quanlity2'] = pred_o2\n",
    "\n",
    "testA_31['Y_Class'] = 1\n",
    "test_T_31['Y_Class'] = 1\n",
    "test_O_31['Y_Class'] = 1\n",
    "\n",
    "testA_31.loc[(testA_31['Y_quanlity2']< -3.686216323396579 ), 'Y_Class'] = 0\n",
    "testA_31.loc[(testA_31['Y_quanlity']>-0.6255805101477584 ), 'Y_Class'] = 2\n",
    "test_T_31.loc[(test_T_31['Y_quanlity2']< -3.686216323396579 ), 'Y_Class'] = 0\n",
    "test_T_31.loc[(test_T_31['Y_quanlity']>-0.6255805101477584 ), 'Y_Class'] = 2\n",
    "test_O_31.loc[(test_O_31['Y_quanlity2']< -3.686216323396579 ), 'Y_Class'] = 0\n",
    "test_O_31.loc[(test_O_31['Y_quanlity']>-0.6255805101477584 ), 'Y_Class'] = 2\n",
    "\n",
    "submita = pd.read_csv('sample_submission.csv')\n",
    "submitt = pd.read_csv('sample_submission.csv')\n",
    "submito = pd.read_csv('sample_submission.csv')\n",
    "\n",
    "submita = pd.merge(submita[['PRODUCT_ID']],testA_31[['PRODUCT_ID','Y_Class']],on='PRODUCT_ID')\n",
    "submitt = pd.merge(submitt[['PRODUCT_ID']],test_T_31[['PRODUCT_ID','Y_Class']],on='PRODUCT_ID')\n",
    "submito = pd.merge(submito[['PRODUCT_ID']],test_O_31[['PRODUCT_ID','Y_Class']],on='PRODUCT_ID')\n",
    "\n",
    "pd.concat([submita,submitt,submito]).sort_values(by='PRODUCT_ID').to_csv('scale2.csv',index=False)"
   ]
  },
  {
   "cell_type": "code",
   "execution_count": 59,
   "id": "verified-mercy",
   "metadata": {},
   "outputs": [
    {
     "name": "stdout",
     "output_type": "stream",
     "text": [
      "(249, 1866) (67, 1866) (343, 550) (239, 550)\n"
     ]
    }
   ],
   "source": [
    "train = pd.read_csv('train.csv')\n",
    "test = pd.read_csv('test.csv')\n",
    "\n",
    "# y quality scaling\n",
    "train['Y_Quality'] = train['Y_Quality'].map(lambda x : np.log(x))\n",
    "\n",
    "train, test = del_columns(train,test)\n",
    "\n",
    "trainA_31 = train[train['PRODUCT_CODE']=='A_31']\n",
    "train_T_31 = train[train['PRODUCT_CODE']=='T_31']\n",
    "train_O_31 = train[train['PRODUCT_CODE']=='O_31']\n",
    "\n",
    "testA_31 = test[test['PRODUCT_CODE']=='A_31']\n",
    "test_T_31 = test[test['PRODUCT_CODE']=='T_31']\n",
    "test_O_31 = test[test['PRODUCT_CODE']=='O_31']\n",
    "\n",
    "trainA_31, testA_31 = del_columns(trainA_31,testA_31)\n",
    "train_T_31, test_T_31 = del_columns(train_T_31,test_T_31)\n",
    "train_O_31, test_O_31 = del_columns(train_O_31,test_O_31)\n",
    "\n",
    "trainA_31_x,testA_31_x, trainA_31_y, trainA_31_w = make_train_test_dataset(trainA_31,testA_31)\n",
    "train_T_31_x,test_T_31_x, train_T_31_y, train_T_31_w = make_train_test_dataset(train_T_31,test_T_31)\n",
    "train_O_31_x,test_O_31_x, train_O_31_y, train_O_31_w = make_train_test_dataset(train_O_31,test_O_31)\n",
    "\n",
    "trainA_31_x,testA_31_x = labelencoder(trainA_31_x,testA_31_x,['LINE'])\n",
    "train_T_31_x,test_T_31_x = labelencoder(train_T_31_x,test_T_31_x,['LINE'])\n",
    "train_O_31_x,test_O_31_x = labelencoder(train_O_31_x,test_O_31_x,['LINE'])\n",
    "\n",
    "trainA_31_x,testA_31_x = fillna(trainA_31_x,testA_31_x,-1)\n",
    "train_T_31_x,test_T_31_x = fillna(train_T_31_x,test_T_31_x,-1)\n",
    "train_O_31_x,test_O_31_x = fillna(train_O_31_x,test_O_31_x,-1)\n",
    "\n",
    "print(trainA_31_x.shape,testA_31_x.shape,train_T_31_x.shape,test_T_31_x.shape)"
   ]
  },
  {
   "cell_type": "code",
   "execution_count": 58,
   "id": "looking-provision",
   "metadata": {},
   "outputs": [],
   "source": [
    "testA_31['Y_quanlity'] = pred_a\n",
    "test_T_31['Y_quanlity'] = pred_t\n",
    "test_O_31['Y_quanlity'] = pred_o\n",
    "\n",
    "testA_31['Y_Class'] = 1\n",
    "test_T_31['Y_Class'] = 1\n",
    "test_O_31['Y_Class'] = 1\n",
    "\n",
    "testA_31.loc[(testA_31['Y_quanlity']< -3.686216323396579    ), 'Y_Class'] = 0\n",
    "test_T_31.loc[(test_T_31['Y_quanlity']<  -3.686216323396579  ), 'Y_Class'] = 0\n",
    "test_O_31.loc[(test_O_31['Y_quanlity']<  -3.686216323396579  ), 'Y_Class'] = 0"
   ]
  },
  {
   "cell_type": "code",
   "execution_count": 71,
   "id": "adverse-shock",
   "metadata": {},
   "outputs": [],
   "source": [
    "submita = pd.read_csv('s05.csv')\n",
    "submitt = pd.read_csv('s05.csv')\n",
    "submito = pd.read_csv('s05.csv')"
   ]
  },
  {
   "cell_type": "code",
   "execution_count": 72,
   "id": "comparable-search",
   "metadata": {},
   "outputs": [],
   "source": [
    "testA_31['Y_quanlity'] = pred_a\n",
    "test_T_31['Y_quanlity'] = pred_t\n",
    "test_O_31['Y_quanlity'] = pred_o"
   ]
  },
  {
   "cell_type": "code",
   "execution_count": null,
   "id": "challenging-consumption",
   "metadata": {},
   "outputs": [],
   "source": [
    "testA_31['Y_Class'] = 1\n",
    "test_T_31['Y_Class'] = 1\n",
    "test_O_31['Y_Class'] = 1\n",
    "\n",
    "testA_31.loc[(testA_31['Y_quanlity']< -3.686216323396579    ), 'Y_Class'] = 0\n",
    "test_T_31.loc[(test_T_31['Y_quanlity']<  -3.686216323396579  ), 'Y_Class'] = 0\n",
    "test_O_31.loc[(test_O_31['Y_quanlity']<  -3.686216323396579  ), 'Y_Class'] = 0"
   ]
  },
  {
   "cell_type": "code",
   "execution_count": 65,
   "id": "peaceful-rouge",
   "metadata": {
    "collapsed": true
   },
   "outputs": [
    {
     "ename": "KeyError",
     "evalue": "'Y_quanlity'",
     "output_type": "error",
     "traceback": [
      "\u001b[1;31m---------------------------------------------------------------------------\u001b[0m",
      "\u001b[1;31mKeyError\u001b[0m                                  Traceback (most recent call last)",
      "\u001b[1;32m~\\.spss\\lib\\site-packages\\pandas\\core\\indexes\\base.py\u001b[0m in \u001b[0;36mget_loc\u001b[1;34m(self, key, method, tolerance)\u001b[0m\n\u001b[0;32m   3079\u001b[0m             \u001b[1;32mtry\u001b[0m\u001b[1;33m:\u001b[0m\u001b[1;33m\u001b[0m\u001b[1;33m\u001b[0m\u001b[0m\n\u001b[1;32m-> 3080\u001b[1;33m                 \u001b[1;32mreturn\u001b[0m \u001b[0mself\u001b[0m\u001b[1;33m.\u001b[0m\u001b[0m_engine\u001b[0m\u001b[1;33m.\u001b[0m\u001b[0mget_loc\u001b[0m\u001b[1;33m(\u001b[0m\u001b[0mcasted_key\u001b[0m\u001b[1;33m)\u001b[0m\u001b[1;33m\u001b[0m\u001b[1;33m\u001b[0m\u001b[0m\n\u001b[0m\u001b[0;32m   3081\u001b[0m             \u001b[1;32mexcept\u001b[0m \u001b[0mKeyError\u001b[0m \u001b[1;32mas\u001b[0m \u001b[0merr\u001b[0m\u001b[1;33m:\u001b[0m\u001b[1;33m\u001b[0m\u001b[1;33m\u001b[0m\u001b[0m\n",
      "\u001b[1;32mpandas\\_libs\\index.pyx\u001b[0m in \u001b[0;36mpandas._libs.index.IndexEngine.get_loc\u001b[1;34m()\u001b[0m\n",
      "\u001b[1;32mpandas\\_libs\\index.pyx\u001b[0m in \u001b[0;36mpandas._libs.index.IndexEngine.get_loc\u001b[1;34m()\u001b[0m\n",
      "\u001b[1;32mpandas\\_libs\\hashtable_class_helper.pxi\u001b[0m in \u001b[0;36mpandas._libs.hashtable.PyObjectHashTable.get_item\u001b[1;34m()\u001b[0m\n",
      "\u001b[1;32mpandas\\_libs\\hashtable_class_helper.pxi\u001b[0m in \u001b[0;36mpandas._libs.hashtable.PyObjectHashTable.get_item\u001b[1;34m()\u001b[0m\n",
      "\u001b[1;31mKeyError\u001b[0m: 'Y_quanlity'",
      "\nThe above exception was the direct cause of the following exception:\n",
      "\u001b[1;31mKeyError\u001b[0m                                  Traceback (most recent call last)",
      "\u001b[1;32m<ipython-input-65-7d417e4270c9>\u001b[0m in \u001b[0;36m<module>\u001b[1;34m\u001b[0m\n\u001b[1;32m----> 1\u001b[1;33m \u001b[0mtestA_31\u001b[0m\u001b[1;33m.\u001b[0m\u001b[0mloc\u001b[0m\u001b[1;33m[\u001b[0m\u001b[1;33m(\u001b[0m\u001b[0mtestA_31\u001b[0m\u001b[1;33m[\u001b[0m\u001b[1;34m'Y_quanlity'\u001b[0m\u001b[1;33m]\u001b[0m\u001b[1;33m>\u001b[0m \u001b[1;33m-\u001b[0m\u001b[1;36m0.6257823004654807\u001b[0m  \u001b[1;33m)\u001b[0m\u001b[1;33m,\u001b[0m \u001b[1;34m'Y_Class'\u001b[0m\u001b[1;33m]\u001b[0m \u001b[1;33m=\u001b[0m \u001b[1;36m2\u001b[0m\u001b[1;33m\u001b[0m\u001b[1;33m\u001b[0m\u001b[0m\n\u001b[0m\u001b[0;32m      2\u001b[0m \u001b[0mtest_T_31\u001b[0m\u001b[1;33m.\u001b[0m\u001b[0mloc\u001b[0m\u001b[1;33m[\u001b[0m\u001b[1;33m(\u001b[0m\u001b[0mtest_T_31\u001b[0m\u001b[1;33m[\u001b[0m\u001b[1;34m'Y_quanlity'\u001b[0m\u001b[1;33m]\u001b[0m\u001b[1;33m>\u001b[0m \u001b[1;33m-\u001b[0m\u001b[1;36m0.6257823004654807\u001b[0m  \u001b[1;33m)\u001b[0m\u001b[1;33m,\u001b[0m \u001b[1;34m'Y_Class'\u001b[0m\u001b[1;33m]\u001b[0m \u001b[1;33m=\u001b[0m \u001b[1;36m2\u001b[0m\u001b[1;33m\u001b[0m\u001b[1;33m\u001b[0m\u001b[0m\n\u001b[0;32m      3\u001b[0m \u001b[0mtest_O_31\u001b[0m\u001b[1;33m.\u001b[0m\u001b[0mloc\u001b[0m\u001b[1;33m[\u001b[0m\u001b[1;33m(\u001b[0m\u001b[0mtest_O_31\u001b[0m\u001b[1;33m[\u001b[0m\u001b[1;34m'Y_quanlity'\u001b[0m\u001b[1;33m]\u001b[0m\u001b[1;33m>\u001b[0m \u001b[1;33m-\u001b[0m\u001b[1;36m0.6257823004654807\u001b[0m  \u001b[1;33m)\u001b[0m\u001b[1;33m,\u001b[0m \u001b[1;34m'Y_Class'\u001b[0m\u001b[1;33m]\u001b[0m \u001b[1;33m=\u001b[0m \u001b[1;36m2\u001b[0m\u001b[1;33m\u001b[0m\u001b[1;33m\u001b[0m\u001b[0m\n\u001b[0;32m      4\u001b[0m \u001b[1;33m\u001b[0m\u001b[0m\n\u001b[0;32m      5\u001b[0m \u001b[0msubmita\u001b[0m \u001b[1;33m=\u001b[0m \u001b[0mpd\u001b[0m\u001b[1;33m.\u001b[0m\u001b[0mread_csv\u001b[0m\u001b[1;33m(\u001b[0m\u001b[1;34m'sample_submission.csv'\u001b[0m\u001b[1;33m)\u001b[0m\u001b[1;33m\u001b[0m\u001b[1;33m\u001b[0m\u001b[0m\n",
      "\u001b[1;32m~\\.spss\\lib\\site-packages\\pandas\\core\\frame.py\u001b[0m in \u001b[0;36m__getitem__\u001b[1;34m(self, key)\u001b[0m\n\u001b[0;32m   3022\u001b[0m             \u001b[1;32mif\u001b[0m \u001b[0mself\u001b[0m\u001b[1;33m.\u001b[0m\u001b[0mcolumns\u001b[0m\u001b[1;33m.\u001b[0m\u001b[0mnlevels\u001b[0m \u001b[1;33m>\u001b[0m \u001b[1;36m1\u001b[0m\u001b[1;33m:\u001b[0m\u001b[1;33m\u001b[0m\u001b[1;33m\u001b[0m\u001b[0m\n\u001b[0;32m   3023\u001b[0m                 \u001b[1;32mreturn\u001b[0m \u001b[0mself\u001b[0m\u001b[1;33m.\u001b[0m\u001b[0m_getitem_multilevel\u001b[0m\u001b[1;33m(\u001b[0m\u001b[0mkey\u001b[0m\u001b[1;33m)\u001b[0m\u001b[1;33m\u001b[0m\u001b[1;33m\u001b[0m\u001b[0m\n\u001b[1;32m-> 3024\u001b[1;33m             \u001b[0mindexer\u001b[0m \u001b[1;33m=\u001b[0m \u001b[0mself\u001b[0m\u001b[1;33m.\u001b[0m\u001b[0mcolumns\u001b[0m\u001b[1;33m.\u001b[0m\u001b[0mget_loc\u001b[0m\u001b[1;33m(\u001b[0m\u001b[0mkey\u001b[0m\u001b[1;33m)\u001b[0m\u001b[1;33m\u001b[0m\u001b[1;33m\u001b[0m\u001b[0m\n\u001b[0m\u001b[0;32m   3025\u001b[0m             \u001b[1;32mif\u001b[0m \u001b[0mis_integer\u001b[0m\u001b[1;33m(\u001b[0m\u001b[0mindexer\u001b[0m\u001b[1;33m)\u001b[0m\u001b[1;33m:\u001b[0m\u001b[1;33m\u001b[0m\u001b[1;33m\u001b[0m\u001b[0m\n\u001b[0;32m   3026\u001b[0m                 \u001b[0mindexer\u001b[0m \u001b[1;33m=\u001b[0m \u001b[1;33m[\u001b[0m\u001b[0mindexer\u001b[0m\u001b[1;33m]\u001b[0m\u001b[1;33m\u001b[0m\u001b[1;33m\u001b[0m\u001b[0m\n",
      "\u001b[1;32m~\\.spss\\lib\\site-packages\\pandas\\core\\indexes\\base.py\u001b[0m in \u001b[0;36mget_loc\u001b[1;34m(self, key, method, tolerance)\u001b[0m\n\u001b[0;32m   3080\u001b[0m                 \u001b[1;32mreturn\u001b[0m \u001b[0mself\u001b[0m\u001b[1;33m.\u001b[0m\u001b[0m_engine\u001b[0m\u001b[1;33m.\u001b[0m\u001b[0mget_loc\u001b[0m\u001b[1;33m(\u001b[0m\u001b[0mcasted_key\u001b[0m\u001b[1;33m)\u001b[0m\u001b[1;33m\u001b[0m\u001b[1;33m\u001b[0m\u001b[0m\n\u001b[0;32m   3081\u001b[0m             \u001b[1;32mexcept\u001b[0m \u001b[0mKeyError\u001b[0m \u001b[1;32mas\u001b[0m \u001b[0merr\u001b[0m\u001b[1;33m:\u001b[0m\u001b[1;33m\u001b[0m\u001b[1;33m\u001b[0m\u001b[0m\n\u001b[1;32m-> 3082\u001b[1;33m                 \u001b[1;32mraise\u001b[0m \u001b[0mKeyError\u001b[0m\u001b[1;33m(\u001b[0m\u001b[0mkey\u001b[0m\u001b[1;33m)\u001b[0m \u001b[1;32mfrom\u001b[0m \u001b[0merr\u001b[0m\u001b[1;33m\u001b[0m\u001b[1;33m\u001b[0m\u001b[0m\n\u001b[0m\u001b[0;32m   3083\u001b[0m \u001b[1;33m\u001b[0m\u001b[0m\n\u001b[0;32m   3084\u001b[0m         \u001b[1;32mif\u001b[0m \u001b[0mtolerance\u001b[0m \u001b[1;32mis\u001b[0m \u001b[1;32mnot\u001b[0m \u001b[1;32mNone\u001b[0m\u001b[1;33m:\u001b[0m\u001b[1;33m\u001b[0m\u001b[1;33m\u001b[0m\u001b[0m\n",
      "\u001b[1;31mKeyError\u001b[0m: 'Y_quanlity'"
     ]
    }
   ],
   "source": [
    "testA_31.loc[(testA_31['Y_quanlity']> -0.6257823004654807  ), 'Y_Class'] = 2\n",
    "test_T_31.loc[(test_T_31['Y_quanlity']> -0.6257823004654807  ), 'Y_Class'] = 2\n",
    "test_O_31.loc[(test_O_31['Y_quanlity']> -0.6257823004654807  ), 'Y_Class'] = 2\n",
    "\n",
    "submita = pd.read_csv('s05.csv')\n",
    "submitt = pd.read_csv('s05.csv')\n",
    "submito = pd.read_csv('s05.csv')\n",
    "\n",
    "submita = pd.merge(submita[['PRODUCT_ID']],testA_31[['PRODUCT_ID','Y_Class']],on='PRODUCT_ID')\n",
    "submitt = pd.merge(submitt[['PRODUCT_ID']],test_T_31[['PRODUCT_ID','Y_Class']],on='PRODUCT_ID')\n",
    "submito = pd.merge(submito[['PRODUCT_ID']],test_O_31[['PRODUCT_ID','Y_Class']],on='PRODUCT_ID')\n",
    "\n",
    "pd.concat([submita,submitt,submito]).sort_values(by='PRODUCT_ID').to_csv('scale3.csv',index=False)"
   ]
  },
  {
   "cell_type": "code",
   "execution_count": 47,
   "id": "demonstrated-davis",
   "metadata": {},
   "outputs": [],
   "source": [
    "testA_31['Y_quanlity'] = pred_a\n",
    "test_T_31['Y_quanlity'] = pred_t\n",
    "test_O_31['Y_quanlity'] = pred_o\n",
    "\n",
    "testA_31['Y_Class'] = 1\n",
    "test_T_31['Y_Class'] = 1\n",
    "test_O_31['Y_Class'] = 1\n",
    "\n",
    "testA_31.loc[(testA_31['Y_quanlity']< -2.0787560646728904    ), 'Y_Class'] = 0\n",
    "testA_31.loc[(testA_31['Y_quanlity']> -2.003645200765986  ), 'Y_Class'] = 2\n",
    "test_T_31.loc[(test_T_31['Y_quanlity']<  -2.0787560646728904  ), 'Y_Class'] = 0\n",
    "test_T_31.loc[(test_T_31['Y_quanlity']> -2.003645200765986  ), 'Y_Class'] = 2\n",
    "test_O_31.loc[(test_O_31['Y_quanlity']<  -2.0787560646728904  ), 'Y_Class'] = 0\n",
    "test_O_31.loc[(test_O_31['Y_quanlity']> -2.003645200765986  ), 'Y_Class'] = 2\n",
    "\n",
    "submita = pd.read_csv('sample_submission.csv')\n",
    "submitt = pd.read_csv('sample_submission.csv')\n",
    "submito = pd.read_csv('sample_submission.csv')\n",
    "\n",
    "submita = pd.merge(submita[['PRODUCT_ID']],testA_31[['PRODUCT_ID','Y_Class']],on='PRODUCT_ID')\n",
    "submitt = pd.merge(submitt[['PRODUCT_ID']],test_T_31[['PRODUCT_ID','Y_Class']],on='PRODUCT_ID')\n",
    "submito = pd.merge(submito[['PRODUCT_ID']],test_O_31[['PRODUCT_ID','Y_Class']],on='PRODUCT_ID')\n",
    "\n",
    "pd.concat([submita,submitt,submito]).sort_values(by='PRODUCT_ID').to_csv('scale3.csv',index=False)"
   ]
  },
  {
   "cell_type": "code",
   "execution_count": null,
   "id": "noted-antenna",
   "metadata": {},
   "outputs": [],
   "source": [
    "train = pd.read_csv('train.csv')\n",
    "test = pd.read_csv('test.csv')\n",
    "\n",
    "# y quality scaling\n",
    "train['Y_Quality'] = train['Y_Quality'].map(lambda x : np.log(x))\n",
    "\n",
    "train, test = del_columns(train,test)\n",
    "\n",
    "trainA_31 = train[train['PRODUCT_CODE']=='A_31']\n",
    "train_T_31 = train[train['PRODUCT_CODE']=='T_31']\n",
    "train_O_31 = train[train['PRODUCT_CODE']=='O_31']\n",
    "\n",
    "testA_31 = test[test['PRODUCT_CODE']=='A_31']\n",
    "test_T_31 = test[test['PRODUCT_CODE']=='T_31']\n",
    "test_O_31 = test[test['PRODUCT_CODE']=='O_31']\n",
    "\n",
    "trainA_31, testA_31 = del_columns(trainA_31,testA_31)\n",
    "train_T_31, test_T_31 = del_columns(train_T_31,test_T_31)\n",
    "train_O_31, test_O_31 = del_columns(train_O_31,test_O_31)\n",
    "\n",
    "trainA_31_x,testA_31_x, trainA_31_y, trainA_31_w = make_train_test_dataset(trainA_31,testA_31)\n",
    "train_T_31_x,test_T_31_x, train_T_31_y, train_T_31_w = make_train_test_dataset(train_T_31,test_T_31)\n",
    "train_O_31_x,test_O_31_x, train_O_31_y, train_O_31_w = make_train_test_dataset(train_O_31,test_O_31)\n",
    "\n",
    "trainA_31_x,testA_31_x = labelencoder(trainA_31_x,testA_31_x,['LINE'])\n",
    "train_T_31_x,test_T_31_x = labelencoder(train_T_31_x,test_T_31_x,['LINE'])\n",
    "train_O_31_x,test_O_31_x = labelencoder(train_O_31_x,test_O_31_x,['LINE'])\n",
    "\n",
    "trainA_31_x,testA_31_x = fillna(trainA_31_x,testA_31_x,-1)\n",
    "train_T_31_x,test_T_31_x = fillna(train_T_31_x,test_T_31_x,-1)\n",
    "train_O_31_x,test_O_31_x = fillna(train_O_31_x,test_O_31_x,-1)\n",
    "\n",
    "print(trainA_31_x.shape,testA_31_x.shape,train_T_31_x.shape,test_T_31_x.shape)"
   ]
  },
  {
   "cell_type": "code",
   "execution_count": 13,
   "id": "dated-disney",
   "metadata": {},
   "outputs": [],
   "source": [
    "testA_31['Y_quanlity'] = pred_a\n",
    "test_T_31['Y_quanlity'] = pred_t\n",
    "test_O_31['Y_quanlity'] = pred_o\n",
    "\n",
    "testA_31['Y_Class'] = 1\n",
    "test_T_31['Y_Class'] = 1\n",
    "test_O_31['Y_Class'] = 1\n",
    "\n",
    "testA_31.loc[(testA_31['Y_quanlity']<-0.64421190232267), 'Y_Class'] = 0\n",
    "testA_31.loc[(testA_31['Y_quanlity']>-0.6257823004654807), 'Y_Class'] = 2\n",
    "test_T_31.loc[(test_T_31['Y_quanlity']<-0.64421190232267), 'Y_Class'] = 0\n",
    "test_T_31.loc[(test_T_31['Y_quanlity']>-0.6257823004654807), 'Y_Class'] = 2\n",
    "test_O_31.loc[(test_O_31['Y_quanlity']<-0.64421190232267), 'Y_Class'] = 0\n",
    "test_O_31.loc[(test_O_31['Y_quanlity']>-0.6257823004654807), 'Y_Class'] = 2\n",
    "\n",
    "submita = pd.read_csv('sample_submission.csv')\n",
    "submitt = pd.read_csv('sample_submission.csv')\n",
    "submito = pd.read_csv('sample_submission.csv')\n",
    "\n",
    "submita = pd.merge(submita[['PRODUCT_ID']],testA_31[['PRODUCT_ID','Y_Class']],on='PRODUCT_ID')\n",
    "submitt = pd.merge(submitt[['PRODUCT_ID']],test_T_31[['PRODUCT_ID','Y_Class']],on='PRODUCT_ID')\n",
    "submito = pd.merge(submito[['PRODUCT_ID']],test_O_31[['PRODUCT_ID','Y_Class']],on='PRODUCT_ID')\n",
    "\n",
    "pd.concat([submita,submitt,submito]).sort_values(by='PRODUCT_ID').to_csv('scale2.csv',index=False)"
   ]
  },
  {
   "cell_type": "code",
   "execution_count": 102,
   "id": "increased-quebec",
   "metadata": {},
   "outputs": [],
   "source": [
    "df3 = pd.read_csv('scale2.csv')"
   ]
  },
  {
   "cell_type": "code",
   "execution_count": 99,
   "id": "printable-enzyme",
   "metadata": {},
   "outputs": [],
   "source": [
    "df = pd.read_csv('s05.csv')"
   ]
  },
  {
   "cell_type": "code",
   "execution_count": 105,
   "id": "smart-finding",
   "metadata": {},
   "outputs": [
    {
     "data": {
      "text/plain": [
       "1    241\n",
       "0     61\n",
       "2      8\n",
       "Name: Y_Class, dtype: int64"
      ]
     },
     "execution_count": 105,
     "metadata": {},
     "output_type": "execute_result"
    }
   ],
   "source": [
    "df3['Y_Class'].value_counts()#/len(df3)"
   ]
  },
  {
   "cell_type": "code",
   "execution_count": 100,
   "id": "understanding-anthropology",
   "metadata": {},
   "outputs": [
    {
     "data": {
      "text/plain": [
       "1    246\n",
       "0     61\n",
       "2      3\n",
       "Name: Y_Class, dtype: int64"
      ]
     },
     "execution_count": 100,
     "metadata": {},
     "output_type": "execute_result"
    }
   ],
   "source": [
    "df['Y_Class'].value_counts()"
   ]
  },
  {
   "cell_type": "code",
   "execution_count": 31,
   "id": "innocent-dodge",
   "metadata": {},
   "outputs": [
    {
     "data": {
      "text/html": [
       "<div>\n",
       "<style scoped>\n",
       "    .dataframe tbody tr th:only-of-type {\n",
       "        vertical-align: middle;\n",
       "    }\n",
       "\n",
       "    .dataframe tbody tr th {\n",
       "        vertical-align: top;\n",
       "    }\n",
       "\n",
       "    .dataframe thead th {\n",
       "        text-align: right;\n",
       "    }\n",
       "</style>\n",
       "<table border=\"1\" class=\"dataframe\">\n",
       "  <thead>\n",
       "    <tr style=\"text-align: right;\">\n",
       "      <th></th>\n",
       "      <th>PRODUCT_ID</th>\n",
       "      <th>Y_Class</th>\n",
       "    </tr>\n",
       "  </thead>\n",
       "  <tbody>\n",
       "    <tr>\n",
       "      <th>38</th>\n",
       "      <td>TEST_038</td>\n",
       "      <td>2</td>\n",
       "    </tr>\n",
       "    <tr>\n",
       "      <th>40</th>\n",
       "      <td>TEST_040</td>\n",
       "      <td>2</td>\n",
       "    </tr>\n",
       "    <tr>\n",
       "      <th>72</th>\n",
       "      <td>TEST_072</td>\n",
       "      <td>2</td>\n",
       "    </tr>\n",
       "    <tr>\n",
       "      <th>78</th>\n",
       "      <td>TEST_078</td>\n",
       "      <td>2</td>\n",
       "    </tr>\n",
       "    <tr>\n",
       "      <th>161</th>\n",
       "      <td>TEST_161</td>\n",
       "      <td>2</td>\n",
       "    </tr>\n",
       "    <tr>\n",
       "      <th>163</th>\n",
       "      <td>TEST_163</td>\n",
       "      <td>2</td>\n",
       "    </tr>\n",
       "    <tr>\n",
       "      <th>260</th>\n",
       "      <td>TEST_260</td>\n",
       "      <td>2</td>\n",
       "    </tr>\n",
       "  </tbody>\n",
       "</table>\n",
       "</div>"
      ],
      "text/plain": [
       "    PRODUCT_ID  Y_Class\n",
       "38    TEST_038        2\n",
       "40    TEST_040        2\n",
       "72    TEST_072        2\n",
       "78    TEST_078        2\n",
       "161   TEST_161        2\n",
       "163   TEST_163        2\n",
       "260   TEST_260        2"
      ]
     },
     "execution_count": 31,
     "metadata": {},
     "output_type": "execute_result"
    }
   ],
   "source": [
    "df[df['Y_Class']==2]"
   ]
  },
  {
   "cell_type": "code",
   "execution_count": 14,
   "id": "generic-hampshire",
   "metadata": {},
   "outputs": [],
   "source": [
    "df2= pd.read_csv('scale2.csv')"
   ]
  },
  {
   "cell_type": "code",
   "execution_count": 15,
   "id": "heard-david",
   "metadata": {},
   "outputs": [
    {
     "data": {
      "text/html": [
       "<div>\n",
       "<style scoped>\n",
       "    .dataframe tbody tr th:only-of-type {\n",
       "        vertical-align: middle;\n",
       "    }\n",
       "\n",
       "    .dataframe tbody tr th {\n",
       "        vertical-align: top;\n",
       "    }\n",
       "\n",
       "    .dataframe thead th {\n",
       "        text-align: right;\n",
       "    }\n",
       "</style>\n",
       "<table border=\"1\" class=\"dataframe\">\n",
       "  <thead>\n",
       "    <tr style=\"text-align: right;\">\n",
       "      <th></th>\n",
       "      <th>PRODUCT_ID</th>\n",
       "      <th>Y_Class</th>\n",
       "    </tr>\n",
       "  </thead>\n",
       "  <tbody>\n",
       "    <tr>\n",
       "      <th>38</th>\n",
       "      <td>TEST_038</td>\n",
       "      <td>2</td>\n",
       "    </tr>\n",
       "    <tr>\n",
       "      <th>78</th>\n",
       "      <td>TEST_078</td>\n",
       "      <td>2</td>\n",
       "    </tr>\n",
       "    <tr>\n",
       "      <th>134</th>\n",
       "      <td>TEST_134</td>\n",
       "      <td>2</td>\n",
       "    </tr>\n",
       "    <tr>\n",
       "      <th>160</th>\n",
       "      <td>TEST_160</td>\n",
       "      <td>2</td>\n",
       "    </tr>\n",
       "    <tr>\n",
       "      <th>161</th>\n",
       "      <td>TEST_161</td>\n",
       "      <td>2</td>\n",
       "    </tr>\n",
       "    <tr>\n",
       "      <th>163</th>\n",
       "      <td>TEST_163</td>\n",
       "      <td>2</td>\n",
       "    </tr>\n",
       "    <tr>\n",
       "      <th>169</th>\n",
       "      <td>TEST_169</td>\n",
       "      <td>2</td>\n",
       "    </tr>\n",
       "    <tr>\n",
       "      <th>177</th>\n",
       "      <td>TEST_177</td>\n",
       "      <td>2</td>\n",
       "    </tr>\n",
       "    <tr>\n",
       "      <th>183</th>\n",
       "      <td>TEST_183</td>\n",
       "      <td>2</td>\n",
       "    </tr>\n",
       "    <tr>\n",
       "      <th>187</th>\n",
       "      <td>TEST_187</td>\n",
       "      <td>2</td>\n",
       "    </tr>\n",
       "  </tbody>\n",
       "</table>\n",
       "</div>"
      ],
      "text/plain": [
       "    PRODUCT_ID  Y_Class\n",
       "38    TEST_038        2\n",
       "78    TEST_078        2\n",
       "134   TEST_134        2\n",
       "160   TEST_160        2\n",
       "161   TEST_161        2\n",
       "163   TEST_163        2\n",
       "169   TEST_169        2\n",
       "177   TEST_177        2\n",
       "183   TEST_183        2\n",
       "187   TEST_187        2"
      ]
     },
     "execution_count": 15,
     "metadata": {},
     "output_type": "execute_result"
    }
   ],
   "source": [
    "df2[df2['Y_Class']==2]"
   ]
  },
  {
   "cell_type": "code",
   "execution_count": 98,
   "id": "broadband-chrome",
   "metadata": {},
   "outputs": [
    {
     "data": {
      "text/html": [
       "<div>\n",
       "<style scoped>\n",
       "    .dataframe tbody tr th:only-of-type {\n",
       "        vertical-align: middle;\n",
       "    }\n",
       "\n",
       "    .dataframe tbody tr th {\n",
       "        vertical-align: top;\n",
       "    }\n",
       "\n",
       "    .dataframe thead th {\n",
       "        text-align: right;\n",
       "    }\n",
       "</style>\n",
       "<table border=\"1\" class=\"dataframe\">\n",
       "  <thead>\n",
       "    <tr style=\"text-align: right;\">\n",
       "      <th></th>\n",
       "      <th>PRODUCT_ID</th>\n",
       "      <th>Y_Class</th>\n",
       "    </tr>\n",
       "  </thead>\n",
       "  <tbody>\n",
       "    <tr>\n",
       "      <th>38</th>\n",
       "      <td>TEST_038</td>\n",
       "      <td>2</td>\n",
       "    </tr>\n",
       "    <tr>\n",
       "      <th>78</th>\n",
       "      <td>TEST_078</td>\n",
       "      <td>2</td>\n",
       "    </tr>\n",
       "    <tr>\n",
       "      <th>134</th>\n",
       "      <td>TEST_134</td>\n",
       "      <td>2</td>\n",
       "    </tr>\n",
       "    <tr>\n",
       "      <th>160</th>\n",
       "      <td>TEST_160</td>\n",
       "      <td>2</td>\n",
       "    </tr>\n",
       "    <tr>\n",
       "      <th>161</th>\n",
       "      <td>TEST_161</td>\n",
       "      <td>2</td>\n",
       "    </tr>\n",
       "    <tr>\n",
       "      <th>163</th>\n",
       "      <td>TEST_163</td>\n",
       "      <td>2</td>\n",
       "    </tr>\n",
       "    <tr>\n",
       "      <th>169</th>\n",
       "      <td>TEST_169</td>\n",
       "      <td>2</td>\n",
       "    </tr>\n",
       "    <tr>\n",
       "      <th>177</th>\n",
       "      <td>TEST_177</td>\n",
       "      <td>2</td>\n",
       "    </tr>\n",
       "    <tr>\n",
       "      <th>183</th>\n",
       "      <td>TEST_183</td>\n",
       "      <td>2</td>\n",
       "    </tr>\n",
       "    <tr>\n",
       "      <th>187</th>\n",
       "      <td>TEST_187</td>\n",
       "      <td>2</td>\n",
       "    </tr>\n",
       "  </tbody>\n",
       "</table>\n",
       "</div>"
      ],
      "text/plain": [
       "    PRODUCT_ID  Y_Class\n",
       "38    TEST_038        2\n",
       "78    TEST_078        2\n",
       "134   TEST_134        2\n",
       "160   TEST_160        2\n",
       "161   TEST_161        2\n",
       "163   TEST_163        2\n",
       "169   TEST_169        2\n",
       "177   TEST_177        2\n",
       "183   TEST_183        2\n",
       "187   TEST_187        2"
      ]
     },
     "execution_count": 98,
     "metadata": {},
     "output_type": "execute_result"
    }
   ],
   "source": [
    "df3[df3['Y_Class']==2]"
   ]
  }
 ],
 "metadata": {
  "kernelspec": {
   "display_name": "Python 3",
   "language": "python",
   "name": "python3"
  }
 },
 "nbformat": 4,
 "nbformat_minor": 5
}
