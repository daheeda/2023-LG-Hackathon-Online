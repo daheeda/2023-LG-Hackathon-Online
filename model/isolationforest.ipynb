{
 "cells": [
  {
   "cell_type": "code",
   "execution_count": 4,
   "id": "15c4ed60",
   "metadata": {},
   "outputs": [],
   "source": [
    "import pandas as pd\n",
    "import numpy as np\n",
    "import warnings\n",
    "warnings.filterwarnings(action='ignore')\n",
    "import shap\n",
    "from catboost import *\n",
    "from sklearn.ensemble import IsolationForest"
   ]
  },
  {
   "cell_type": "code",
   "execution_count": 5,
   "id": "a74f8ee3",
   "metadata": {},
   "outputs": [],
   "source": [
    "tdf = pd.read_csv('train_t.csv')\n",
    "t_test = pd.read_csv('test_t.csv')\n",
    "adf = pd.read_csv('train_a.csv')\n",
    "a_test = pd.read_csv('test_a.csv')\n",
    "odf = pd.read_csv('train_o.csv')\n",
    "o_test = pd.read_csv('test_o.csv') "
   ]
  },
  {
   "cell_type": "code",
   "execution_count": null,
   "id": "b6055881",
   "metadata": {},
   "outputs": [],
   "source": [
    "# train dataset"
   ]
  },
  {
   "cell_type": "code",
   "execution_count": 23,
   "id": "4f2721db",
   "metadata": {},
   "outputs": [],
   "source": [
    "train = pd.read_csv('train.csv')"
   ]
  },
  {
   "cell_type": "code",
   "execution_count": 24,
   "id": "bb923bd7",
   "metadata": {},
   "outputs": [],
   "source": [
    "y = train[['Y_Class']]"
   ]
  },
  {
   "cell_type": "code",
   "execution_count": 25,
   "id": "999d7a66",
   "metadata": {},
   "outputs": [],
   "source": [
    "train = train.drop(['PRODUCT_ID','TIMESTAMP','LINE','PRODUCT_CODE','Y_Quality','Y_Class'],axis =1)"
   ]
  },
  {
   "cell_type": "code",
   "execution_count": 26,
   "id": "73d09ee5",
   "metadata": {},
   "outputs": [],
   "source": [
    "train = train.fillna(-1)"
   ]
  },
  {
   "cell_type": "code",
   "execution_count": 6,
   "id": "5b5e715c",
   "metadata": {},
   "outputs": [],
   "source": [
    "'''x_train = tdf.drop(['Y_Quality'],axis = 1)\n",
    "y_train = tdf['Y_Quality']'''"
   ]
  },
  {
   "cell_type": "code",
   "execution_count": 74,
   "id": "51912d0d",
   "metadata": {
    "scrolled": true
   },
   "outputs": [
    {
     "data": {
      "text/plain": [
       "{'bootstrap': False,\n",
       " 'contamination': 0.01,\n",
       " 'max_features': 1.0,\n",
       " 'max_samples': 1000,\n",
       " 'n_estimators': 100,\n",
       " 'n_jobs': None,\n",
       " 'random_state': 1142,\n",
       " 'verbose': 0,\n",
       " 'warm_start': False}"
      ]
     },
     "execution_count": 74,
     "metadata": {},
     "output_type": "execute_result"
    }
   ],
   "source": [
    "clf.get_params()"
   ]
  },
  {
   "cell_type": "code",
   "execution_count": 98,
   "id": "994f2a80",
   "metadata": {},
   "outputs": [
    {
     "data": {
      "text/html": [
       "<style>#sk-container-id-13 {color: black;background-color: white;}#sk-container-id-13 pre{padding: 0;}#sk-container-id-13 div.sk-toggleable {background-color: white;}#sk-container-id-13 label.sk-toggleable__label {cursor: pointer;display: block;width: 100%;margin-bottom: 0;padding: 0.3em;box-sizing: border-box;text-align: center;}#sk-container-id-13 label.sk-toggleable__label-arrow:before {content: \"▸\";float: left;margin-right: 0.25em;color: #696969;}#sk-container-id-13 label.sk-toggleable__label-arrow:hover:before {color: black;}#sk-container-id-13 div.sk-estimator:hover label.sk-toggleable__label-arrow:before {color: black;}#sk-container-id-13 div.sk-toggleable__content {max-height: 0;max-width: 0;overflow: hidden;text-align: left;background-color: #f0f8ff;}#sk-container-id-13 div.sk-toggleable__content pre {margin: 0.2em;color: black;border-radius: 0.25em;background-color: #f0f8ff;}#sk-container-id-13 input.sk-toggleable__control:checked~div.sk-toggleable__content {max-height: 200px;max-width: 100%;overflow: auto;}#sk-container-id-13 input.sk-toggleable__control:checked~label.sk-toggleable__label-arrow:before {content: \"▾\";}#sk-container-id-13 div.sk-estimator input.sk-toggleable__control:checked~label.sk-toggleable__label {background-color: #d4ebff;}#sk-container-id-13 div.sk-label input.sk-toggleable__control:checked~label.sk-toggleable__label {background-color: #d4ebff;}#sk-container-id-13 input.sk-hidden--visually {border: 0;clip: rect(1px 1px 1px 1px);clip: rect(1px, 1px, 1px, 1px);height: 1px;margin: -1px;overflow: hidden;padding: 0;position: absolute;width: 1px;}#sk-container-id-13 div.sk-estimator {font-family: monospace;background-color: #f0f8ff;border: 1px dotted black;border-radius: 0.25em;box-sizing: border-box;margin-bottom: 0.5em;}#sk-container-id-13 div.sk-estimator:hover {background-color: #d4ebff;}#sk-container-id-13 div.sk-parallel-item::after {content: \"\";width: 100%;border-bottom: 1px solid gray;flex-grow: 1;}#sk-container-id-13 div.sk-label:hover label.sk-toggleable__label {background-color: #d4ebff;}#sk-container-id-13 div.sk-serial::before {content: \"\";position: absolute;border-left: 1px solid gray;box-sizing: border-box;top: 0;bottom: 0;left: 50%;z-index: 0;}#sk-container-id-13 div.sk-serial {display: flex;flex-direction: column;align-items: center;background-color: white;padding-right: 0.2em;padding-left: 0.2em;position: relative;}#sk-container-id-13 div.sk-item {position: relative;z-index: 1;}#sk-container-id-13 div.sk-parallel {display: flex;align-items: stretch;justify-content: center;background-color: white;position: relative;}#sk-container-id-13 div.sk-item::before, #sk-container-id-13 div.sk-parallel-item::before {content: \"\";position: absolute;border-left: 1px solid gray;box-sizing: border-box;top: 0;bottom: 0;left: 50%;z-index: -1;}#sk-container-id-13 div.sk-parallel-item {display: flex;flex-direction: column;z-index: 1;position: relative;background-color: white;}#sk-container-id-13 div.sk-parallel-item:first-child::after {align-self: flex-end;width: 50%;}#sk-container-id-13 div.sk-parallel-item:last-child::after {align-self: flex-start;width: 50%;}#sk-container-id-13 div.sk-parallel-item:only-child::after {width: 0;}#sk-container-id-13 div.sk-dashed-wrapped {border: 1px dashed gray;margin: 0 0.4em 0.5em 0.4em;box-sizing: border-box;padding-bottom: 0.4em;background-color: white;}#sk-container-id-13 div.sk-label label {font-family: monospace;font-weight: bold;display: inline-block;line-height: 1.2em;}#sk-container-id-13 div.sk-label-container {text-align: center;}#sk-container-id-13 div.sk-container {/* jupyter's `normalize.less` sets `[hidden] { display: none; }` but bootstrap.min.css set `[hidden] { display: none !important; }` so we also need the `!important` here to be able to override the default hidden behavior on the sphinx rendered scikit-learn.org. See: https://github.com/scikit-learn/scikit-learn/issues/21755 */display: inline-block !important;position: relative;}#sk-container-id-13 div.sk-text-repr-fallback {display: none;}</style><div id=\"sk-container-id-13\" class=\"sk-top-container\"><div class=\"sk-text-repr-fallback\"><pre>IsolationForest(contamination=0.3, max_features=30, max_samples=500,\n",
       "                n_estimators=1500, random_state=1142)</pre><b>In a Jupyter environment, please rerun this cell to show the HTML representation or trust the notebook. <br />On GitHub, the HTML representation is unable to render, please try loading this page with nbviewer.org.</b></div><div class=\"sk-container\" hidden><div class=\"sk-item\"><div class=\"sk-estimator sk-toggleable\"><input class=\"sk-toggleable__control sk-hidden--visually\" id=\"sk-estimator-id-13\" type=\"checkbox\" checked><label for=\"sk-estimator-id-13\" class=\"sk-toggleable__label sk-toggleable__label-arrow\">IsolationForest</label><div class=\"sk-toggleable__content\"><pre>IsolationForest(contamination=0.3, max_features=30, max_samples=500,\n",
       "                n_estimators=1500, random_state=1142)</pre></div></div></div></div></div>"
      ],
      "text/plain": [
       "IsolationForest(contamination=0.3, max_features=30, max_samples=500,\n",
       "                n_estimators=1500, random_state=1142)"
      ]
     },
     "execution_count": 98,
     "metadata": {},
     "output_type": "execute_result"
    }
   ],
   "source": [
    "clf = IsolationForest(max_samples=500, max_features=30, n_estimators = 1500, contamination = 0.3, random_state=1142)\n",
    "clf.fit(train)"
   ]
  },
  {
   "cell_type": "code",
   "execution_count": 99,
   "id": "15ca3c2b",
   "metadata": {},
   "outputs": [],
   "source": [
    "t_pred = clf.predict(train)"
   ]
  },
  {
   "cell_type": "code",
   "execution_count": 100,
   "id": "baa0ad83",
   "metadata": {},
   "outputs": [],
   "source": [
    "predd = pd.DataFrame(t_pred, columns = ['pred'])"
   ]
  },
  {
   "cell_type": "code",
   "execution_count": 101,
   "id": "60550fe2",
   "metadata": {},
   "outputs": [
    {
     "data": {
      "text/plain": [
       " 1    418\n",
       "-1    180\n",
       "Name: pred, dtype: int64"
      ]
     },
     "execution_count": 101,
     "metadata": {},
     "output_type": "execute_result"
    }
   ],
   "source": [
    "predd['pred'].value_counts()"
   ]
  },
  {
   "cell_type": "code",
   "execution_count": 102,
   "id": "26a9e6d4",
   "metadata": {},
   "outputs": [
    {
     "data": {
      "text/html": [
       "<div>\n",
       "<style scoped>\n",
       "    .dataframe tbody tr th:only-of-type {\n",
       "        vertical-align: middle;\n",
       "    }\n",
       "\n",
       "    .dataframe tbody tr th {\n",
       "        vertical-align: top;\n",
       "    }\n",
       "\n",
       "    .dataframe thead th {\n",
       "        text-align: right;\n",
       "    }\n",
       "</style>\n",
       "<table border=\"1\" class=\"dataframe\">\n",
       "  <thead>\n",
       "    <tr style=\"text-align: right;\">\n",
       "      <th></th>\n",
       "      <th>pred</th>\n",
       "      <th>Y_Class</th>\n",
       "    </tr>\n",
       "  </thead>\n",
       "  <tbody>\n",
       "    <tr>\n",
       "      <th>pred</th>\n",
       "      <td>1.000000</td>\n",
       "      <td>-0.016046</td>\n",
       "    </tr>\n",
       "    <tr>\n",
       "      <th>Y_Class</th>\n",
       "      <td>-0.016046</td>\n",
       "      <td>1.000000</td>\n",
       "    </tr>\n",
       "  </tbody>\n",
       "</table>\n",
       "</div>"
      ],
      "text/plain": [
       "             pred   Y_Class\n",
       "pred     1.000000 -0.016046\n",
       "Y_Class -0.016046  1.000000"
      ]
     },
     "execution_count": 102,
     "metadata": {},
     "output_type": "execute_result"
    }
   ],
   "source": [
    "pd.concat([predd,y],axis = 1).corr()"
   ]
  },
  {
   "cell_type": "code",
   "execution_count": 97,
   "id": "5f7261a7",
   "metadata": {},
   "outputs": [],
   "source": [
    "kk = pd.concat([predd,y],axis = 1)"
   ]
  },
  {
   "cell_type": "code",
   "execution_count": 8,
   "id": "cf8196f6",
   "metadata": {},
   "outputs": [],
   "source": [
    "model = CatBoostRegressor(random_state=1234,\n",
    "                          verbose=500,\n",
    "                          iterations=1500,\n",
    "                          learning_rate=0.033)"
   ]
  },
  {
   "cell_type": "code",
   "execution_count": 17,
   "id": "a0bddc47",
   "metadata": {},
   "outputs": [
    {
     "name": "stdout",
     "output_type": "stream",
     "text": [
      "0:\tlearn: 0.0098329\ttotal: 19.5ms\tremaining: 29.2s\n",
      "500:\tlearn: 0.0006581\ttotal: 7.27s\tremaining: 14.5s\n",
      "1000:\tlearn: 0.0000632\ttotal: 14.6s\tremaining: 7.26s\n",
      "1499:\tlearn: 0.0000061\ttotal: 21.8s\tremaining: 0us\n"
     ]
    }
   ],
   "source": [
    "cb_model = model.fit(x_train,y_train)"
   ]
  },
  {
   "cell_type": "code",
   "execution_count": null,
   "id": "c537920e",
   "metadata": {},
   "outputs": [],
   "source": [
    "from sklearn.preprocessing"
   ]
  }
 ],
 "metadata": {
  "kernelspec": {
   "display_name": "Python 3 (ipykernel)",
   "language": "python",
   "name": "python3"
  },
  "language_info": {
   "codemirror_mode": {
    "name": "ipython",
    "version": 3
   },
   "file_extension": ".py",
   "mimetype": "text/x-python",
   "name": "python",
   "nbconvert_exporter": "python",
   "pygments_lexer": "ipython3",
   "version": "3.9.16"
  }
 },
 "nbformat": 4,
 "nbformat_minor": 5
}
